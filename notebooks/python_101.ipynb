{
 "cells": [
  {
   "cell_type": "markdown",
   "id": "e21bf151",
   "metadata": {},
   "source": [
    "Дан лист чисел. Каждое число встречается в этом листе два раза. При этом в листе имеется одно число, которое встречается ровно один раз. Вывести это число. Решение оформить в виде функции и вызывающего её кода."
   ]
  },
  {
   "cell_type": "code",
   "execution_count": 1,
   "id": "993d8a53",
   "metadata": {},
   "outputs": [],
   "source": [
    "def output_number(numbers):\n",
    "    unique_numbers = set()\n",
    "    duplicate_numbers = set()\n",
    "    \n",
    "    for elem in numbers:\n",
    "        if elem not in unique_numbers:\n",
    "            unique_numbers.add(elem)\n",
    "        else:\n",
    "            duplicate_numbers.add(elem)\n",
    "    \n",
    "    result = unique_numbers ^ duplicate_numbers\n",
    "    \n",
    "    print(*result)\n"
   ]
  },
  {
   "cell_type": "code",
   "execution_count": 2,
   "id": "755dd835",
   "metadata": {},
   "outputs": [
    {
     "name": "stdout",
     "output_type": "stream",
     "text": [
      "5\n"
     ]
    }
   ],
   "source": [
    "my_list = [1,1,2,2,3,3,4,4,5]\n",
    "output_number(my_list)"
   ]
  },
  {
   "cell_type": "code",
   "execution_count": null,
   "id": "c248d308",
   "metadata": {},
   "outputs": [],
   "source": []
  }
 ],
 "metadata": {
  "kernelspec": {
   "display_name": "Python 3",
   "language": "python",
   "name": "python3"
  },
  "language_info": {
   "codemirror_mode": {
    "name": "ipython",
    "version": 3
   },
   "file_extension": ".py",
   "mimetype": "text/x-python",
   "name": "python",
   "nbconvert_exporter": "python",
   "pygments_lexer": "ipython3",
   "version": "3.8.8"
  }
 },
 "nbformat": 4,
 "nbformat_minor": 5
}
