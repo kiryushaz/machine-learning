{
 "cells": [
  {
   "cell_type": "code",
   "execution_count": 1,
   "id": "9946ca3e",
   "metadata": {},
   "outputs": [],
   "source": [
    "import pandas as pd\n",
    "import numpy as np\n",
    "\n",
    "from sklearn.feature_selection import SelectKBest, chi2, RFE\n",
    "from sklearn.linear_model import LogisticRegression\n",
    "from sklearn.ensemble import ExtraTreesClassifier\n",
    "from sklearn.decomposition import PCA\n",
    "from sklearn.model_selection import GridSearchCV\n",
    "from sklearn.metrics import classification_report, confusion_matrix, silhouette_score"
   ]
  },
  {
   "cell_type": "code",
   "execution_count": 2,
   "id": "be3a3d52",
   "metadata": {},
   "outputs": [],
   "source": [
    "import warnings\n",
    "warnings.filterwarnings(\"ignore\")"
   ]
  },
  {
   "cell_type": "code",
   "execution_count": 3,
   "id": "e1642855",
   "metadata": {},
   "outputs": [],
   "source": [
    "df = pd.read_csv(\"../data/water_potability_preprocessed.csv\")\n",
    "# df = df.iloc[:, 1:]\n",
    "df = df.iloc[::100, 1:]"
   ]
  },
  {
   "cell_type": "code",
   "execution_count": 4,
   "id": "6171e1c0",
   "metadata": {},
   "outputs": [
    {
     "data": {
      "text/html": [
       "<div>\n",
       "<style scoped>\n",
       "    .dataframe tbody tr th:only-of-type {\n",
       "        vertical-align: middle;\n",
       "    }\n",
       "\n",
       "    .dataframe tbody tr th {\n",
       "        vertical-align: top;\n",
       "    }\n",
       "\n",
       "    .dataframe thead th {\n",
       "        text-align: right;\n",
       "    }\n",
       "</style>\n",
       "<table border=\"1\" class=\"dataframe\">\n",
       "  <thead>\n",
       "    <tr style=\"text-align: right;\">\n",
       "      <th></th>\n",
       "      <th>ph</th>\n",
       "      <th>Hardness</th>\n",
       "      <th>Solids</th>\n",
       "      <th>Chloramines</th>\n",
       "      <th>Sulfate</th>\n",
       "      <th>Conductivity</th>\n",
       "      <th>Organic_carbon</th>\n",
       "      <th>Trihalomethanes</th>\n",
       "      <th>Turbidity</th>\n",
       "      <th>Potability</th>\n",
       "    </tr>\n",
       "  </thead>\n",
       "  <tbody>\n",
       "    <tr>\n",
       "      <th>0</th>\n",
       "      <td>7.080795</td>\n",
       "      <td>204.890455</td>\n",
       "      <td>20791.318981</td>\n",
       "      <td>7.300212</td>\n",
       "      <td>368.516441</td>\n",
       "      <td>564.308654</td>\n",
       "      <td>10.379783</td>\n",
       "      <td>86.990970</td>\n",
       "      <td>2.963135</td>\n",
       "      <td>0</td>\n",
       "    </tr>\n",
       "    <tr>\n",
       "      <th>100</th>\n",
       "      <td>4.270716</td>\n",
       "      <td>166.837709</td>\n",
       "      <td>24405.250535</td>\n",
       "      <td>7.391510</td>\n",
       "      <td>297.206739</td>\n",
       "      <td>349.518910</td>\n",
       "      <td>13.478526</td>\n",
       "      <td>54.474840</td>\n",
       "      <td>3.763906</td>\n",
       "      <td>0</td>\n",
       "    </tr>\n",
       "    <tr>\n",
       "      <th>200</th>\n",
       "      <td>5.970036</td>\n",
       "      <td>230.449329</td>\n",
       "      <td>16324.115196</td>\n",
       "      <td>5.293919</td>\n",
       "      <td>315.186121</td>\n",
       "      <td>327.786642</td>\n",
       "      <td>13.325987</td>\n",
       "      <td>39.554249</td>\n",
       "      <td>5.428674</td>\n",
       "      <td>0</td>\n",
       "    </tr>\n",
       "    <tr>\n",
       "      <th>300</th>\n",
       "      <td>7.080795</td>\n",
       "      <td>225.287704</td>\n",
       "      <td>22511.692615</td>\n",
       "      <td>7.057578</td>\n",
       "      <td>377.128970</td>\n",
       "      <td>291.353701</td>\n",
       "      <td>11.590025</td>\n",
       "      <td>72.508523</td>\n",
       "      <td>4.081701</td>\n",
       "      <td>1</td>\n",
       "    </tr>\n",
       "    <tr>\n",
       "      <th>400</th>\n",
       "      <td>6.259652</td>\n",
       "      <td>208.379430</td>\n",
       "      <td>37356.746401</td>\n",
       "      <td>8.565487</td>\n",
       "      <td>256.473839</td>\n",
       "      <td>380.240193</td>\n",
       "      <td>5.567693</td>\n",
       "      <td>68.441865</td>\n",
       "      <td>4.213405</td>\n",
       "      <td>1</td>\n",
       "    </tr>\n",
       "    <tr>\n",
       "      <th>500</th>\n",
       "      <td>6.109073</td>\n",
       "      <td>191.755571</td>\n",
       "      <td>26853.949493</td>\n",
       "      <td>9.064613</td>\n",
       "      <td>312.201984</td>\n",
       "      <td>375.547362</td>\n",
       "      <td>15.514033</td>\n",
       "      <td>73.789683</td>\n",
       "      <td>4.881101</td>\n",
       "      <td>0</td>\n",
       "    </tr>\n",
       "    <tr>\n",
       "      <th>600</th>\n",
       "      <td>7.080795</td>\n",
       "      <td>233.020134</td>\n",
       "      <td>27071.118618</td>\n",
       "      <td>6.220936</td>\n",
       "      <td>298.112645</td>\n",
       "      <td>357.119622</td>\n",
       "      <td>16.768945</td>\n",
       "      <td>51.284401</td>\n",
       "      <td>4.284879</td>\n",
       "      <td>0</td>\n",
       "    </tr>\n",
       "    <tr>\n",
       "      <th>700</th>\n",
       "      <td>7.802426</td>\n",
       "      <td>232.670280</td>\n",
       "      <td>14382.902158</td>\n",
       "      <td>7.626923</td>\n",
       "      <td>333.775777</td>\n",
       "      <td>413.292183</td>\n",
       "      <td>15.495603</td>\n",
       "      <td>42.002082</td>\n",
       "      <td>4.363530</td>\n",
       "      <td>1</td>\n",
       "    </tr>\n",
       "    <tr>\n",
       "      <th>800</th>\n",
       "      <td>7.296573</td>\n",
       "      <td>197.646951</td>\n",
       "      <td>22535.085158</td>\n",
       "      <td>9.288200</td>\n",
       "      <td>323.449054</td>\n",
       "      <td>353.062907</td>\n",
       "      <td>6.039669</td>\n",
       "      <td>82.536173</td>\n",
       "      <td>4.679169</td>\n",
       "      <td>1</td>\n",
       "    </tr>\n",
       "    <tr>\n",
       "      <th>900</th>\n",
       "      <td>7.080795</td>\n",
       "      <td>191.348259</td>\n",
       "      <td>14017.372066</td>\n",
       "      <td>6.490700</td>\n",
       "      <td>345.560481</td>\n",
       "      <td>423.978389</td>\n",
       "      <td>11.863248</td>\n",
       "      <td>65.791687</td>\n",
       "      <td>4.167336</td>\n",
       "      <td>0</td>\n",
       "    </tr>\n",
       "    <tr>\n",
       "      <th>1000</th>\n",
       "      <td>6.648849</td>\n",
       "      <td>181.688122</td>\n",
       "      <td>30733.503838</td>\n",
       "      <td>5.961272</td>\n",
       "      <td>343.925222</td>\n",
       "      <td>257.704179</td>\n",
       "      <td>17.758444</td>\n",
       "      <td>35.296181</td>\n",
       "      <td>4.827527</td>\n",
       "      <td>0</td>\n",
       "    </tr>\n",
       "    <tr>\n",
       "      <th>1100</th>\n",
       "      <td>7.080795</td>\n",
       "      <td>213.041191</td>\n",
       "      <td>12036.643044</td>\n",
       "      <td>9.794730</td>\n",
       "      <td>349.171395</td>\n",
       "      <td>284.017995</td>\n",
       "      <td>12.419906</td>\n",
       "      <td>74.674383</td>\n",
       "      <td>3.898916</td>\n",
       "      <td>1</td>\n",
       "    </tr>\n",
       "    <tr>\n",
       "      <th>1200</th>\n",
       "      <td>8.016279</td>\n",
       "      <td>211.029304</td>\n",
       "      <td>14034.485799</td>\n",
       "      <td>9.797000</td>\n",
       "      <td>389.338796</td>\n",
       "      <td>491.079082</td>\n",
       "      <td>14.512991</td>\n",
       "      <td>35.565966</td>\n",
       "      <td>4.308223</td>\n",
       "      <td>1</td>\n",
       "    </tr>\n",
       "    <tr>\n",
       "      <th>1300</th>\n",
       "      <td>7.086877</td>\n",
       "      <td>192.387368</td>\n",
       "      <td>25524.823470</td>\n",
       "      <td>7.354035</td>\n",
       "      <td>322.740031</td>\n",
       "      <td>548.917718</td>\n",
       "      <td>14.524408</td>\n",
       "      <td>64.124391</td>\n",
       "      <td>3.992848</td>\n",
       "      <td>0</td>\n",
       "    </tr>\n",
       "    <tr>\n",
       "      <th>1400</th>\n",
       "      <td>9.149734</td>\n",
       "      <td>230.561899</td>\n",
       "      <td>30468.641826</td>\n",
       "      <td>7.667655</td>\n",
       "      <td>337.557972</td>\n",
       "      <td>539.625037</td>\n",
       "      <td>16.133499</td>\n",
       "      <td>58.134527</td>\n",
       "      <td>5.436819</td>\n",
       "      <td>0</td>\n",
       "    </tr>\n",
       "    <tr>\n",
       "      <th>1500</th>\n",
       "      <td>6.897923</td>\n",
       "      <td>173.390928</td>\n",
       "      <td>16616.516617</td>\n",
       "      <td>6.352934</td>\n",
       "      <td>329.339768</td>\n",
       "      <td>337.436088</td>\n",
       "      <td>12.446976</td>\n",
       "      <td>60.159413</td>\n",
       "      <td>4.490105</td>\n",
       "      <td>1</td>\n",
       "    </tr>\n",
       "    <tr>\n",
       "      <th>1600</th>\n",
       "      <td>7.274198</td>\n",
       "      <td>156.110829</td>\n",
       "      <td>16255.901371</td>\n",
       "      <td>7.654550</td>\n",
       "      <td>381.180466</td>\n",
       "      <td>591.801472</td>\n",
       "      <td>12.312493</td>\n",
       "      <td>59.680518</td>\n",
       "      <td>3.152763</td>\n",
       "      <td>1</td>\n",
       "    </tr>\n",
       "    <tr>\n",
       "      <th>1700</th>\n",
       "      <td>7.700362</td>\n",
       "      <td>220.571796</td>\n",
       "      <td>29432.208251</td>\n",
       "      <td>6.356294</td>\n",
       "      <td>322.750328</td>\n",
       "      <td>444.957618</td>\n",
       "      <td>13.027439</td>\n",
       "      <td>77.829802</td>\n",
       "      <td>3.786487</td>\n",
       "      <td>0</td>\n",
       "    </tr>\n",
       "    <tr>\n",
       "      <th>1800</th>\n",
       "      <td>7.488133</td>\n",
       "      <td>177.353052</td>\n",
       "      <td>24786.050528</td>\n",
       "      <td>8.613304</td>\n",
       "      <td>369.210671</td>\n",
       "      <td>387.868075</td>\n",
       "      <td>14.149473</td>\n",
       "      <td>48.965996</td>\n",
       "      <td>3.474035</td>\n",
       "      <td>0</td>\n",
       "    </tr>\n",
       "    <tr>\n",
       "      <th>1900</th>\n",
       "      <td>7.754884</td>\n",
       "      <td>210.720769</td>\n",
       "      <td>18857.058497</td>\n",
       "      <td>5.693752</td>\n",
       "      <td>376.484622</td>\n",
       "      <td>375.672691</td>\n",
       "      <td>14.708599</td>\n",
       "      <td>43.299820</td>\n",
       "      <td>5.128390</td>\n",
       "      <td>1</td>\n",
       "    </tr>\n",
       "    <tr>\n",
       "      <th>2000</th>\n",
       "      <td>7.442023</td>\n",
       "      <td>194.763871</td>\n",
       "      <td>34565.701690</td>\n",
       "      <td>8.493348</td>\n",
       "      <td>294.836218</td>\n",
       "      <td>350.085116</td>\n",
       "      <td>18.962014</td>\n",
       "      <td>79.958321</td>\n",
       "      <td>2.894651</td>\n",
       "      <td>1</td>\n",
       "    </tr>\n",
       "    <tr>\n",
       "      <th>2100</th>\n",
       "      <td>4.894278</td>\n",
       "      <td>184.552715</td>\n",
       "      <td>10922.541994</td>\n",
       "      <td>7.461703</td>\n",
       "      <td>352.830222</td>\n",
       "      <td>338.681069</td>\n",
       "      <td>21.624718</td>\n",
       "      <td>91.007934</td>\n",
       "      <td>3.594991</td>\n",
       "      <td>0</td>\n",
       "    </tr>\n",
       "    <tr>\n",
       "      <th>2200</th>\n",
       "      <td>7.080795</td>\n",
       "      <td>188.395023</td>\n",
       "      <td>21875.216397</td>\n",
       "      <td>7.141372</td>\n",
       "      <td>408.855902</td>\n",
       "      <td>616.121340</td>\n",
       "      <td>8.974388</td>\n",
       "      <td>59.708017</td>\n",
       "      <td>4.123239</td>\n",
       "      <td>0</td>\n",
       "    </tr>\n",
       "    <tr>\n",
       "      <th>2300</th>\n",
       "      <td>2.974429</td>\n",
       "      <td>147.148675</td>\n",
       "      <td>17326.202253</td>\n",
       "      <td>2.498597</td>\n",
       "      <td>393.168745</td>\n",
       "      <td>375.411470</td>\n",
       "      <td>12.798187</td>\n",
       "      <td>76.413069</td>\n",
       "      <td>2.779902</td>\n",
       "      <td>1</td>\n",
       "    </tr>\n",
       "    <tr>\n",
       "      <th>2400</th>\n",
       "      <td>3.800431</td>\n",
       "      <td>111.246412</td>\n",
       "      <td>14904.940387</td>\n",
       "      <td>7.729645</td>\n",
       "      <td>418.559347</td>\n",
       "      <td>382.224370</td>\n",
       "      <td>15.872221</td>\n",
       "      <td>66.396293</td>\n",
       "      <td>4.473976</td>\n",
       "      <td>1</td>\n",
       "    </tr>\n",
       "    <tr>\n",
       "      <th>2500</th>\n",
       "      <td>7.080795</td>\n",
       "      <td>202.569467</td>\n",
       "      <td>22256.950365</td>\n",
       "      <td>6.913501</td>\n",
       "      <td>304.951498</td>\n",
       "      <td>434.198436</td>\n",
       "      <td>13.696893</td>\n",
       "      <td>64.205667</td>\n",
       "      <td>4.478070</td>\n",
       "      <td>0</td>\n",
       "    </tr>\n",
       "    <tr>\n",
       "      <th>2600</th>\n",
       "      <td>7.080795</td>\n",
       "      <td>191.301359</td>\n",
       "      <td>17540.576643</td>\n",
       "      <td>8.779726</td>\n",
       "      <td>333.775777</td>\n",
       "      <td>323.812116</td>\n",
       "      <td>19.072827</td>\n",
       "      <td>61.560328</td>\n",
       "      <td>4.129301</td>\n",
       "      <td>0</td>\n",
       "    </tr>\n",
       "    <tr>\n",
       "      <th>2700</th>\n",
       "      <td>7.117579</td>\n",
       "      <td>186.199680</td>\n",
       "      <td>31528.948690</td>\n",
       "      <td>6.387037</td>\n",
       "      <td>335.348881</td>\n",
       "      <td>380.578265</td>\n",
       "      <td>19.073996</td>\n",
       "      <td>75.903072</td>\n",
       "      <td>4.333402</td>\n",
       "      <td>0</td>\n",
       "    </tr>\n",
       "    <tr>\n",
       "      <th>2800</th>\n",
       "      <td>7.893313</td>\n",
       "      <td>220.348320</td>\n",
       "      <td>14444.289598</td>\n",
       "      <td>8.037400</td>\n",
       "      <td>300.152172</td>\n",
       "      <td>339.066071</td>\n",
       "      <td>18.423634</td>\n",
       "      <td>67.009098</td>\n",
       "      <td>4.097360</td>\n",
       "      <td>1</td>\n",
       "    </tr>\n",
       "    <tr>\n",
       "      <th>2900</th>\n",
       "      <td>6.970037</td>\n",
       "      <td>182.888589</td>\n",
       "      <td>32037.605471</td>\n",
       "      <td>7.412765</td>\n",
       "      <td>376.951932</td>\n",
       "      <td>325.792400</td>\n",
       "      <td>14.351241</td>\n",
       "      <td>70.052720</td>\n",
       "      <td>4.275288</td>\n",
       "      <td>0</td>\n",
       "    </tr>\n",
       "    <tr>\n",
       "      <th>3000</th>\n",
       "      <td>6.931244</td>\n",
       "      <td>207.588953</td>\n",
       "      <td>24359.470414</td>\n",
       "      <td>7.222004</td>\n",
       "      <td>313.819713</td>\n",
       "      <td>477.062975</td>\n",
       "      <td>16.495092</td>\n",
       "      <td>75.041914</td>\n",
       "      <td>4.897957</td>\n",
       "      <td>0</td>\n",
       "    </tr>\n",
       "    <tr>\n",
       "      <th>3100</th>\n",
       "      <td>6.481890</td>\n",
       "      <td>179.919711</td>\n",
       "      <td>34698.621160</td>\n",
       "      <td>8.538492</td>\n",
       "      <td>338.012323</td>\n",
       "      <td>504.397152</td>\n",
       "      <td>16.409364</td>\n",
       "      <td>59.954815</td>\n",
       "      <td>5.002361</td>\n",
       "      <td>0</td>\n",
       "    </tr>\n",
       "    <tr>\n",
       "      <th>3200</th>\n",
       "      <td>8.581043</td>\n",
       "      <td>153.709092</td>\n",
       "      <td>19970.434294</td>\n",
       "      <td>7.661687</td>\n",
       "      <td>312.885127</td>\n",
       "      <td>520.808359</td>\n",
       "      <td>14.781584</td>\n",
       "      <td>74.127793</td>\n",
       "      <td>2.883145</td>\n",
       "      <td>1</td>\n",
       "    </tr>\n",
       "  </tbody>\n",
       "</table>\n",
       "</div>"
      ],
      "text/plain": [
       "            ph    Hardness        Solids  Chloramines     Sulfate  \\\n",
       "0     7.080795  204.890455  20791.318981     7.300212  368.516441   \n",
       "100   4.270716  166.837709  24405.250535     7.391510  297.206739   \n",
       "200   5.970036  230.449329  16324.115196     5.293919  315.186121   \n",
       "300   7.080795  225.287704  22511.692615     7.057578  377.128970   \n",
       "400   6.259652  208.379430  37356.746401     8.565487  256.473839   \n",
       "500   6.109073  191.755571  26853.949493     9.064613  312.201984   \n",
       "600   7.080795  233.020134  27071.118618     6.220936  298.112645   \n",
       "700   7.802426  232.670280  14382.902158     7.626923  333.775777   \n",
       "800   7.296573  197.646951  22535.085158     9.288200  323.449054   \n",
       "900   7.080795  191.348259  14017.372066     6.490700  345.560481   \n",
       "1000  6.648849  181.688122  30733.503838     5.961272  343.925222   \n",
       "1100  7.080795  213.041191  12036.643044     9.794730  349.171395   \n",
       "1200  8.016279  211.029304  14034.485799     9.797000  389.338796   \n",
       "1300  7.086877  192.387368  25524.823470     7.354035  322.740031   \n",
       "1400  9.149734  230.561899  30468.641826     7.667655  337.557972   \n",
       "1500  6.897923  173.390928  16616.516617     6.352934  329.339768   \n",
       "1600  7.274198  156.110829  16255.901371     7.654550  381.180466   \n",
       "1700  7.700362  220.571796  29432.208251     6.356294  322.750328   \n",
       "1800  7.488133  177.353052  24786.050528     8.613304  369.210671   \n",
       "1900  7.754884  210.720769  18857.058497     5.693752  376.484622   \n",
       "2000  7.442023  194.763871  34565.701690     8.493348  294.836218   \n",
       "2100  4.894278  184.552715  10922.541994     7.461703  352.830222   \n",
       "2200  7.080795  188.395023  21875.216397     7.141372  408.855902   \n",
       "2300  2.974429  147.148675  17326.202253     2.498597  393.168745   \n",
       "2400  3.800431  111.246412  14904.940387     7.729645  418.559347   \n",
       "2500  7.080795  202.569467  22256.950365     6.913501  304.951498   \n",
       "2600  7.080795  191.301359  17540.576643     8.779726  333.775777   \n",
       "2700  7.117579  186.199680  31528.948690     6.387037  335.348881   \n",
       "2800  7.893313  220.348320  14444.289598     8.037400  300.152172   \n",
       "2900  6.970037  182.888589  32037.605471     7.412765  376.951932   \n",
       "3000  6.931244  207.588953  24359.470414     7.222004  313.819713   \n",
       "3100  6.481890  179.919711  34698.621160     8.538492  338.012323   \n",
       "3200  8.581043  153.709092  19970.434294     7.661687  312.885127   \n",
       "\n",
       "      Conductivity  Organic_carbon  Trihalomethanes  Turbidity  Potability  \n",
       "0       564.308654       10.379783        86.990970   2.963135           0  \n",
       "100     349.518910       13.478526        54.474840   3.763906           0  \n",
       "200     327.786642       13.325987        39.554249   5.428674           0  \n",
       "300     291.353701       11.590025        72.508523   4.081701           1  \n",
       "400     380.240193        5.567693        68.441865   4.213405           1  \n",
       "500     375.547362       15.514033        73.789683   4.881101           0  \n",
       "600     357.119622       16.768945        51.284401   4.284879           0  \n",
       "700     413.292183       15.495603        42.002082   4.363530           1  \n",
       "800     353.062907        6.039669        82.536173   4.679169           1  \n",
       "900     423.978389       11.863248        65.791687   4.167336           0  \n",
       "1000    257.704179       17.758444        35.296181   4.827527           0  \n",
       "1100    284.017995       12.419906        74.674383   3.898916           1  \n",
       "1200    491.079082       14.512991        35.565966   4.308223           1  \n",
       "1300    548.917718       14.524408        64.124391   3.992848           0  \n",
       "1400    539.625037       16.133499        58.134527   5.436819           0  \n",
       "1500    337.436088       12.446976        60.159413   4.490105           1  \n",
       "1600    591.801472       12.312493        59.680518   3.152763           1  \n",
       "1700    444.957618       13.027439        77.829802   3.786487           0  \n",
       "1800    387.868075       14.149473        48.965996   3.474035           0  \n",
       "1900    375.672691       14.708599        43.299820   5.128390           1  \n",
       "2000    350.085116       18.962014        79.958321   2.894651           1  \n",
       "2100    338.681069       21.624718        91.007934   3.594991           0  \n",
       "2200    616.121340        8.974388        59.708017   4.123239           0  \n",
       "2300    375.411470       12.798187        76.413069   2.779902           1  \n",
       "2400    382.224370       15.872221        66.396293   4.473976           1  \n",
       "2500    434.198436       13.696893        64.205667   4.478070           0  \n",
       "2600    323.812116       19.072827        61.560328   4.129301           0  \n",
       "2700    380.578265       19.073996        75.903072   4.333402           0  \n",
       "2800    339.066071       18.423634        67.009098   4.097360           1  \n",
       "2900    325.792400       14.351241        70.052720   4.275288           0  \n",
       "3000    477.062975       16.495092        75.041914   4.897957           0  \n",
       "3100    504.397152       16.409364        59.954815   5.002361           0  \n",
       "3200    520.808359       14.781584        74.127793   2.883145           1  "
      ]
     },
     "execution_count": 4,
     "metadata": {},
     "output_type": "execute_result"
    }
   ],
   "source": [
    "df"
   ]
  },
  {
   "cell_type": "code",
   "execution_count": 5,
   "id": "f1e7e5c2",
   "metadata": {},
   "outputs": [],
   "source": [
    "X = df.iloc[:, :-1].values\n",
    "Y = df['Potability'].values"
   ]
  },
  {
   "cell_type": "code",
   "execution_count": 6,
   "id": "dfbaaa5f",
   "metadata": {},
   "outputs": [
    {
     "name": "stdout",
     "output_type": "stream",
     "text": [
      "ph, Hardness, Solids, Chloramines, Sulfate, Conductivity, Organic_carbon, Trihalomethanes, Turbidity, Potability\n",
      "Кол-во признаков: 10\n"
     ]
    }
   ],
   "source": [
    "columns = df.columns.values\n",
    "print(', '.join(columns))\n",
    "print(\"Кол-во признаков:\", len(columns))"
   ]
  },
  {
   "cell_type": "markdown",
   "id": "1c3d8566",
   "metadata": {},
   "source": [
    "# Task 1"
   ]
  },
  {
   "cell_type": "markdown",
   "id": "21ead75a",
   "metadata": {},
   "source": [
    "**Одномерный отбор признаков**"
   ]
  },
  {
   "cell_type": "code",
   "execution_count": 7,
   "id": "1ab689f4",
   "metadata": {},
   "outputs": [
    {
     "data": {
      "text/plain": [
       "SelectKBest(k=4, score_func=<function chi2 at 0x000001EB2F5C80D0>)"
      ]
     },
     "execution_count": 7,
     "metadata": {},
     "output_type": "execute_result"
    }
   ],
   "source": [
    "clf = SelectKBest(score_func=chi2, k=4)\n",
    "clf.fit(X, Y)"
   ]
  },
  {
   "cell_type": "code",
   "execution_count": 8,
   "id": "0a7605f4",
   "metadata": {},
   "outputs": [
    {
     "name": "stdout",
     "output_type": "stream",
     "text": [
      "[4.645e-03 2.269e+00 8.290e+03 1.328e-01 1.798e+00 1.557e+01 1.833e+00\n",
      " 4.621e-02 2.334e-01]\n"
     ]
    }
   ],
   "source": [
    "np.set_printoptions(precision=3)\n",
    "print(clf.scores_)"
   ]
  },
  {
   "cell_type": "code",
   "execution_count": 9,
   "id": "c0bc4476",
   "metadata": {},
   "outputs": [
    {
     "name": "stdout",
     "output_type": "stream",
     "text": [
      "Лучшие признаки: Solids, Conductivity, Hardness, Organic_carbon\n"
     ]
    }
   ],
   "source": [
    "best_features = sorted(zip(clf.scores_, columns[:-1]), reverse=True)[:clf.k]\n",
    "print(\"Лучшие признаки:\", ', '.join([elem[1] for elem in best_features]))"
   ]
  },
  {
   "cell_type": "code",
   "execution_count": 10,
   "id": "f9ba9662",
   "metadata": {},
   "outputs": [
    {
     "name": "stdout",
     "output_type": "stream",
     "text": [
      "[[2.049e+02 2.079e+04 5.643e+02 1.038e+01]\n",
      " [1.668e+02 2.441e+04 3.495e+02 1.348e+01]\n",
      " [2.304e+02 1.632e+04 3.278e+02 1.333e+01]\n",
      " [2.253e+02 2.251e+04 2.914e+02 1.159e+01]\n",
      " [2.084e+02 3.736e+04 3.802e+02 5.568e+00]]\n"
     ]
    }
   ],
   "source": [
    "features = clf.transform(X)\n",
    "print(features[0:5,:])"
   ]
  },
  {
   "cell_type": "markdown",
   "id": "c50bb4ee",
   "metadata": {},
   "source": [
    "**Рекурсивное исключение признаков**"
   ]
  },
  {
   "cell_type": "code",
   "execution_count": 11,
   "id": "9e0a63d9",
   "metadata": {},
   "outputs": [
    {
     "name": "stdout",
     "output_type": "stream",
     "text": [
      "Num Features: 3\n",
      "Selected Features: [False False False  True False False  True False  True]\n",
      "Feature Ranking: [2 5 7 1 3 4 1 6 1]\n"
     ]
    }
   ],
   "source": [
    "model = LogisticRegression()\n",
    "rfe = RFE(model, 3)\n",
    "rfe.fit(X, Y)\n",
    "print(\"Num Features:\", rfe.n_features_)\n",
    "print(\"Selected Features:\", rfe.support_)\n",
    "print(\"Feature Ranking:\", rfe.ranking_)"
   ]
  },
  {
   "cell_type": "code",
   "execution_count": 12,
   "id": "c7fb761e",
   "metadata": {},
   "outputs": [
    {
     "name": "stdout",
     "output_type": "stream",
     "text": [
      "Лучшие признаки: Chloramines, Organic_carbon, Turbidity\n"
     ]
    }
   ],
   "source": [
    "best_features = list(filter(lambda x: x[0], zip(rfe.support_, columns[:-1])))\n",
    "print(\"Лучшие признаки:\", ', '.join([elem[1] for elem in best_features]))"
   ]
  },
  {
   "cell_type": "code",
   "execution_count": 13,
   "id": "61d94533",
   "metadata": {},
   "outputs": [
    {
     "name": "stdout",
     "output_type": "stream",
     "text": [
      "0.6363636363636364\n"
     ]
    }
   ],
   "source": [
    "print(rfe.score(X, Y))"
   ]
  },
  {
   "cell_type": "markdown",
   "id": "6428b2b2",
   "metadata": {},
   "source": [
    "**Отбор на основе важности признаков**"
   ]
  },
  {
   "cell_type": "code",
   "execution_count": 14,
   "id": "0d77249f",
   "metadata": {},
   "outputs": [
    {
     "name": "stdout",
     "output_type": "stream",
     "text": [
      "[0.118 0.142 0.18  0.099 0.088 0.084 0.126 0.076 0.086]\n"
     ]
    }
   ],
   "source": [
    "model = ExtraTreesClassifier()\n",
    "model.fit(X, Y)\n",
    "print(model.feature_importances_)"
   ]
  },
  {
   "cell_type": "code",
   "execution_count": 15,
   "id": "0f4c30d2",
   "metadata": {
    "scrolled": false
   },
   "outputs": [
    {
     "name": "stdout",
     "output_type": "stream",
     "text": [
      "3 лучших признака: Solids, Hardness, Organic_carbon\n"
     ]
    }
   ],
   "source": [
    "best_features = sorted(zip(model.feature_importances_, columns[:-1]), reverse=True)[:3]\n",
    "print(\"3 лучших признака:\", ', '.join([elem[1] for elem in best_features]))"
   ]
  },
  {
   "cell_type": "code",
   "execution_count": 16,
   "id": "5ef9547e",
   "metadata": {},
   "outputs": [
    {
     "name": "stdout",
     "output_type": "stream",
     "text": [
      "1.0\n"
     ]
    }
   ],
   "source": [
    "print(model.score(X, Y))"
   ]
  },
  {
   "cell_type": "markdown",
   "id": "88f7b80e",
   "metadata": {},
   "source": [
    "**Метод главных компонент**"
   ]
  },
  {
   "cell_type": "code",
   "execution_count": 17,
   "id": "933f5d2c",
   "metadata": {},
   "outputs": [],
   "source": [
    "pca = PCA(n_components=3)\n",
    "pca.fit(X)\n",
    "features = pca.transform(X)"
   ]
  },
  {
   "cell_type": "code",
   "execution_count": 18,
   "id": "76971163",
   "metadata": {
    "scrolled": true
   },
   "outputs": [
    {
     "name": "stdout",
     "output_type": "stream",
     "text": [
      "Explained Variance: [9.998e-01 1.666e-04 2.385e-05]\n",
      "[[-1.676e+03  1.586e+02 -1.484e+00]\n",
      " [ 1.938e+03 -6.228e+01 -1.239e+01]\n",
      " [-6.143e+03 -8.183e+01 -4.422e+01]\n",
      " [ 4.409e+01 -1.132e+02  2.682e+01]\n",
      " [ 1.489e+04 -4.092e+01 -4.646e+01]]\n"
     ]
    }
   ],
   "source": [
    "print(\"Explained Variance:\", pca.explained_variance_ratio_)\n",
    "print(features[0:5,:])"
   ]
  },
  {
   "cell_type": "markdown",
   "id": "f4689aaa",
   "metadata": {},
   "source": [
    "# Task 2"
   ]
  },
  {
   "cell_type": "markdown",
   "id": "6f21b776",
   "metadata": {},
   "source": [
    "**KMeans**"
   ]
  },
  {
   "cell_type": "code",
   "execution_count": 19,
   "id": "9c653ba6",
   "metadata": {
    "scrolled": true
   },
   "outputs": [
    {
     "name": "stdout",
     "output_type": "stream",
     "text": [
      "[0 1 0 0 1 1 1 0 0 0 1 0 0 1 1 0 0 1 1 0 1 0 0 0 0 0 0 1 0 1 1 1 0]\n"
     ]
    }
   ],
   "source": [
    "from sklearn.cluster import KMeans\n",
    "\n",
    "model = KMeans(n_clusters=2)\n",
    "model.fit(X)\n",
    "print(model.predict(X))"
   ]
  },
  {
   "cell_type": "code",
   "execution_count": 20,
   "id": "5c5cd17b",
   "metadata": {},
   "outputs": [
    {
     "name": "stdout",
     "output_type": "stream",
     "text": [
      "[[ 7 12]\n",
      " [12  2]]\n",
      "              precision    recall  f1-score   support\n",
      "\n",
      "           0       0.37      0.37      0.37        19\n",
      "           1       0.14      0.14      0.14        14\n",
      "\n",
      "    accuracy                           0.27        33\n",
      "   macro avg       0.26      0.26      0.26        33\n",
      "weighted avg       0.27      0.27      0.27        33\n",
      "\n",
      "0.5860149909091146\n"
     ]
    }
   ],
   "source": [
    "y_pred = model.predict(X)\n",
    "print(confusion_matrix(Y, y_pred))\n",
    "print(classification_report(Y, y_pred))\n",
    "print(silhouette_score(X, model.labels_))"
   ]
  },
  {
   "cell_type": "markdown",
   "id": "4e4301cf",
   "metadata": {},
   "source": [
    "**Иерархическая кластеризация**"
   ]
  },
  {
   "cell_type": "code",
   "execution_count": 21,
   "id": "6dc0a756",
   "metadata": {},
   "outputs": [
    {
     "data": {
      "image/png": "[encoded data removed]",
      "text/plain": [
       "<Figure size 432x288 with 1 Axes>"
      ]
     },
     "metadata": {
      "needs_background": "light"
     },
     "output_type": "display_data"
    }
   ],
   "source": [
    "from scipy.cluster.hierarchy import linkage, dendrogram\n",
    "import matplotlib.pyplot as plt\n",
    "\n",
    "varieties = list(df['Potability'])\n",
    "samples = df.values\n",
    "\n",
    "mergings = linkage(samples, method='complete')\n",
    "dendrogram(mergings, labels=varieties, leaf_rotation=90, leaf_font_size=6)\n",
    "plt.show()"
   ]
  },
  {
   "cell_type": "markdown",
   "id": "5e3df26d",
   "metadata": {},
   "source": [
    "**t-SNE**"
   ]
  },
  {
   "cell_type": "code",
   "execution_count": 22,
   "id": "c53df265",
   "metadata": {
    "scrolled": true
   },
   "outputs": [
    {
     "data": {
      "image/png": "[encoded data removed]",
      "text/plain": [
       "<Figure size 432x288 with 1 Axes>"
      ]
     },
     "metadata": {
      "needs_background": "light"
     },
     "output_type": "display_data"
    }
   ],
   "source": [
    "from sklearn.manifold import TSNE\n",
    "\n",
    "model = TSNE(learning_rate=100)\n",
    "transformed = model.fit_transform(X)\n",
    "\n",
    "x_axis = transformed[:, 0]\n",
    "y_axis = transformed[:, 1]\n",
    "\n",
    "plt.scatter(x_axis[Y == 0], y_axis[Y == 0], c='r', label='Not potable')\n",
    "plt.scatter(x_axis[Y == 1], y_axis[Y == 1], c='b', label='Potable')\n",
    "plt.legend()\n",
    "plt.show()"
   ]
  },
  {
   "cell_type": "markdown",
   "id": "10654a08",
   "metadata": {},
   "source": [
    "**DBSCAN**"
   ]
  },
  {
   "cell_type": "code",
   "execution_count": 23,
   "id": "5924ab13",
   "metadata": {
    "scrolled": true
   },
   "outputs": [
    {
     "name": "stdout",
     "output_type": "stream",
     "text": [
      "Counter({-1: 18, 0: 10, 1: 5})\n"
     ]
    },
    {
     "data": {
      "image/png": "[encoded data removed]",
      "text/plain": [
       "<Figure size 432x288 with 1 Axes>"
      ]
     },
     "metadata": {
      "needs_background": "light"
     },
     "output_type": "display_data"
    }
   ],
   "source": [
    "from sklearn.cluster import DBSCAN\n",
    "import collections\n",
    "\n",
    "dbscan = DBSCAN(eps=.5, min_samples=5)\n",
    "data = X[:, [3,8]]\n",
    "dbscan.fit(data)\n",
    "\n",
    "# Уменьшаем размерность при помощи метода главных компонент\n",
    "pca = PCA(n_components=2).fit(data)\n",
    "pca_2d = pca.transform(data)\n",
    "\n",
    "# Строим в соответствии с тремя классами\n",
    "for i in range(0, pca_2d.shape[0]):\n",
    "    if dbscan.labels_[i] == 0:\n",
    "        plt.scatter(pca_2d[i, 0], pca_2d[i, 1], c='r', marker='+') # Кластер 1\n",
    "    elif dbscan.labels_[i] == 1:\n",
    "        plt.scatter(pca_2d[i, 0], pca_2d[i, 1], c='g', marker='o') # Кластер 2\n",
    "    elif dbscan.labels_[i] == -1:\n",
    "        plt.scatter(pca_2d[i, 0], pca_2d[i, 1], c='b', marker='*') # Шум\n",
    "\n",
    "print(collections.Counter(dbscan.labels_))\n",
    "\n",
    "plt.show()"
   ]
  },
  {
   "cell_type": "code",
   "execution_count": 24,
   "id": "236e04f9",
   "metadata": {},
   "outputs": [
    {
     "name": "stdout",
     "output_type": "stream",
     "text": [
      "[[0 0 0]\n",
      " [9 6 4]\n",
      " [9 4 1]]\n",
      "              precision    recall  f1-score   support\n",
      "\n",
      "          -1       0.00      0.00      0.00         0\n",
      "           0       0.60      0.32      0.41        19\n",
      "           1       0.20      0.07      0.11        14\n",
      "\n",
      "    accuracy                           0.21        33\n",
      "   macro avg       0.27      0.13      0.17        33\n",
      "weighted avg       0.43      0.21      0.28        33\n",
      "\n",
      "-0.11864141628094653\n"
     ]
    }
   ],
   "source": [
    "y_pred = dbscan.labels_\n",
    "print(confusion_matrix(Y, y_pred))\n",
    "print(classification_report(Y, y_pred))\n",
    "print(silhouette_score(X, y_pred))"
   ]
  }
 ],
 "metadata": {
  "kernelspec": {
   "display_name": "Python 3",
   "language": "python",
   "name": "python3"
  },
  "language_info": {
   "codemirror_mode": {
    "name": "ipython",
    "version": 3
   },
   "file_extension": ".py",
   "mimetype": "text/x-python",
   "name": "python",
   "nbconvert_exporter": "python",
   "pygments_lexer": "ipython3",
   "version": "3.10.4"
  }
 },
 "nbformat": 4,
 "nbformat_minor": 5
}
