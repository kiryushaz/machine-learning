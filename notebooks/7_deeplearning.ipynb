{
 "cells": [
  {
   "cell_type": "markdown",
   "id": "ef151454",
   "metadata": {},
   "source": [
    "# Task 1"
   ]
  },
  {
   "cell_type": "code",
   "execution_count": 1,
   "id": "97984558",
   "metadata": {},
   "outputs": [],
   "source": [
    "import pandas as pd\n",
    "import numpy as np\n",
    "\n",
    "from keras.models import Sequential\n",
    "from keras.layers import Dense"
   ]
  },
  {
   "cell_type": "markdown",
   "id": "28c31bde",
   "metadata": {},
   "source": [
    "Загружаем данные"
   ]
  },
  {
   "cell_type": "code",
   "execution_count": 21,
   "id": "3865dfcf",
   "metadata": {
    "scrolled": true
   },
   "outputs": [
    {
     "data": {
      "text/plain": [
       "array([[7.08079450e+00, 2.04890455e+02, 2.07913190e+04, ...,\n",
       "        8.69909705e+01, 2.96313538e+00, 0.00000000e+00],\n",
       "       [3.71608008e+00, 1.29422921e+02, 1.86300579e+04, ...,\n",
       "        5.63290763e+01, 4.50065627e+00, 0.00000000e+00],\n",
       "       [8.09912419e+00, 2.24236259e+02, 1.99095417e+04, ...,\n",
       "        6.64200925e+01, 3.05593375e+00, 0.00000000e+00],\n",
       "       ...,\n",
       "       [9.41951032e+00, 1.75762646e+02, 3.31555782e+04, ...,\n",
       "        6.98454003e+01, 3.29887550e+00, 1.00000000e+00],\n",
       "       [5.12676292e+00, 2.30603758e+02, 1.19838694e+04, ...,\n",
       "        7.74882131e+01, 4.70865847e+00, 1.00000000e+00],\n",
       "       [7.87467136e+00, 1.95102299e+02, 1.74041771e+04, ...,\n",
       "        7.86984463e+01, 2.30914906e+00, 1.00000000e+00]])"
      ]
     },
     "execution_count": 21,
     "metadata": {},
     "output_type": "execute_result"
    }
   ],
   "source": [
    "data = np.loadtxt(\"../data/water_potability_preprocessed.csv\", delimiter=',', skiprows=1)[:, 1:]\n",
    "data"
   ]
  },
  {
   "cell_type": "code",
   "execution_count": 22,
   "id": "39a1a3aa",
   "metadata": {},
   "outputs": [],
   "source": [
    "np.random.shuffle(data)"
   ]
  },
  {
   "cell_type": "code",
   "execution_count": 23,
   "id": "3ea5fab2",
   "metadata": {},
   "outputs": [
    {
     "data": {
      "text/plain": [
       "array([[5.80349698e+00, 1.93200991e+02, 1.94517676e+04, ...,\n",
       "        8.57701293e+00, 2.18171417e+00, 1.00000000e+00],\n",
       "       [6.78286855e+00, 1.96182558e+02, 2.53667979e+04, ...,\n",
       "        7.63479943e+01, 5.46859085e+00, 0.00000000e+00],\n",
       "       [5.76377281e+00, 1.83073629e+02, 2.20256966e+04, ...,\n",
       "        6.32997568e+01, 3.25320011e+00, 1.00000000e+00],\n",
       "       ...,\n",
       "       [7.20170237e+00, 1.47711086e+02, 3.73089942e+04, ...,\n",
       "        6.36268939e+01, 3.88325020e+00, 1.00000000e+00],\n",
       "       [5.61356265e+00, 2.04569366e+02, 1.66159082e+04, ...,\n",
       "        7.34501645e+01, 3.46508868e+00, 0.00000000e+00],\n",
       "       [6.39790501e+00, 2.49969243e+02, 2.20570518e+04, ...,\n",
       "        9.70304573e+01, 3.95854345e+00, 1.00000000e+00]])"
      ]
     },
     "execution_count": 23,
     "metadata": {},
     "output_type": "execute_result"
    }
   ],
   "source": [
    "data"
   ]
  },
  {
   "cell_type": "code",
   "execution_count": 24,
   "id": "f0b2fa24",
   "metadata": {
    "scrolled": true
   },
   "outputs": [],
   "source": [
    "X = data[:, :-1]\n",
    "y = data[:, -1]"
   ]
  },
  {
   "cell_type": "markdown",
   "id": "9e774601",
   "metadata": {},
   "source": [
    "Загружаем модель, задаем кол-во скрытых слоев, подбираем функцию активации"
   ]
  },
  {
   "cell_type": "code",
   "execution_count": 85,
   "id": "ceb67079",
   "metadata": {},
   "outputs": [],
   "source": [
    "model = Sequential()\n",
    "# добавляем скрытый слой\n",
    "model.add(Dense(7, input_dim=X.shape[1], activation='relu'))\n",
    "\n",
    "# добавляем выходной слой\n",
    "model.add(Dense(1, activation='sigmoid')) # на выходе вектор-ответ"
   ]
  },
  {
   "cell_type": "markdown",
   "id": "2aa5d0ed",
   "metadata": {},
   "source": [
    "Выводим представление модели"
   ]
  },
  {
   "cell_type": "code",
   "execution_count": 86,
   "id": "0ab31dd1",
   "metadata": {
    "scrolled": true
   },
   "outputs": [
    {
     "name": "stdout",
     "output_type": "stream",
     "text": [
      "Model: \"sequential_5\"\n",
      "_________________________________________________________________\n",
      " Layer (type)                Output Shape              Param #   \n",
      "=================================================================\n",
      " dense_14 (Dense)            (None, 7)                 70        \n",
      "                                                                 \n",
      " dense_15 (Dense)            (None, 1)                 8         \n",
      "                                                                 \n",
      "=================================================================\n",
      "Total params: 78\n",
      "Trainable params: 78\n",
      "Non-trainable params: 0\n",
      "_________________________________________________________________\n"
     ]
    }
   ],
   "source": [
    "model.summary()"
   ]
  },
  {
   "cell_type": "code",
   "execution_count": 10,
   "id": "4af529e6",
   "metadata": {
    "scrolled": true
   },
   "outputs": [
    {
     "name": "stdout",
     "output_type": "stream",
     "text": [
      "Requirement already satisfied: pydot in c:\\users\\kirill\\ml_labs\\venv\\lib\\site-packages (1.4.2)\n",
      "Requirement already satisfied: pyparsing>=2.1.4 in c:\\users\\kirill\\ml_labs\\venv\\lib\\site-packages (from pydot) (3.0.8)\n"
     ]
    },
    {
     "name": "stderr",
     "output_type": "stream",
     "text": [
      "WARNING: There was an error checking the latest version of pip.\n"
     ]
    }
   ],
   "source": [
    "!pip install pydot"
   ]
  },
  {
   "cell_type": "code",
   "execution_count": 11,
   "id": "ad78e8c8",
   "metadata": {},
   "outputs": [
    {
     "name": "stdout",
     "output_type": "stream",
     "text": [
      "Requirement already satisfied: graphviz in c:\\users\\kirill\\ml_labs\\venv\\lib\\site-packages (0.20)\n"
     ]
    },
    {
     "name": "stderr",
     "output_type": "stream",
     "text": [
      "WARNING: There was an error checking the latest version of pip.\n"
     ]
    }
   ],
   "source": [
    "!pip install graphviz"
   ]
  },
  {
   "cell_type": "code",
   "execution_count": 87,
   "id": "7d4dbdd6",
   "metadata": {},
   "outputs": [
    {
     "data": {
      "image/png": "[encoded data removed]",
      "text/plain": [
       "<IPython.core.display.Image object>"
      ]
     },
     "execution_count": 87,
     "metadata": {},
     "output_type": "execute_result"
    }
   ],
   "source": [
    "from keras.utils.vis_utils import plot_model\n",
    "plot_model(model, to_file='../keras_models/model_plot2.png', show_shapes=True, show_layer_names=True)"
   ]
  },
  {
   "cell_type": "markdown",
   "id": "a3b5b294",
   "metadata": {},
   "source": [
    "Настраиваем модель"
   ]
  },
  {
   "cell_type": "code",
   "execution_count": 92,
   "id": "b8511cdf",
   "metadata": {},
   "outputs": [],
   "source": [
    "model.compile(loss='binary_crossentropy', optimizer='adam', metrics=['accuracy'])"
   ]
  },
  {
   "cell_type": "markdown",
   "id": "49631bed",
   "metadata": {},
   "source": [
    "Обучаем модель"
   ]
  },
  {
   "cell_type": "code",
   "execution_count": 93,
   "id": "47f01ac3",
   "metadata": {},
   "outputs": [
    {
     "name": "stdout",
     "output_type": "stream",
     "text": [
      "Epoch 1/150\n",
      "328/328 [==============================] - 1s 880us/step - loss: 61.5229 - accuracy: 0.4799\n",
      "Epoch 2/150\n",
      "328/328 [==============================] - 0s 836us/step - loss: 7.1320 - accuracy: 0.5122\n",
      "Epoch 3/150\n",
      "328/328 [==============================] - 0s 869us/step - loss: 6.1128 - accuracy: 0.5321\n",
      "Epoch 4/150\n",
      "328/328 [==============================] - 0s 872us/step - loss: 4.1426 - accuracy: 0.5269\n",
      "Epoch 5/150\n",
      "328/328 [==============================] - 0s 823us/step - loss: 4.5033 - accuracy: 0.5299\n",
      "Epoch 6/150\n",
      "328/328 [==============================] - 0s 845us/step - loss: 3.8498 - accuracy: 0.5275\n",
      "Epoch 7/150\n",
      "328/328 [==============================] - 0s 833us/step - loss: 3.2892 - accuracy: 0.5314\n",
      "Epoch 8/150\n",
      "328/328 [==============================] - 0s 865us/step - loss: 4.2936 - accuracy: 0.5192\n",
      "Epoch 9/150\n",
      "328/328 [==============================] - 0s 862us/step - loss: 3.5727 - accuracy: 0.5345\n",
      "Epoch 10/150\n",
      "328/328 [==============================] - 0s 872us/step - loss: 4.3787 - accuracy: 0.5211\n",
      "Epoch 11/150\n",
      "328/328 [==============================] - 0s 838us/step - loss: 2.7174 - accuracy: 0.5354\n",
      "Epoch 12/150\n",
      "328/328 [==============================] - 0s 869us/step - loss: 3.5155 - accuracy: 0.4942\n",
      "Epoch 13/150\n",
      "328/328 [==============================] - 0s 835us/step - loss: 4.2510 - accuracy: 0.5287\n",
      "Epoch 14/150\n",
      "328/328 [==============================] - 0s 870us/step - loss: 2.8843 - accuracy: 0.5308\n",
      "Epoch 15/150\n",
      "328/328 [==============================] - 0s 928us/step - loss: 3.1038 - accuracy: 0.5284\n",
      "Epoch 16/150\n",
      "328/328 [==============================] - 0s 843us/step - loss: 4.1113 - accuracy: 0.5287\n",
      "Epoch 17/150\n",
      "328/328 [==============================] - 0s 837us/step - loss: 3.7200 - accuracy: 0.5195\n",
      "Epoch 18/150\n",
      "328/328 [==============================] - 0s 829us/step - loss: 3.0445 - accuracy: 0.5281\n",
      "Epoch 19/150\n",
      "328/328 [==============================] - 0s 850us/step - loss: 3.6960 - accuracy: 0.5134\n",
      "Epoch 20/150\n",
      "328/328 [==============================] - 0s 836us/step - loss: 2.8878 - accuracy: 0.5342\n",
      "Epoch 21/150\n",
      "328/328 [==============================] - 0s 839us/step - loss: 3.3246 - accuracy: 0.5238\n",
      "Epoch 22/150\n",
      "328/328 [==============================] - 0s 830us/step - loss: 3.3378 - accuracy: 0.5177\n",
      "Epoch 23/150\n",
      "328/328 [==============================] - 0s 828us/step - loss: 3.9501 - accuracy: 0.5189\n",
      "Epoch 24/150\n",
      "328/328 [==============================] - 0s 959us/step - loss: 3.0041 - accuracy: 0.5214\n",
      "Epoch 25/150\n",
      "328/328 [==============================] - 0s 943us/step - loss: 2.1969 - accuracy: 0.5241\n",
      "Epoch 26/150\n",
      "328/328 [==============================] - 0s 863us/step - loss: 5.3183 - accuracy: 0.5281\n",
      "Epoch 27/150\n",
      "328/328 [==============================] - 0s 852us/step - loss: 3.6828 - accuracy: 0.5311\n",
      "Epoch 28/150\n",
      "328/328 [==============================] - 0s 865us/step - loss: 2.9484 - accuracy: 0.5263\n",
      "Epoch 29/150\n",
      "328/328 [==============================] - 0s 844us/step - loss: 2.9040 - accuracy: 0.5183\n",
      "Epoch 30/150\n",
      "328/328 [==============================] - 0s 855us/step - loss: 2.8564 - accuracy: 0.5198\n",
      "Epoch 31/150\n",
      "328/328 [==============================] - 0s 924us/step - loss: 3.4540 - accuracy: 0.5235\n",
      "Epoch 32/150\n",
      "328/328 [==============================] - 0s 839us/step - loss: 2.6683 - accuracy: 0.5177\n",
      "Epoch 33/150\n",
      "328/328 [==============================] - 0s 827us/step - loss: 4.6348 - accuracy: 0.5189\n",
      "Epoch 34/150\n",
      "328/328 [==============================] - 0s 838us/step - loss: 3.0598 - accuracy: 0.5308\n",
      "Epoch 35/150\n",
      "328/328 [==============================] - 0s 831us/step - loss: 2.9620 - accuracy: 0.5250\n",
      "Epoch 36/150\n",
      "328/328 [==============================] - 0s 883us/step - loss: 4.1769 - accuracy: 0.5168\n",
      "Epoch 37/150\n",
      "328/328 [==============================] - 0s 949us/step - loss: 2.9005 - accuracy: 0.5186\n",
      "Epoch 38/150\n",
      "328/328 [==============================] - 0s 847us/step - loss: 2.6754 - accuracy: 0.5409\n",
      "Epoch 39/150\n",
      "328/328 [==============================] - 0s 852us/step - loss: 2.5920 - accuracy: 0.5317\n",
      "Epoch 40/150\n",
      "328/328 [==============================] - 0s 842us/step - loss: 3.6899 - accuracy: 0.5263\n",
      "Epoch 41/150\n",
      "328/328 [==============================] - 0s 886us/step - loss: 2.3136 - accuracy: 0.5168\n",
      "Epoch 42/150\n",
      "328/328 [==============================] - 0s 930us/step - loss: 3.5011 - accuracy: 0.5266\n",
      "Epoch 43/150\n",
      "328/328 [==============================] - 0s 913us/step - loss: 3.6581 - accuracy: 0.5232\n",
      "Epoch 44/150\n",
      "328/328 [==============================] - 0s 857us/step - loss: 3.1015 - accuracy: 0.5140\n",
      "Epoch 45/150\n",
      "328/328 [==============================] - 0s 888us/step - loss: 2.9151 - accuracy: 0.5321\n",
      "Epoch 46/150\n",
      "328/328 [==============================] - 0s 847us/step - loss: 3.0438 - accuracy: 0.5275\n",
      "Epoch 47/150\n",
      "328/328 [==============================] - 0s 837us/step - loss: 3.0543 - accuracy: 0.5241\n",
      "Epoch 48/150\n",
      "328/328 [==============================] - 0s 841us/step - loss: 3.5626 - accuracy: 0.5095\n",
      "Epoch 49/150\n",
      "328/328 [==============================] - 0s 835us/step - loss: 2.2557 - accuracy: 0.5232\n",
      "Epoch 50/150\n",
      "328/328 [==============================] - 0s 941us/step - loss: 3.8281 - accuracy: 0.5308\n",
      "Epoch 51/150\n",
      "328/328 [==============================] - 0s 942us/step - loss: 2.4201 - accuracy: 0.5156\n",
      "Epoch 52/150\n",
      "328/328 [==============================] - 0s 856us/step - loss: 2.3859 - accuracy: 0.5107\n",
      "Epoch 53/150\n",
      "328/328 [==============================] - 0s 834us/step - loss: 2.7157 - accuracy: 0.5287\n",
      "Epoch 54/150\n",
      "328/328 [==============================] - 0s 790us/step - loss: 3.5038 - accuracy: 0.5321\n",
      "Epoch 55/150\n",
      "328/328 [==============================] - 0s 800us/step - loss: 2.6928 - accuracy: 0.5275\n",
      "Epoch 56/150\n",
      "328/328 [==============================] - 0s 892us/step - loss: 3.6678 - accuracy: 0.5223\n",
      "Epoch 57/150\n",
      "328/328 [==============================] - 0s 875us/step - loss: 3.7376 - accuracy: 0.5287\n",
      "Epoch 58/150\n",
      "328/328 [==============================] - 0s 849us/step - loss: 3.1897 - accuracy: 0.5369\n",
      "Epoch 59/150\n",
      "328/328 [==============================] - 0s 944us/step - loss: 3.6819 - accuracy: 0.5324\n",
      "Epoch 60/150\n",
      "328/328 [==============================] - 0s 913us/step - loss: 3.0619 - accuracy: 0.5119\n",
      "Epoch 61/150\n",
      "328/328 [==============================] - 0s 893us/step - loss: 2.9621 - accuracy: 0.5430\n",
      "Epoch 62/150\n",
      "328/328 [==============================] - 0s 868us/step - loss: 3.8104 - accuracy: 0.5317\n",
      "Epoch 63/150\n",
      "328/328 [==============================] - 0s 901us/step - loss: 3.5836 - accuracy: 0.5198\n",
      "Epoch 64/150\n",
      "328/328 [==============================] - 0s 833us/step - loss: 2.4324 - accuracy: 0.5232\n",
      "Epoch 65/150\n",
      "328/328 [==============================] - 0s 805us/step - loss: 2.7066 - accuracy: 0.5201\n",
      "Epoch 66/150\n",
      "328/328 [==============================] - 0s 820us/step - loss: 3.6977 - accuracy: 0.5229\n",
      "Epoch 67/150\n",
      "328/328 [==============================] - 0s 966us/step - loss: 2.8417 - accuracy: 0.5183\n",
      "Epoch 68/150\n",
      "328/328 [==============================] - 0s 827us/step - loss: 2.2796 - accuracy: 0.5360\n",
      "Epoch 69/150\n",
      "328/328 [==============================] - 0s 825us/step - loss: 2.8414 - accuracy: 0.5241\n",
      "Epoch 70/150\n",
      "328/328 [==============================] - 0s 847us/step - loss: 3.0852 - accuracy: 0.5275\n",
      "Epoch 71/150\n",
      "328/328 [==============================] - 0s 832us/step - loss: 3.3510 - accuracy: 0.5290\n",
      "Epoch 72/150\n",
      "328/328 [==============================] - 0s 826us/step - loss: 3.1448 - accuracy: 0.5287\n",
      "Epoch 73/150\n",
      "328/328 [==============================] - 0s 796us/step - loss: 3.8947 - accuracy: 0.5171\n",
      "Epoch 74/150\n",
      "328/328 [==============================] - 0s 813us/step - loss: 3.2124 - accuracy: 0.5186\n",
      "Epoch 75/150\n",
      "328/328 [==============================] - 0s 802us/step - loss: 2.8025 - accuracy: 0.5244\n",
      "Epoch 76/150\n",
      "328/328 [==============================] - 0s 807us/step - loss: 2.3358 - accuracy: 0.5287\n",
      "Epoch 77/150\n",
      "328/328 [==============================] - 0s 876us/step - loss: 3.3532 - accuracy: 0.5360\n",
      "Epoch 78/150\n",
      "328/328 [==============================] - 0s 835us/step - loss: 3.3811 - accuracy: 0.5250\n",
      "Epoch 79/150\n"
     ]
    },
    {
     "name": "stdout",
     "output_type": "stream",
     "text": [
      "328/328 [==============================] - 0s 803us/step - loss: 2.0697 - accuracy: 0.5388\n",
      "Epoch 80/150\n",
      "328/328 [==============================] - 0s 824us/step - loss: 3.5182 - accuracy: 0.5174\n",
      "Epoch 81/150\n",
      "328/328 [==============================] - 0s 820us/step - loss: 3.6077 - accuracy: 0.5351\n",
      "Epoch 82/150\n",
      "328/328 [==============================] - 0s 818us/step - loss: 3.1266 - accuracy: 0.5238\n",
      "Epoch 83/150\n",
      "328/328 [==============================] - 0s 796us/step - loss: 3.1625 - accuracy: 0.5302\n",
      "Epoch 84/150\n",
      "328/328 [==============================] - 0s 797us/step - loss: 2.5191 - accuracy: 0.5278\n",
      "Epoch 85/150\n",
      "328/328 [==============================] - 0s 842us/step - loss: 3.2773 - accuracy: 0.5150\n",
      "Epoch 86/150\n",
      "328/328 [==============================] - 0s 813us/step - loss: 2.3424 - accuracy: 0.5177\n",
      "Epoch 87/150\n",
      "328/328 [==============================] - 0s 812us/step - loss: 3.6673 - accuracy: 0.5317\n",
      "Epoch 88/150\n",
      "328/328 [==============================] - 0s 794us/step - loss: 3.9539 - accuracy: 0.5201\n",
      "Epoch 89/150\n",
      "328/328 [==============================] - 0s 795us/step - loss: 3.5819 - accuracy: 0.5324\n",
      "Epoch 90/150\n",
      "328/328 [==============================] - 0s 794us/step - loss: 2.7581 - accuracy: 0.5327\n",
      "Epoch 91/150\n",
      "328/328 [==============================] - 0s 805us/step - loss: 4.0765 - accuracy: 0.5147\n",
      "Epoch 92/150\n",
      "328/328 [==============================] - 0s 800us/step - loss: 3.5462 - accuracy: 0.5143\n",
      "Epoch 93/150\n",
      "328/328 [==============================] - 0s 801us/step - loss: 2.7447 - accuracy: 0.5412\n",
      "Epoch 94/150\n",
      "328/328 [==============================] - 0s 797us/step - loss: 3.6358 - accuracy: 0.5314\n",
      "Epoch 95/150\n",
      "328/328 [==============================] - 0s 860us/step - loss: 4.1018 - accuracy: 0.5305\n",
      "Epoch 96/150\n",
      "328/328 [==============================] - 0s 960us/step - loss: 3.9035 - accuracy: 0.5089\n",
      "Epoch 97/150\n",
      "328/328 [==============================] - 0s 836us/step - loss: 2.7214 - accuracy: 0.5180\n",
      "Epoch 98/150\n",
      "328/328 [==============================] - 0s 809us/step - loss: 2.8379 - accuracy: 0.5247\n",
      "Epoch 99/150\n",
      "328/328 [==============================] - 0s 833us/step - loss: 2.7762 - accuracy: 0.5208\n",
      "Epoch 100/150\n",
      "328/328 [==============================] - 0s 802us/step - loss: 1.6242 - accuracy: 0.5357\n",
      "Epoch 101/150\n",
      "328/328 [==============================] - 0s 983us/step - loss: 2.8263 - accuracy: 0.5171\n",
      "Epoch 102/150\n",
      "328/328 [==============================] - 0s 899us/step - loss: 3.4237 - accuracy: 0.5244\n",
      "Epoch 103/150\n",
      "328/328 [==============================] - 0s 835us/step - loss: 3.8449 - accuracy: 0.5232\n",
      "Epoch 104/150\n",
      "328/328 [==============================] - 0s 831us/step - loss: 2.6278 - accuracy: 0.5369\n",
      "Epoch 105/150\n",
      "328/328 [==============================] - 0s 949us/step - loss: 2.6569 - accuracy: 0.5421\n",
      "Epoch 106/150\n",
      "328/328 [==============================] - 0s 818us/step - loss: 4.4922 - accuracy: 0.5238\n",
      "Epoch 107/150\n",
      "328/328 [==============================] - 0s 1ms/step - loss: 3.6676 - accuracy: 0.5259\n",
      "Epoch 108/150\n",
      "328/328 [==============================] - 0s 1ms/step - loss: 2.8287 - accuracy: 0.5296\n",
      "Epoch 109/150\n",
      "328/328 [==============================] - 0s 807us/step - loss: 3.7261 - accuracy: 0.5250\n",
      "Epoch 110/150\n",
      "328/328 [==============================] - 0s 838us/step - loss: 2.2951 - accuracy: 0.5247\n",
      "Epoch 111/150\n",
      "328/328 [==============================] - 0s 1ms/step - loss: 2.9178 - accuracy: 0.5247\n",
      "Epoch 112/150\n",
      "328/328 [==============================] - 0s 823us/step - loss: 3.0816 - accuracy: 0.5201\n",
      "Epoch 113/150\n",
      "328/328 [==============================] - 0s 827us/step - loss: 2.7035 - accuracy: 0.5180\n",
      "Epoch 114/150\n",
      "328/328 [==============================] - 0s 921us/step - loss: 4.4080 - accuracy: 0.5317\n",
      "Epoch 115/150\n",
      "328/328 [==============================] - 0s 833us/step - loss: 3.1680 - accuracy: 0.5156\n",
      "Epoch 116/150\n",
      "328/328 [==============================] - 0s 814us/step - loss: 5.0588 - accuracy: 0.5232\n",
      "Epoch 117/150\n",
      "328/328 [==============================] - 0s 817us/step - loss: 3.5217 - accuracy: 0.5302\n",
      "Epoch 118/150\n",
      "328/328 [==============================] - 0s 832us/step - loss: 3.4131 - accuracy: 0.5217\n",
      "Epoch 119/150\n",
      "328/328 [==============================] - 0s 785us/step - loss: 2.9589 - accuracy: 0.5235\n",
      "Epoch 120/150\n",
      "328/328 [==============================] - 0s 847us/step - loss: 2.6586 - accuracy: 0.5290\n",
      "Epoch 121/150\n",
      "328/328 [==============================] - 0s 827us/step - loss: 2.7811 - accuracy: 0.5360\n",
      "Epoch 122/150\n",
      "328/328 [==============================] - 0s 821us/step - loss: 3.0406 - accuracy: 0.5134\n",
      "Epoch 123/150\n",
      "328/328 [==============================] - 0s 810us/step - loss: 3.8925 - accuracy: 0.5287\n",
      "Epoch 124/150\n",
      "328/328 [==============================] - 0s 862us/step - loss: 3.0390 - accuracy: 0.5217\n",
      "Epoch 125/150\n",
      "328/328 [==============================] - 0s 950us/step - loss: 2.7740 - accuracy: 0.5220\n",
      "Epoch 126/150\n",
      "328/328 [==============================] - 0s 834us/step - loss: 3.2810 - accuracy: 0.5177\n",
      "Epoch 127/150\n",
      "328/328 [==============================] - 0s 853us/step - loss: 2.8250 - accuracy: 0.5317\n",
      "Epoch 128/150\n",
      "328/328 [==============================] - 0s 850us/step - loss: 3.5265 - accuracy: 0.5159\n",
      "Epoch 129/150\n",
      "328/328 [==============================] - 0s 918us/step - loss: 2.6974 - accuracy: 0.5177\n",
      "Epoch 130/150\n",
      "328/328 [==============================] - 0s 832us/step - loss: 2.6182 - accuracy: 0.5180\n",
      "Epoch 131/150\n",
      "328/328 [==============================] - 0s 838us/step - loss: 3.8424 - accuracy: 0.5220\n",
      "Epoch 132/150\n",
      "328/328 [==============================] - 0s 832us/step - loss: 3.5875 - accuracy: 0.5311\n",
      "Epoch 133/150\n",
      "328/328 [==============================] - 0s 881us/step - loss: 3.3068 - accuracy: 0.5211\n",
      "Epoch 134/150\n",
      "328/328 [==============================] - 0s 812us/step - loss: 3.5423 - accuracy: 0.5287\n",
      "Epoch 135/150\n",
      "328/328 [==============================] - 0s 848us/step - loss: 2.9219 - accuracy: 0.5263\n",
      "Epoch 136/150\n",
      "328/328 [==============================] - 0s 835us/step - loss: 3.1052 - accuracy: 0.5311\n",
      "Epoch 137/150\n",
      "328/328 [==============================] - 0s 830us/step - loss: 2.5787 - accuracy: 0.5418\n",
      "Epoch 138/150\n",
      "328/328 [==============================] - 0s 790us/step - loss: 3.8900 - accuracy: 0.5082\n",
      "Epoch 139/150\n",
      "328/328 [==============================] - 0s 818us/step - loss: 2.7905 - accuracy: 0.5336\n",
      "Epoch 140/150\n",
      "328/328 [==============================] - 0s 853us/step - loss: 3.7249 - accuracy: 0.5330\n",
      "Epoch 141/150\n",
      "328/328 [==============================] - 0s 894us/step - loss: 2.3815 - accuracy: 0.5348\n",
      "Epoch 142/150\n",
      "328/328 [==============================] - 0s 895us/step - loss: 2.3068 - accuracy: 0.5278\n",
      "Epoch 143/150\n",
      "328/328 [==============================] - 0s 870us/step - loss: 2.5234 - accuracy: 0.5339\n",
      "Epoch 144/150\n",
      "328/328 [==============================] - 0s 889us/step - loss: 3.4253 - accuracy: 0.5290\n",
      "Epoch 145/150\n",
      "328/328 [==============================] - 0s 912us/step - loss: 2.6273 - accuracy: 0.5314\n",
      "Epoch 146/150\n",
      "328/328 [==============================] - 0s 911us/step - loss: 3.7841 - accuracy: 0.5241\n",
      "Epoch 147/150\n",
      "328/328 [==============================] - 0s 993us/step - loss: 3.2853 - accuracy: 0.5272\n",
      "Epoch 148/150\n",
      "328/328 [==============================] - 0s 863us/step - loss: 2.5838 - accuracy: 0.5293\n",
      "Epoch 149/150\n",
      "328/328 [==============================] - 0s 906us/step - loss: 4.0645 - accuracy: 0.5147\n",
      "Epoch 150/150\n",
      "328/328 [==============================] - 0s 1ms/step - loss: 2.8357 - accuracy: 0.5427\n"
     ]
    },
    {
     "data": {
      "text/plain": [
       "<keras.callbacks.History at 0x1e365bb9990>"
      ]
     },
     "execution_count": 93,
     "metadata": {},
     "output_type": "execute_result"
    }
   ],
   "source": [
    "model.fit(X, y, epochs=150, batch_size=10)"
   ]
  },
  {
   "cell_type": "markdown",
   "id": "1d966fdd",
   "metadata": {},
   "source": [
    "Подсчитываем значение метрики"
   ]
  },
  {
   "cell_type": "code",
   "execution_count": 94,
   "id": "78b94876",
   "metadata": {},
   "outputs": [
    {
     "name": "stdout",
     "output_type": "stream",
     "text": [
      "103/103 [==============================] - 0s 819us/step - loss: 4.4707 - accuracy: 0.6099\n",
      "Accuracy: 60.99\n"
     ]
    }
   ],
   "source": [
    "_, accuracy = model.evaluate(X, y)\n",
    "print('Accuracy: %.2f' % (accuracy*100))"
   ]
  },
  {
   "cell_type": "markdown",
   "id": "a2803393",
   "metadata": {},
   "source": [
    "Выводим предсказанные значения"
   ]
  },
  {
   "cell_type": "code",
   "execution_count": 109,
   "id": "19e3d0e9",
   "metadata": {},
   "outputs": [],
   "source": [
    "T = 0.0000115"
   ]
  },
  {
   "cell_type": "code",
   "execution_count": 110,
   "id": "b4dc141e",
   "metadata": {
    "scrolled": true
   },
   "outputs": [
    {
     "name": "stdout",
     "output_type": "stream",
     "text": [
      "103/103 [==============================] - 0s 705us/step\n",
      "[5.803496975764156, 193.20099135531484, 19451.767602835265, 4.146601117658612, 255.97674557859452, 365.4776179894939, 14.920615561874342, 8.577012932983806, 2.1817141666785806] => 1 (expected 1)\n",
      "[6.782868548051976, 196.1825584839221, 25366.797904809864, 7.200358354772008, 312.4265913272513, 435.0945740311392, 12.11847464073884, 76.34799427084874, 5.468590847062822] => 0 (expected 0)\n",
      "[5.7637728070588325, 183.07362857774297, 22025.69660620265, 8.952895934078386, 333.7757766108134, 376.5813885225825, 10.54739835050492, 63.29975681311175, 3.253200106695462] => 1 (expected 1)\n",
      "[6.98704150028991, 169.7271157728339, 19472.624328496444, 5.017698088295537, 366.0189195933706, 425.6709639584517, 17.31468112565352, 48.8821984337697, 4.475161102744778] => 1 (expected 0)\n",
      "[9.228484208847256, 200.7103304002074, 26744.2315262742, 6.83336024165987, 339.8207187053917, 363.9509908203079, 14.14477230737549, 86.95020026036977, 4.829753513504483] => 0 (expected 0)\n",
      "[6.376950463991447, 170.227079802342, 16079.361250418166, 5.433802467728858, 331.8568920571772, 311.77290011697585, 15.703707226309632, 54.01311184747893, 4.284387095962003] => 1 (expected 0)\n",
      "[7.16046723080874, 183.0893100379288, 6743.346065530401, 3.8030364235979857, 277.5990986210596, 428.0363443504035, 9.79962468961304, 90.03537367362071, 3.8848910441472793] => 1 (expected 0)\n",
      "[7.76414261000218, 186.13243188501772, 25926.075642581047, 8.011206635842331, 333.7757766108134, 399.13171794893873, 22.84652910661083, 35.24367838874416, 4.105178268056135] => 0 (expected 0)\n",
      "[9.26439090863462, 160.4286939702, 19607.754919172454, 3.988748935660376, 416.6983846311437, 427.7938337302106, 14.992989779791571, 95.8048003722675, 3.175520773635625] => 1 (expected 0)\n",
      "[6.189699260391608, 224.4329492970915, 15229.70286870656, 5.879183845348483, 366.5011179434794, 649.8057645659717, 10.257514712309728, 71.78094925825795, 3.027371480146623] => 1 (expected 1)\n",
      "[4.301373467127349, 148.73770094538864, 26640.072187750717, 9.242652786863514, 316.7644064543525, 365.83537478378594, 12.515733708615528, 54.082289117007385, 3.067626699089017] => 0 (expected 0)\n",
      "[7.88659122732868, 213.05259073034645, 38852.029635921295, 11.1707886197812, 281.70077681472634, 326.1153502173294, 10.385172454825522, 64.66250070111096, 4.589983507854727] => 0 (expected 1)\n",
      "[7.744772552356141, 208.92034044835395, 27648.159653420156, 5.622572290348024, 332.823798883007, 397.05747364178274, 12.486191756375376, 73.18455681292409, 5.016321198997175] => 0 (expected 0)\n",
      "[7.457979826928165, 183.46130951496127, 14733.458757085757, 7.475273364334676, 335.6680456708747, 482.63717983915575, 8.963253882638298, 82.58133834918347, 4.497730795590356] => 1 (expected 1)\n",
      "[5.991283475366895, 224.6085627613308, 29983.116007036537, 7.3838186809894655, 329.73154660168296, 604.6312628955403, 17.74122824443151, 65.11697561026128, 4.840562301475423] => 0 (expected 1)\n"
     ]
    }
   ],
   "source": [
    "#np.argmax(model.predict(x), axis=-1)\n",
    "#(model.predict(x) > 0.5).astype(\"int32\")\n",
    "predictions = (model.predict(X) > T).astype(\"int32\")\n",
    "# summarize the first 15 cases\n",
    "for i in range(15):\n",
    "    print('%s => %d (expected %d)' % (X[i].tolist(), predictions[i], y[i]))"
   ]
  },
  {
   "cell_type": "markdown",
   "id": "0e4c0d61",
   "metadata": {},
   "source": [
    "Сохраняем модель"
   ]
  },
  {
   "cell_type": "code",
   "execution_count": 111,
   "id": "29346d24",
   "metadata": {},
   "outputs": [
    {
     "name": "stdout",
     "output_type": "stream",
     "text": [
      "INFO:tensorflow:Assets written to: ../keras_models/my_model\\assets\n"
     ]
    }
   ],
   "source": [
    "model.save('../keras_models/my_model')"
   ]
  },
  {
   "cell_type": "markdown",
   "id": "8db23aea",
   "metadata": {},
   "source": [
    "Загружаем модель"
   ]
  },
  {
   "cell_type": "code",
   "execution_count": 112,
   "id": "975837a0",
   "metadata": {},
   "outputs": [],
   "source": [
    "from tensorflow import keras\n",
    "reconstructed_model = keras.models.load_model(\"../keras_models/my_model\")"
   ]
  },
  {
   "cell_type": "markdown",
   "id": "780ffb10",
   "metadata": {},
   "source": [
    "Предсказания выводятся те же"
   ]
  },
  {
   "cell_type": "code",
   "execution_count": 113,
   "id": "642257c7",
   "metadata": {},
   "outputs": [
    {
     "name": "stdout",
     "output_type": "stream",
     "text": [
      "103/103 [==============================] - 0s 670us/step\n",
      "[5.803496975764156, 193.20099135531484, 19451.767602835265, 4.146601117658612, 255.97674557859452, 365.4776179894939, 14.920615561874342, 8.577012932983806, 2.1817141666785806] => 1 (expected 1)\n",
      "[6.782868548051976, 196.1825584839221, 25366.797904809864, 7.200358354772008, 312.4265913272513, 435.0945740311392, 12.11847464073884, 76.34799427084874, 5.468590847062822] => 0 (expected 0)\n",
      "[5.7637728070588325, 183.07362857774297, 22025.69660620265, 8.952895934078386, 333.7757766108134, 376.5813885225825, 10.54739835050492, 63.29975681311175, 3.253200106695462] => 1 (expected 1)\n",
      "[6.98704150028991, 169.7271157728339, 19472.624328496444, 5.017698088295537, 366.0189195933706, 425.6709639584517, 17.31468112565352, 48.8821984337697, 4.475161102744778] => 1 (expected 0)\n",
      "[9.228484208847256, 200.7103304002074, 26744.2315262742, 6.83336024165987, 339.8207187053917, 363.9509908203079, 14.14477230737549, 86.95020026036977, 4.829753513504483] => 0 (expected 0)\n",
      "[6.376950463991447, 170.227079802342, 16079.361250418166, 5.433802467728858, 331.8568920571772, 311.77290011697585, 15.703707226309632, 54.01311184747893, 4.284387095962003] => 1 (expected 0)\n",
      "[7.16046723080874, 183.0893100379288, 6743.346065530401, 3.8030364235979857, 277.5990986210596, 428.0363443504035, 9.79962468961304, 90.03537367362071, 3.8848910441472793] => 1 (expected 0)\n",
      "[7.76414261000218, 186.13243188501772, 25926.075642581047, 8.011206635842331, 333.7757766108134, 399.13171794893873, 22.84652910661083, 35.24367838874416, 4.105178268056135] => 0 (expected 0)\n",
      "[9.26439090863462, 160.4286939702, 19607.754919172454, 3.988748935660376, 416.6983846311437, 427.7938337302106, 14.992989779791571, 95.8048003722675, 3.175520773635625] => 1 (expected 0)\n",
      "[6.189699260391608, 224.4329492970915, 15229.70286870656, 5.879183845348483, 366.5011179434794, 649.8057645659717, 10.257514712309728, 71.78094925825795, 3.027371480146623] => 1 (expected 1)\n"
     ]
    }
   ],
   "source": [
    "predictions = (reconstructed_model.predict(X) > T).astype(\"int32\")\n",
    "for i in range(10):\n",
    "    print('%s => %d (expected %d)' % (X[i].tolist(), predictions[i], y[i]))"
   ]
  },
  {
   "cell_type": "markdown",
   "id": "c3d69e32",
   "metadata": {},
   "source": [
    "Поменяем величину порога"
   ]
  },
  {
   "cell_type": "code",
   "execution_count": 114,
   "id": "28796e5e",
   "metadata": {
    "scrolled": false
   },
   "outputs": [
    {
     "name": "stdout",
     "output_type": "stream",
     "text": [
      "103/103 [==============================] - 0s 707us/step\n",
      "[5.803496975764156, 193.20099135531484, 19451.767602835265, 4.146601117658612, 255.97674557859452, 365.4776179894939, 14.920615561874342, 8.577012932983806, 2.1817141666785806] => 0 (expected 1)\n",
      "[6.782868548051976, 196.1825584839221, 25366.797904809864, 7.200358354772008, 312.4265913272513, 435.0945740311392, 12.11847464073884, 76.34799427084874, 5.468590847062822] => 0 (expected 0)\n",
      "[5.7637728070588325, 183.07362857774297, 22025.69660620265, 8.952895934078386, 333.7757766108134, 376.5813885225825, 10.54739835050492, 63.29975681311175, 3.253200106695462] => 0 (expected 1)\n",
      "[6.98704150028991, 169.7271157728339, 19472.624328496444, 5.017698088295537, 366.0189195933706, 425.6709639584517, 17.31468112565352, 48.8821984337697, 4.475161102744778] => 0 (expected 0)\n",
      "[9.228484208847256, 200.7103304002074, 26744.2315262742, 6.83336024165987, 339.8207187053917, 363.9509908203079, 14.14477230737549, 86.95020026036977, 4.829753513504483] => 0 (expected 0)\n",
      "[6.376950463991447, 170.227079802342, 16079.361250418166, 5.433802467728858, 331.8568920571772, 311.77290011697585, 15.703707226309632, 54.01311184747893, 4.284387095962003] => 0 (expected 0)\n",
      "[7.16046723080874, 183.0893100379288, 6743.346065530401, 3.8030364235979857, 277.5990986210596, 428.0363443504035, 9.79962468961304, 90.03537367362071, 3.8848910441472793] => 1 (expected 0)\n",
      "[7.76414261000218, 186.13243188501772, 25926.075642581047, 8.011206635842331, 333.7757766108134, 399.13171794893873, 22.84652910661083, 35.24367838874416, 4.105178268056135] => 0 (expected 0)\n",
      "[9.26439090863462, 160.4286939702, 19607.754919172454, 3.988748935660376, 416.6983846311437, 427.7938337302106, 14.992989779791571, 95.8048003722675, 3.175520773635625] => 0 (expected 0)\n",
      "[6.189699260391608, 224.4329492970915, 15229.70286870656, 5.879183845348483, 366.5011179434794, 649.8057645659717, 10.257514712309728, 71.78094925825795, 3.027371480146623] => 0 (expected 1)\n"
     ]
    }
   ],
   "source": [
    "predictions_ = (reconstructed_model.predict(X) > 0.005).astype(\"int32\")\n",
    "for i in range(10):\n",
    "    print('%s => %d (expected %d)' % (X[i].tolist(), predictions_[i], y[i]))"
   ]
  },
  {
   "cell_type": "markdown",
   "id": "cf7cf7c8",
   "metadata": {},
   "source": [
    "# Task 2"
   ]
  },
  {
   "cell_type": "code",
   "execution_count": 120,
   "id": "b104d54d",
   "metadata": {},
   "outputs": [],
   "source": [
    "import numpy as np\n",
    "\n",
    "import keras\n",
    "from keras.preprocessing import image\n",
    "from keras.applications.imagenet_utils import preprocess_input\n",
    "\n",
    "from keras.layers import Dense\n",
    "from keras.models import Model\n",
    "\n",
    "import tensorflow as tf\n",
    "import random"
   ]
  },
  {
   "cell_type": "code",
   "execution_count": 121,
   "id": "83fd29d3",
   "metadata": {},
   "outputs": [
    {
     "data": {
      "text/plain": [
       "['..\\\\data\\\\101_ObjectCategories\\\\accordion',\n",
       " '..\\\\data\\\\101_ObjectCategories\\\\airplanes',\n",
       " '..\\\\data\\\\101_ObjectCategories\\\\anchor',\n",
       " '..\\\\data\\\\101_ObjectCategories\\\\ant',\n",
       " '..\\\\data\\\\101_ObjectCategories\\\\BACKGROUND_Google',\n",
       " '..\\\\data\\\\101_ObjectCategories\\\\barrel',\n",
       " '..\\\\data\\\\101_ObjectCategories\\\\bass',\n",
       " '..\\\\data\\\\101_ObjectCategories\\\\beaver',\n",
       " '..\\\\data\\\\101_ObjectCategories\\\\binocular',\n",
       " '..\\\\data\\\\101_ObjectCategories\\\\bonsai',\n",
       " '..\\\\data\\\\101_ObjectCategories\\\\brain',\n",
       " '..\\\\data\\\\101_ObjectCategories\\\\brontosaurus',\n",
       " '..\\\\data\\\\101_ObjectCategories\\\\buddha',\n",
       " '..\\\\data\\\\101_ObjectCategories\\\\butterfly',\n",
       " '..\\\\data\\\\101_ObjectCategories\\\\camera',\n",
       " '..\\\\data\\\\101_ObjectCategories\\\\cannon',\n",
       " '..\\\\data\\\\101_ObjectCategories\\\\car_side',\n",
       " '..\\\\data\\\\101_ObjectCategories\\\\ceiling_fan',\n",
       " '..\\\\data\\\\101_ObjectCategories\\\\cellphone',\n",
       " '..\\\\data\\\\101_ObjectCategories\\\\chair',\n",
       " '..\\\\data\\\\101_ObjectCategories\\\\chandelier',\n",
       " '..\\\\data\\\\101_ObjectCategories\\\\cougar_body',\n",
       " '..\\\\data\\\\101_ObjectCategories\\\\cougar_face',\n",
       " '..\\\\data\\\\101_ObjectCategories\\\\crab',\n",
       " '..\\\\data\\\\101_ObjectCategories\\\\crayfish',\n",
       " '..\\\\data\\\\101_ObjectCategories\\\\crocodile',\n",
       " '..\\\\data\\\\101_ObjectCategories\\\\crocodile_head',\n",
       " '..\\\\data\\\\101_ObjectCategories\\\\cup',\n",
       " '..\\\\data\\\\101_ObjectCategories\\\\dalmatian',\n",
       " '..\\\\data\\\\101_ObjectCategories\\\\dollar_bill',\n",
       " '..\\\\data\\\\101_ObjectCategories\\\\dolphin',\n",
       " '..\\\\data\\\\101_ObjectCategories\\\\dragonfly',\n",
       " '..\\\\data\\\\101_ObjectCategories\\\\electric_guitar',\n",
       " '..\\\\data\\\\101_ObjectCategories\\\\elephant',\n",
       " '..\\\\data\\\\101_ObjectCategories\\\\emu',\n",
       " '..\\\\data\\\\101_ObjectCategories\\\\euphonium',\n",
       " '..\\\\data\\\\101_ObjectCategories\\\\ewer',\n",
       " '..\\\\data\\\\101_ObjectCategories\\\\Faces',\n",
       " '..\\\\data\\\\101_ObjectCategories\\\\Faces_easy',\n",
       " '..\\\\data\\\\101_ObjectCategories\\\\ferry',\n",
       " '..\\\\data\\\\101_ObjectCategories\\\\flamingo',\n",
       " '..\\\\data\\\\101_ObjectCategories\\\\flamingo_head',\n",
       " '..\\\\data\\\\101_ObjectCategories\\\\garfield',\n",
       " '..\\\\data\\\\101_ObjectCategories\\\\gerenuk',\n",
       " '..\\\\data\\\\101_ObjectCategories\\\\gramophone',\n",
       " '..\\\\data\\\\101_ObjectCategories\\\\grand_piano',\n",
       " '..\\\\data\\\\101_ObjectCategories\\\\hawksbill',\n",
       " '..\\\\data\\\\101_ObjectCategories\\\\headphone',\n",
       " '..\\\\data\\\\101_ObjectCategories\\\\hedgehog',\n",
       " '..\\\\data\\\\101_ObjectCategories\\\\helicopter',\n",
       " '..\\\\data\\\\101_ObjectCategories\\\\ibis',\n",
       " '..\\\\data\\\\101_ObjectCategories\\\\inline_skate',\n",
       " '..\\\\data\\\\101_ObjectCategories\\\\joshua_tree',\n",
       " '..\\\\data\\\\101_ObjectCategories\\\\kangaroo',\n",
       " '..\\\\data\\\\101_ObjectCategories\\\\ketch',\n",
       " '..\\\\data\\\\101_ObjectCategories\\\\lamp',\n",
       " '..\\\\data\\\\101_ObjectCategories\\\\laptop',\n",
       " '..\\\\data\\\\101_ObjectCategories\\\\Leopards',\n",
       " '..\\\\data\\\\101_ObjectCategories\\\\llama',\n",
       " '..\\\\data\\\\101_ObjectCategories\\\\lobster',\n",
       " '..\\\\data\\\\101_ObjectCategories\\\\lotus',\n",
       " '..\\\\data\\\\101_ObjectCategories\\\\mandolin',\n",
       " '..\\\\data\\\\101_ObjectCategories\\\\mayfly',\n",
       " '..\\\\data\\\\101_ObjectCategories\\\\menorah',\n",
       " '..\\\\data\\\\101_ObjectCategories\\\\metronome',\n",
       " '..\\\\data\\\\101_ObjectCategories\\\\minaret',\n",
       " '..\\\\data\\\\101_ObjectCategories\\\\Motorbikes',\n",
       " '..\\\\data\\\\101_ObjectCategories\\\\nautilus',\n",
       " '..\\\\data\\\\101_ObjectCategories\\\\octopus',\n",
       " '..\\\\data\\\\101_ObjectCategories\\\\okapi',\n",
       " '..\\\\data\\\\101_ObjectCategories\\\\pagoda',\n",
       " '..\\\\data\\\\101_ObjectCategories\\\\panda',\n",
       " '..\\\\data\\\\101_ObjectCategories\\\\pigeon',\n",
       " '..\\\\data\\\\101_ObjectCategories\\\\pizza',\n",
       " '..\\\\data\\\\101_ObjectCategories\\\\platypus',\n",
       " '..\\\\data\\\\101_ObjectCategories\\\\pyramid',\n",
       " '..\\\\data\\\\101_ObjectCategories\\\\revolver',\n",
       " '..\\\\data\\\\101_ObjectCategories\\\\rhino',\n",
       " '..\\\\data\\\\101_ObjectCategories\\\\rooster',\n",
       " '..\\\\data\\\\101_ObjectCategories\\\\saxophone',\n",
       " '..\\\\data\\\\101_ObjectCategories\\\\schooner',\n",
       " '..\\\\data\\\\101_ObjectCategories\\\\scissors',\n",
       " '..\\\\data\\\\101_ObjectCategories\\\\scorpion',\n",
       " '..\\\\data\\\\101_ObjectCategories\\\\sea_horse',\n",
       " '..\\\\data\\\\101_ObjectCategories\\\\snoopy',\n",
       " '..\\\\data\\\\101_ObjectCategories\\\\soccer_ball',\n",
       " '..\\\\data\\\\101_ObjectCategories\\\\stapler',\n",
       " '..\\\\data\\\\101_ObjectCategories\\\\starfish',\n",
       " '..\\\\data\\\\101_ObjectCategories\\\\stegosaurus',\n",
       " '..\\\\data\\\\101_ObjectCategories\\\\stop_sign',\n",
       " '..\\\\data\\\\101_ObjectCategories\\\\strawberry',\n",
       " '..\\\\data\\\\101_ObjectCategories\\\\sunflower',\n",
       " '..\\\\data\\\\101_ObjectCategories\\\\tick',\n",
       " '..\\\\data\\\\101_ObjectCategories\\\\trilobite',\n",
       " '..\\\\data\\\\101_ObjectCategories\\\\umbrella',\n",
       " '..\\\\data\\\\101_ObjectCategories\\\\watch',\n",
       " '..\\\\data\\\\101_ObjectCategories\\\\water_lilly',\n",
       " '..\\\\data\\\\101_ObjectCategories\\\\wheelchair',\n",
       " '..\\\\data\\\\101_ObjectCategories\\\\wild_cat',\n",
       " '..\\\\data\\\\101_ObjectCategories\\\\windsor_chair',\n",
       " '..\\\\data\\\\101_ObjectCategories\\\\wrench',\n",
       " '..\\\\data\\\\101_ObjectCategories\\\\yin_yang']"
      ]
     },
     "execution_count": 121,
     "metadata": {},
     "output_type": "execute_result"
    }
   ],
   "source": [
    "import os\n",
    "\n",
    "root = '..\\\\data\\\\101_ObjectCategories\\\\'\n",
    "categories = [x[0] for x in os.walk(root) if x[0]][1:]\n",
    "categories"
   ]
  },
  {
   "cell_type": "code",
   "execution_count": 122,
   "id": "d88e0390",
   "metadata": {},
   "outputs": [
    {
     "data": {
      "text/plain": [
       "['..\\\\data\\\\101_ObjectCategories\\\\camera',\n",
       " '..\\\\data\\\\101_ObjectCategories\\\\Leopards',\n",
       " '..\\\\data\\\\101_ObjectCategories\\\\pizza',\n",
       " '..\\\\data\\\\101_ObjectCategories\\\\flamingo']"
      ]
     },
     "execution_count": 122,
     "metadata": {},
     "output_type": "execute_result"
    }
   ],
   "source": [
    "categories = ['..\\\\data\\\\101_ObjectCategories\\\\camera', '..\\\\data\\\\101_ObjectCategories\\\\Leopards', \n",
    "              '..\\\\data\\\\101_ObjectCategories\\\\pizza', '..\\\\data\\\\101_ObjectCategories\\\\flamingo']\n",
    "categories"
   ]
  },
  {
   "cell_type": "code",
   "execution_count": 127,
   "id": "2a74d692",
   "metadata": {},
   "outputs": [],
   "source": [
    "def get_image(path):\n",
    "    img = tf.keras.preprocessing.image.load_img(path, target_size=(224, 224))\n",
    "    x = tf.keras.preprocessing.image.img_to_array(img)\n",
    "    x = np.expand_dims(x, axis=0)\n",
    "    x = preprocess_input(x)\n",
    "    return img, x    "
   ]
  },
  {
   "cell_type": "code",
   "execution_count": 128,
   "id": "c123fb72",
   "metadata": {},
   "outputs": [],
   "source": [
    "data = []\n",
    "for c, category in enumerate(categories):\n",
    "    images = [os.path.join(dp, f) for dp, dn, filenames \n",
    "              in os.walk(category) for f in filenames \n",
    "              if os.path.splitext(f)[1].lower() in ['.jpg','.png','.jpeg']]\n",
    "    for img_path in images:\n",
    "        img, x = get_image(img_path)\n",
    "        data.append({'x':np.array(x[0]), 'y':c})\n",
    "\n",
    "# count the number of classes\n",
    "num_classes = len(categories)"
   ]
  },
  {
   "cell_type": "code",
   "execution_count": 129,
   "id": "5f57f72d",
   "metadata": {},
   "outputs": [
    {
     "name": "stdout",
     "output_type": "stream",
     "text": [
      "4\n",
      "370\n"
     ]
    }
   ],
   "source": [
    "print(num_classes)\n",
    "print(len(data))"
   ]
  },
  {
   "cell_type": "code",
   "execution_count": 130,
   "id": "c0a0bc6a",
   "metadata": {},
   "outputs": [],
   "source": [
    "random.shuffle(data)\n",
    "train_split = 0.8\n",
    "idx_test = int((train_split) * len(data))\n",
    "\n",
    "data_train = data[:idx_test]\n",
    "data_test = data[idx_test:]"
   ]
  },
  {
   "cell_type": "code",
   "execution_count": 131,
   "id": "b1744bad",
   "metadata": {},
   "outputs": [
    {
     "data": {
      "text/plain": [
       "True"
      ]
     },
     "execution_count": 131,
     "metadata": {},
     "output_type": "execute_result"
    }
   ],
   "source": [
    "len(data_train) + len(data_test) == len(data)"
   ]
  },
  {
   "cell_type": "code",
   "execution_count": 132,
   "id": "74ea1c7e",
   "metadata": {},
   "outputs": [],
   "source": [
    "x_train, y_train = np.array([t[\"x\"] for t in data_train]), [t[\"y\"] for t in data_train]\n",
    "x_test, y_test = np.array([t[\"x\"] for t in data_test]), [t[\"y\"] for t in data_test]"
   ]
  },
  {
   "cell_type": "code",
   "execution_count": 133,
   "id": "ba62a26a",
   "metadata": {},
   "outputs": [],
   "source": [
    "x_train = x_train.astype('float32') / 255.\n",
    "x_test = x_test.astype('float32') / 255.\n",
    " \n",
    "# convert labels to one-hot vectors\n",
    "y_train = tf.keras.utils.to_categorical(y_train, num_classes)\n",
    "y_test = tf.keras.utils.to_categorical(y_test, num_classes)"
   ]
  },
  {
   "cell_type": "code",
   "execution_count": 135,
   "id": "af8d5a5f",
   "metadata": {
    "scrolled": false
   },
   "outputs": [
    {
     "name": "stdout",
     "output_type": "stream",
     "text": [
      "Downloading data from https://storage.googleapis.com/tensorflow/keras-applications/vgg16/vgg16_weights_tf_dim_ordering_tf_kernels.h5\n",
      "553467096/553467096 [==============================] - 40s 0us/step\n",
      "Model: \"vgg16\"\n",
      "_________________________________________________________________\n",
      " Layer (type)                Output Shape              Param #   \n",
      "=================================================================\n",
      " input_1 (InputLayer)        [(None, 224, 224, 3)]     0         \n",
      "                                                                 \n",
      " block1_conv1 (Conv2D)       (None, 224, 224, 64)      1792      \n",
      "                                                                 \n",
      " block1_conv2 (Conv2D)       (None, 224, 224, 64)      36928     \n",
      "                                                                 \n",
      " block1_pool (MaxPooling2D)  (None, 112, 112, 64)      0         \n",
      "                                                                 \n",
      " block2_conv1 (Conv2D)       (None, 112, 112, 128)     73856     \n",
      "                                                                 \n",
      " block2_conv2 (Conv2D)       (None, 112, 112, 128)     147584    \n",
      "                                                                 \n",
      " block2_pool (MaxPooling2D)  (None, 56, 56, 128)       0         \n",
      "                                                                 \n",
      " block3_conv1 (Conv2D)       (None, 56, 56, 256)       295168    \n",
      "                                                                 \n",
      " block3_conv2 (Conv2D)       (None, 56, 56, 256)       590080    \n",
      "                                                                 \n",
      " block3_conv3 (Conv2D)       (None, 56, 56, 256)       590080    \n",
      "                                                                 \n",
      " block3_pool (MaxPooling2D)  (None, 28, 28, 256)       0         \n",
      "                                                                 \n",
      " block4_conv1 (Conv2D)       (None, 28, 28, 512)       1180160   \n",
      "                                                                 \n",
      " block4_conv2 (Conv2D)       (None, 28, 28, 512)       2359808   \n",
      "                                                                 \n",
      " block4_conv3 (Conv2D)       (None, 28, 28, 512)       2359808   \n",
      "                                                                 \n",
      " block4_pool (MaxPooling2D)  (None, 14, 14, 512)       0         \n",
      "                                                                 \n",
      " block5_conv1 (Conv2D)       (None, 14, 14, 512)       2359808   \n",
      "                                                                 \n",
      " block5_conv2 (Conv2D)       (None, 14, 14, 512)       2359808   \n",
      "                                                                 \n",
      " block5_conv3 (Conv2D)       (None, 14, 14, 512)       2359808   \n",
      "                                                                 \n",
      " block5_pool (MaxPooling2D)  (None, 7, 7, 512)         0         \n",
      "                                                                 \n",
      " flatten (Flatten)           (None, 25088)             0         \n",
      "                                                                 \n",
      " fc1 (Dense)                 (None, 4096)              102764544 \n",
      "                                                                 \n",
      " fc2 (Dense)                 (None, 4096)              16781312  \n",
      "                                                                 \n",
      " predictions (Dense)         (None, 1000)              4097000   \n",
      "                                                                 \n",
      "=================================================================\n",
      "Total params: 138,357,544\n",
      "Trainable params: 138,357,544\n",
      "Non-trainable params: 0\n",
      "_________________________________________________________________\n"
     ]
    }
   ],
   "source": [
    "vgg = tf.keras.applications.VGG16(weights='imagenet', include_top=True)\n",
    "vgg.summary()"
   ]
  },
  {
   "cell_type": "code",
   "execution_count": 139,
   "id": "d6132dfa",
   "metadata": {},
   "outputs": [],
   "source": [
    "# make a reference to VGG's input layer\n",
    "inp = vgg.input\n",
    "\n",
    "# make a new softmax layer with num_classes neurons\n",
    "new_classification_layer = Dense(num_classes, activation='softmax')\n",
    "\n",
    "# connect our new layer to the second to last layer in VGG, and make a reference to it\n",
    "out = new_classification_layer(vgg.layers[-2].output)\n",
    "\n",
    "# create a new network between inp and out\n",
    "model_new = Model(inp, out)"
   ]
  },
  {
   "cell_type": "code",
   "execution_count": 140,
   "id": "f19fe536",
   "metadata": {
    "scrolled": false
   },
   "outputs": [
    {
     "name": "stdout",
     "output_type": "stream",
     "text": [
      "Model: \"model\"\n",
      "_________________________________________________________________\n",
      " Layer (type)                Output Shape              Param #   \n",
      "=================================================================\n",
      " input_1 (InputLayer)        [(None, 224, 224, 3)]     0         \n",
      "                                                                 \n",
      " block1_conv1 (Conv2D)       (None, 224, 224, 64)      1792      \n",
      "                                                                 \n",
      " block1_conv2 (Conv2D)       (None, 224, 224, 64)      36928     \n",
      "                                                                 \n",
      " block1_pool (MaxPooling2D)  (None, 112, 112, 64)      0         \n",
      "                                                                 \n",
      " block2_conv1 (Conv2D)       (None, 112, 112, 128)     73856     \n",
      "                                                                 \n",
      " block2_conv2 (Conv2D)       (None, 112, 112, 128)     147584    \n",
      "                                                                 \n",
      " block2_pool (MaxPooling2D)  (None, 56, 56, 128)       0         \n",
      "                                                                 \n",
      " block3_conv1 (Conv2D)       (None, 56, 56, 256)       295168    \n",
      "                                                                 \n",
      " block3_conv2 (Conv2D)       (None, 56, 56, 256)       590080    \n",
      "                                                                 \n",
      " block3_conv3 (Conv2D)       (None, 56, 56, 256)       590080    \n",
      "                                                                 \n",
      " block3_pool (MaxPooling2D)  (None, 28, 28, 256)       0         \n",
      "                                                                 \n",
      " block4_conv1 (Conv2D)       (None, 28, 28, 512)       1180160   \n",
      "                                                                 \n",
      " block4_conv2 (Conv2D)       (None, 28, 28, 512)       2359808   \n",
      "                                                                 \n",
      " block4_conv3 (Conv2D)       (None, 28, 28, 512)       2359808   \n",
      "                                                                 \n",
      " block4_pool (MaxPooling2D)  (None, 14, 14, 512)       0         \n",
      "                                                                 \n",
      " block5_conv1 (Conv2D)       (None, 14, 14, 512)       2359808   \n",
      "                                                                 \n",
      " block5_conv2 (Conv2D)       (None, 14, 14, 512)       2359808   \n",
      "                                                                 \n",
      " block5_conv3 (Conv2D)       (None, 14, 14, 512)       2359808   \n",
      "                                                                 \n",
      " block5_pool (MaxPooling2D)  (None, 7, 7, 512)         0         \n",
      "                                                                 \n",
      " flatten (Flatten)           (None, 25088)             0         \n",
      "                                                                 \n",
      " fc1 (Dense)                 (None, 4096)              102764544 \n",
      "                                                                 \n",
      " fc2 (Dense)                 (None, 4096)              16781312  \n",
      "                                                                 \n",
      " dense_16 (Dense)            (None, 4)                 16388     \n",
      "                                                                 \n",
      "=================================================================\n",
      "Total params: 134,276,932\n",
      "Trainable params: 134,276,932\n",
      "Non-trainable params: 0\n",
      "_________________________________________________________________\n"
     ]
    }
   ],
   "source": [
    "model_new.summary()"
   ]
  },
  {
   "cell_type": "code",
   "execution_count": 141,
   "id": "afb3e578",
   "metadata": {},
   "outputs": [],
   "source": [
    "for l, layer in enumerate(model_new.layers[:-1]):\n",
    "    layer.trainable = False\n",
    "\n",
    "# ensure the last layer is trainable/not frozen\n",
    "for l, layer in enumerate(model_new.layers[-1:]):\n",
    "    layer.trainable = True"
   ]
  },
  {
   "cell_type": "code",
   "execution_count": 185,
   "id": "f6add168",
   "metadata": {},
   "outputs": [
    {
     "data": {
      "text/plain": [
       "[<tf.Variable 'block1_conv1/kernel:0' shape=(3, 3, 3, 64) dtype=float32, numpy=\n",
       " array([[[[ 4.29470569e-01,  1.17273867e-01,  3.40129584e-02, ...,\n",
       "           -1.32241577e-01, -5.33475243e-02,  7.57738389e-03],\n",
       "          [ 5.50379455e-01,  2.08774377e-02,  9.88311544e-02, ...,\n",
       "           -8.48205537e-02, -5.11389151e-02,  3.74943428e-02],\n",
       "          [ 4.80015397e-01, -1.72696680e-01,  3.75577137e-02, ...,\n",
       "           -1.27135560e-01, -5.02991639e-02,  3.48965675e-02]],\n",
       " \n",
       "         [[ 3.73466998e-01,  1.62062630e-01,  1.70863140e-03, ...,\n",
       "           -1.48207128e-01, -2.35300660e-01, -6.30356818e-02],\n",
       "          [ 4.40074533e-01,  4.73412387e-02,  5.13819456e-02, ...,\n",
       "           -9.88498852e-02, -2.96195745e-01, -7.04357103e-02],\n",
       "          [ 4.08547401e-01, -1.70375049e-01, -4.96297423e-03, ...,\n",
       "           -1.22360572e-01, -2.76450396e-01, -3.90796512e-02]],\n",
       " \n",
       "         [[-6.13601133e-02,  1.35693997e-01, -1.15694344e-01, ...,\n",
       "           -1.40158370e-01, -3.77666801e-01, -3.00509870e-01],\n",
       "          [-8.13870355e-02,  4.18543853e-02, -1.01763301e-01, ...,\n",
       "           -9.43124294e-02, -5.05662560e-01, -3.83694321e-01],\n",
       "          [-6.51455522e-02, -1.54351532e-01, -1.38038069e-01, ...,\n",
       "           -1.29404560e-01, -4.62243795e-01, -3.23985279e-01]]],\n",
       " \n",
       " \n",
       "        [[[ 2.74769872e-01,  1.48350164e-01,  1.61559835e-01, ...,\n",
       "           -1.14316158e-01,  3.65494519e-01,  3.39938998e-01],\n",
       "          [ 3.45739067e-01,  3.10493708e-02,  2.40750551e-01, ...,\n",
       "           -6.93419054e-02,  4.37116861e-01,  4.13171440e-01],\n",
       "          [ 3.10477257e-01, -1.87601492e-01,  1.66595340e-01, ...,\n",
       "           -9.88388434e-02,  4.04058546e-01,  3.92561197e-01]],\n",
       " \n",
       "         [[ 3.86807770e-02,  2.02298447e-01,  1.56414255e-01, ...,\n",
       "           -5.20089604e-02,  2.57149011e-01,  3.71682674e-01],\n",
       "          [ 4.06322069e-02,  6.58102185e-02,  2.20311403e-01, ...,\n",
       "           -3.78979952e-03,  2.69412428e-01,  4.09505904e-01],\n",
       "          [ 5.02023660e-02, -1.77571565e-01,  1.51188180e-01, ...,\n",
       "           -1.40649760e-02,  2.59300828e-01,  4.23764467e-01]],\n",
       " \n",
       "         [[-3.67223352e-01,  1.61688417e-01, -8.99365395e-02, ...,\n",
       "           -1.45945460e-01, -2.71823555e-01, -2.39718184e-01],\n",
       "          [-4.53501314e-01,  4.62574959e-02, -6.67438358e-02, ...,\n",
       "           -1.03502415e-01, -3.45792353e-01, -2.92486250e-01],\n",
       "          [-4.03383434e-01, -1.74399972e-01, -1.09849639e-01, ...,\n",
       "           -1.25688612e-01, -3.14026326e-01, -2.32839763e-01]]],\n",
       " \n",
       " \n",
       "        [[[-5.74681684e-02,  1.29344285e-01,  1.29030216e-02, ...,\n",
       "           -1.41449392e-01,  2.41099641e-01,  4.55602147e-02],\n",
       "          [-5.86349145e-02,  3.16787697e-02,  7.59588331e-02, ...,\n",
       "           -1.05017252e-01,  3.39550197e-01,  9.86374393e-02],\n",
       "          [-5.08716851e-02, -1.66002661e-01,  1.56279504e-02, ...,\n",
       "           -1.49742723e-01,  3.06801915e-01,  8.82701725e-02]],\n",
       " \n",
       "         [[-2.62249678e-01,  1.71572417e-01,  5.44555223e-05, ...,\n",
       "           -1.22728683e-01,  2.44687453e-01,  5.32913655e-02],\n",
       "          [-3.30669671e-01,  5.47101051e-02,  4.86797579e-02, ...,\n",
       "           -8.29023942e-02,  2.95466095e-01,  7.44469985e-02],\n",
       "          [-2.85227507e-01, -1.66666731e-01, -7.96697661e-03, ...,\n",
       "           -1.09780088e-01,  2.79203743e-01,  9.46525261e-02]],\n",
       " \n",
       "         [[-3.50096762e-01,  1.38710454e-01, -1.25339806e-01, ...,\n",
       "           -1.53092295e-01, -1.39917329e-01, -2.65075237e-01],\n",
       "          [-4.85030204e-01,  4.23195846e-02, -1.12076312e-01, ...,\n",
       "           -1.18306056e-01, -1.67058021e-01, -3.22241962e-01],\n",
       "          [-4.18516338e-01, -1.57048807e-01, -1.49133086e-01, ...,\n",
       "           -1.56839803e-01, -1.42874300e-01, -2.69694626e-01]]]],\n",
       "       dtype=float32)>,\n",
       " <tf.Variable 'block1_conv1/bias:0' shape=(64,) dtype=float32, numpy=\n",
       " array([ 0.73429835,  0.09340367,  0.06775674,  0.8862966 ,  0.25994542,\n",
       "         0.66426694, -0.01582893,  0.3249065 ,  0.68600726,  0.06247932,\n",
       "         0.58156496,  0.2361475 ,  0.69694996,  0.19451167,  0.4858922 ,\n",
       "         0.44571847,  0.5113422 ,  0.208576  ,  0.57557714,  0.33199573,\n",
       "         0.4997983 ,  0.7117759 ,  0.30284074,  0.7082712 ,  0.04548979,\n",
       "         0.7446502 ,  0.29845494,  0.48211655,  0.81658626,  0.62603897,\n",
       "         0.3768093 ,  2.064037  ,  0.77311045,  0.3459577 ,  0.6130958 ,\n",
       "         0.65459156,  0.39045632,  0.50869167,  0.2625384 ,  0.23669638,\n",
       "         0.07971057,  1.1179353 ,  0.26129362,  0.8697589 ,  0.21543622,\n",
       "         0.78007823,  0.37015367,  0.47993386,  0.4313978 ,  0.5084194 ,\n",
       "         0.23049663,  0.7636527 ,  0.35419866,  0.45794216,  0.4662595 ,\n",
       "         0.09850298,  0.3803252 ,  0.66880196,  0.4015123 ,  0.90510356,\n",
       "         0.43166816,  1.302014  ,  0.5306885 ,  0.48993504], dtype=float32)>]"
      ]
     },
     "execution_count": 185,
     "metadata": {},
     "output_type": "execute_result"
    }
   ],
   "source": [
    "model_new.layers[1].weights"
   ]
  },
  {
   "cell_type": "code",
   "execution_count": 142,
   "id": "2cb3d416",
   "metadata": {},
   "outputs": [
    {
     "name": "stdout",
     "output_type": "stream",
     "text": [
      "Model: \"model\"\n",
      "_________________________________________________________________\n",
      " Layer (type)                Output Shape              Param #   \n",
      "=================================================================\n",
      " input_1 (InputLayer)        [(None, 224, 224, 3)]     0         \n",
      "                                                                 \n",
      " block1_conv1 (Conv2D)       (None, 224, 224, 64)      1792      \n",
      "                                                                 \n",
      " block1_conv2 (Conv2D)       (None, 224, 224, 64)      36928     \n",
      "                                                                 \n",
      " block1_pool (MaxPooling2D)  (None, 112, 112, 64)      0         \n",
      "                                                                 \n",
      " block2_conv1 (Conv2D)       (None, 112, 112, 128)     73856     \n",
      "                                                                 \n",
      " block2_conv2 (Conv2D)       (None, 112, 112, 128)     147584    \n",
      "                                                                 \n",
      " block2_pool (MaxPooling2D)  (None, 56, 56, 128)       0         \n",
      "                                                                 \n",
      " block3_conv1 (Conv2D)       (None, 56, 56, 256)       295168    \n",
      "                                                                 \n",
      " block3_conv2 (Conv2D)       (None, 56, 56, 256)       590080    \n",
      "                                                                 \n",
      " block3_conv3 (Conv2D)       (None, 56, 56, 256)       590080    \n",
      "                                                                 \n",
      " block3_pool (MaxPooling2D)  (None, 28, 28, 256)       0         \n",
      "                                                                 \n",
      " block4_conv1 (Conv2D)       (None, 28, 28, 512)       1180160   \n",
      "                                                                 \n",
      " block4_conv2 (Conv2D)       (None, 28, 28, 512)       2359808   \n",
      "                                                                 \n",
      " block4_conv3 (Conv2D)       (None, 28, 28, 512)       2359808   \n",
      "                                                                 \n",
      " block4_pool (MaxPooling2D)  (None, 14, 14, 512)       0         \n",
      "                                                                 \n",
      " block5_conv1 (Conv2D)       (None, 14, 14, 512)       2359808   \n",
      "                                                                 \n",
      " block5_conv2 (Conv2D)       (None, 14, 14, 512)       2359808   \n",
      "                                                                 \n",
      " block5_conv3 (Conv2D)       (None, 14, 14, 512)       2359808   \n",
      "                                                                 \n",
      " block5_pool (MaxPooling2D)  (None, 7, 7, 512)         0         \n",
      "                                                                 \n",
      " flatten (Flatten)           (None, 25088)             0         \n",
      "                                                                 \n",
      " fc1 (Dense)                 (None, 4096)              102764544 \n",
      "                                                                 \n",
      " fc2 (Dense)                 (None, 4096)              16781312  \n",
      "                                                                 \n",
      " dense_16 (Dense)            (None, 4)                 16388     \n",
      "                                                                 \n",
      "=================================================================\n",
      "Total params: 134,276,932\n",
      "Trainable params: 16,388\n",
      "Non-trainable params: 134,260,544\n",
      "_________________________________________________________________\n"
     ]
    }
   ],
   "source": [
    "model_new.compile(loss='categorical_crossentropy',\n",
    "              optimizer='adam',\n",
    "              metrics=['accuracy'])\n",
    "\n",
    "model_new.summary()"
   ]
  },
  {
   "cell_type": "code",
   "execution_count": 143,
   "id": "eb8b9f31",
   "metadata": {},
   "outputs": [
    {
     "name": "stdout",
     "output_type": "stream",
     "text": [
      "Epoch 1/10\n",
      "30/30 [==============================] - 36s 1s/step - loss: 1.0450 - accuracy: 0.6014\n",
      "Epoch 2/10\n",
      "30/30 [==============================] - 41s 1s/step - loss: 0.1905 - accuracy: 0.9662\n",
      "Epoch 3/10\n",
      "30/30 [==============================] - 40s 1s/step - loss: 0.0997 - accuracy: 0.9865\n",
      "Epoch 4/10\n",
      "30/30 [==============================] - 41s 1s/step - loss: 0.0764 - accuracy: 0.9932\n",
      "Epoch 5/10\n",
      "30/30 [==============================] - 40s 1s/step - loss: 0.0572 - accuracy: 0.9932\n",
      "Epoch 6/10\n",
      "30/30 [==============================] - 40s 1s/step - loss: 0.0519 - accuracy: 0.9932\n",
      "Epoch 7/10\n",
      "30/30 [==============================] - 40s 1s/step - loss: 0.0390 - accuracy: 0.9966\n",
      "Epoch 8/10\n",
      "30/30 [==============================] - 41s 1s/step - loss: 0.0385 - accuracy: 0.9966\n",
      "Epoch 9/10\n",
      "30/30 [==============================] - 40s 1s/step - loss: 0.0289 - accuracy: 0.9966\n",
      "Epoch 10/10\n",
      "30/30 [==============================] - 44s 1s/step - loss: 0.0296 - accuracy: 0.9966\n"
     ]
    },
    {
     "data": {
      "text/plain": [
       "<keras.callbacks.History at 0x1e3023e9360>"
      ]
     },
     "execution_count": 143,
     "metadata": {},
     "output_type": "execute_result"
    }
   ],
   "source": [
    "model_new.fit(x_train, y_train, batch_size=10, epochs=10)"
   ]
  },
  {
   "cell_type": "code",
   "execution_count": 144,
   "id": "e79025d2",
   "metadata": {},
   "outputs": [
    {
     "name": "stdout",
     "output_type": "stream",
     "text": [
      "Test loss: 0.028041349723935127\n",
      "Test accuracy: 1.0\n"
     ]
    }
   ],
   "source": [
    "loss, accuracy = model_new.evaluate(x_test, y_test, verbose=0)\n",
    "\n",
    "print('Test loss:', loss)\n",
    "print('Test accuracy:', accuracy)"
   ]
  },
  {
   "cell_type": "code",
   "execution_count": 178,
   "id": "c6ca6e61",
   "metadata": {
    "scrolled": true
   },
   "outputs": [
    {
     "name": "stdout",
     "output_type": "stream",
     "text": [
      "1/1 [==============================] - 0s 164ms/step\n",
      "(('camera', 1.0), ('Leopards', 0.0), ('pizza', 0.0), ('flamingo', 0.0))\n"
     ]
    }
   ],
   "source": [
    "img, x = get_image('../data/101_ObjectCategories/camera/image_0007.jpg')\n",
    "probabilities = model_new.predict([x])\n",
    "print(tuple(zip([cat.split('\\\\')[-1] for cat in categories],\n",
    "                probabilities.squeeze().round(10))))"
   ]
  },
  {
   "cell_type": "code",
   "execution_count": 179,
   "id": "b79989ff",
   "metadata": {},
   "outputs": [
    {
     "name": "stdout",
     "output_type": "stream",
     "text": [
      "1/1 [==============================] - 0s 196ms/step\n",
      "(('camera', 7.33e-08), ('Leopards', 0.99975055), ('pizza', 2.602e-07), ('flamingo', 0.0002490776))\n"
     ]
    }
   ],
   "source": [
    "img, x = get_image('../data/101_ObjectCategories/Leopards/image_0007.jpg')\n",
    "probabilities = model_new.predict([x])\n",
    "print(tuple(zip([cat.split('\\\\')[-1] for cat in categories],\n",
    "                probabilities.squeeze().round(10))))"
   ]
  },
  {
   "cell_type": "code",
   "execution_count": 180,
   "id": "09f55759",
   "metadata": {},
   "outputs": [
    {
     "name": "stdout",
     "output_type": "stream",
     "text": [
      "1/1 [==============================] - 0s 166ms/step\n",
      "(('camera', 0.0), ('Leopards', 0.0), ('pizza', 1.0), ('flamingo', 0.0))\n"
     ]
    }
   ],
   "source": [
    "img, x = get_image('../data/101_ObjectCategories/pizza/image_0007.jpg')\n",
    "probabilities = model_new.predict([x])\n",
    "print(tuple(zip([cat.split('\\\\')[-1] for cat in categories],\n",
    "                probabilities.squeeze().round(10))))"
   ]
  },
  {
   "cell_type": "code",
   "execution_count": 181,
   "id": "7fe537af",
   "metadata": {},
   "outputs": [
    {
     "name": "stdout",
     "output_type": "stream",
     "text": [
      "1/1 [==============================] - 0s 168ms/step\n",
      "(('camera', 0.0), ('Leopards', 0.0), ('pizza', 0.0), ('flamingo', 1.0))\n"
     ]
    }
   ],
   "source": [
    "img, x = get_image('../data/101_ObjectCategories/flamingo/image_0007.jpg')\n",
    "probabilities = model_new.predict([x])\n",
    "print(tuple(zip([cat.split('\\\\')[-1] for cat in categories],\n",
    "                probabilities.squeeze().round(10))))"
   ]
  },
  {
   "cell_type": "code",
   "execution_count": 182,
   "id": "bbb67575",
   "metadata": {},
   "outputs": [
    {
     "name": "stdout",
     "output_type": "stream",
     "text": [
      "1/1 [==============================] - 0s 164ms/step\n",
      "(('camera', 0.72944117), ('Leopards', 0.0178527), ('pizza', 0.026385635), ('flamingo', 0.22632049))\n"
     ]
    }
   ],
   "source": [
    "img, x = get_image('../data/101_ObjectCategories/saxophone/image_0007.jpg')\n",
    "probabilities = model_new.predict([x])\n",
    "print(tuple(zip([cat.split('\\\\')[-1] for cat in categories],\n",
    "                probabilities.squeeze().round(10))))"
   ]
  }
 ],
 "metadata": {
  "kernelspec": {
   "display_name": "Python 3 (ipykernel)",
   "language": "python",
   "name": "python3"
  },
  "language_info": {
   "codemirror_mode": {
    "name": "ipython",
    "version": 3
   },
   "file_extension": ".py",
   "mimetype": "text/x-python",
   "name": "python",
   "nbconvert_exporter": "python",
   "pygments_lexer": "ipython3",
   "version": "3.10.4"
  }
 },
 "nbformat": 4,
 "nbformat_minor": 5
}
