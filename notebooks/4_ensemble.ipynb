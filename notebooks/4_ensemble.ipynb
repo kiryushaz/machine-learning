{
 "cells": [
  {
   "cell_type": "code",
   "execution_count": 1,
   "id": "74da9b7d",
   "metadata": {},
   "outputs": [],
   "source": [
    "import numpy as np\n",
    "import pandas as pd\n",
    "\n",
    "from sklearn.model_selection import train_test_split, GridSearchCV\n",
    "from sklearn.preprocessing import StandardScaler, OrdinalEncoder"
   ]
  },
  {
   "cell_type": "code",
   "execution_count": 2,
   "id": "1f49e980",
   "metadata": {},
   "outputs": [],
   "source": [
    "from sklearn.metrics import classification_report, confusion_matrix, r2_score, mean_squared_error, mean_absolute_error"
   ]
  },
  {
   "cell_type": "code",
   "execution_count": 3,
   "id": "9fd13ef4",
   "metadata": {},
   "outputs": [],
   "source": [
    "import warnings\n",
    "warnings.filterwarnings(\"ignore\")"
   ]
  },
  {
   "cell_type": "markdown",
   "id": "64a8c001",
   "metadata": {},
   "source": [
    "Датасет про питьевые воды"
   ]
  },
  {
   "cell_type": "code",
   "execution_count": 4,
   "id": "1e6c0365",
   "metadata": {},
   "outputs": [
    {
     "data": {
      "text/html": [
       "<div>\n",
       "<style scoped>\n",
       "    .dataframe tbody tr th:only-of-type {\n",
       "        vertical-align: middle;\n",
       "    }\n",
       "\n",
       "    .dataframe tbody tr th {\n",
       "        vertical-align: top;\n",
       "    }\n",
       "\n",
       "    .dataframe thead th {\n",
       "        text-align: right;\n",
       "    }\n",
       "</style>\n",
       "<table border=\"1\" class=\"dataframe\">\n",
       "  <thead>\n",
       "    <tr style=\"text-align: right;\">\n",
       "      <th></th>\n",
       "      <th>ph</th>\n",
       "      <th>Hardness</th>\n",
       "      <th>Solids</th>\n",
       "      <th>Chloramines</th>\n",
       "      <th>Sulfate</th>\n",
       "      <th>Conductivity</th>\n",
       "      <th>Organic_carbon</th>\n",
       "      <th>Trihalomethanes</th>\n",
       "      <th>Turbidity</th>\n",
       "      <th>Potability</th>\n",
       "    </tr>\n",
       "  </thead>\n",
       "  <tbody>\n",
       "    <tr>\n",
       "      <th>0</th>\n",
       "      <td>7.080795</td>\n",
       "      <td>204.890455</td>\n",
       "      <td>20791.318981</td>\n",
       "      <td>7.300212</td>\n",
       "      <td>368.516441</td>\n",
       "      <td>564.308654</td>\n",
       "      <td>10.379783</td>\n",
       "      <td>86.990970</td>\n",
       "      <td>2.963135</td>\n",
       "      <td>0</td>\n",
       "    </tr>\n",
       "    <tr>\n",
       "      <th>1</th>\n",
       "      <td>3.716080</td>\n",
       "      <td>129.422921</td>\n",
       "      <td>18630.057858</td>\n",
       "      <td>6.635246</td>\n",
       "      <td>333.775777</td>\n",
       "      <td>592.885359</td>\n",
       "      <td>15.180013</td>\n",
       "      <td>56.329076</td>\n",
       "      <td>4.500656</td>\n",
       "      <td>0</td>\n",
       "    </tr>\n",
       "    <tr>\n",
       "      <th>2</th>\n",
       "      <td>8.099124</td>\n",
       "      <td>224.236259</td>\n",
       "      <td>19909.541732</td>\n",
       "      <td>9.275884</td>\n",
       "      <td>333.775777</td>\n",
       "      <td>418.606213</td>\n",
       "      <td>16.868637</td>\n",
       "      <td>66.420093</td>\n",
       "      <td>3.055934</td>\n",
       "      <td>0</td>\n",
       "    </tr>\n",
       "    <tr>\n",
       "      <th>3</th>\n",
       "      <td>8.316766</td>\n",
       "      <td>214.373394</td>\n",
       "      <td>22018.417441</td>\n",
       "      <td>8.059332</td>\n",
       "      <td>356.886136</td>\n",
       "      <td>363.266516</td>\n",
       "      <td>18.436524</td>\n",
       "      <td>100.341674</td>\n",
       "      <td>4.628771</td>\n",
       "      <td>0</td>\n",
       "    </tr>\n",
       "    <tr>\n",
       "      <th>4</th>\n",
       "      <td>9.092223</td>\n",
       "      <td>181.101509</td>\n",
       "      <td>17978.986339</td>\n",
       "      <td>6.546600</td>\n",
       "      <td>310.135738</td>\n",
       "      <td>398.410813</td>\n",
       "      <td>11.558279</td>\n",
       "      <td>31.997993</td>\n",
       "      <td>4.075075</td>\n",
       "      <td>0</td>\n",
       "    </tr>\n",
       "    <tr>\n",
       "      <th>...</th>\n",
       "      <td>...</td>\n",
       "      <td>...</td>\n",
       "      <td>...</td>\n",
       "      <td>...</td>\n",
       "      <td>...</td>\n",
       "      <td>...</td>\n",
       "      <td>...</td>\n",
       "      <td>...</td>\n",
       "      <td>...</td>\n",
       "      <td>...</td>\n",
       "    </tr>\n",
       "    <tr>\n",
       "      <th>3271</th>\n",
       "      <td>4.668102</td>\n",
       "      <td>193.681735</td>\n",
       "      <td>47580.991603</td>\n",
       "      <td>7.166639</td>\n",
       "      <td>359.948574</td>\n",
       "      <td>526.424171</td>\n",
       "      <td>13.894419</td>\n",
       "      <td>66.687695</td>\n",
       "      <td>4.435821</td>\n",
       "      <td>1</td>\n",
       "    </tr>\n",
       "    <tr>\n",
       "      <th>3272</th>\n",
       "      <td>7.808856</td>\n",
       "      <td>193.553212</td>\n",
       "      <td>17329.802160</td>\n",
       "      <td>8.061362</td>\n",
       "      <td>333.775777</td>\n",
       "      <td>392.449580</td>\n",
       "      <td>19.903225</td>\n",
       "      <td>66.396293</td>\n",
       "      <td>2.798243</td>\n",
       "      <td>1</td>\n",
       "    </tr>\n",
       "    <tr>\n",
       "      <th>3273</th>\n",
       "      <td>9.419510</td>\n",
       "      <td>175.762646</td>\n",
       "      <td>33155.578218</td>\n",
       "      <td>7.350233</td>\n",
       "      <td>333.775777</td>\n",
       "      <td>432.044783</td>\n",
       "      <td>11.039070</td>\n",
       "      <td>69.845400</td>\n",
       "      <td>3.298875</td>\n",
       "      <td>1</td>\n",
       "    </tr>\n",
       "    <tr>\n",
       "      <th>3274</th>\n",
       "      <td>5.126763</td>\n",
       "      <td>230.603758</td>\n",
       "      <td>11983.869376</td>\n",
       "      <td>6.303357</td>\n",
       "      <td>333.775777</td>\n",
       "      <td>402.883113</td>\n",
       "      <td>11.168946</td>\n",
       "      <td>77.488213</td>\n",
       "      <td>4.708658</td>\n",
       "      <td>1</td>\n",
       "    </tr>\n",
       "    <tr>\n",
       "      <th>3275</th>\n",
       "      <td>7.874671</td>\n",
       "      <td>195.102299</td>\n",
       "      <td>17404.177061</td>\n",
       "      <td>7.509306</td>\n",
       "      <td>333.775777</td>\n",
       "      <td>327.459760</td>\n",
       "      <td>16.140368</td>\n",
       "      <td>78.698446</td>\n",
       "      <td>2.309149</td>\n",
       "      <td>1</td>\n",
       "    </tr>\n",
       "  </tbody>\n",
       "</table>\n",
       "<p>3276 rows × 10 columns</p>\n",
       "</div>"
      ],
      "text/plain": [
       "            ph    Hardness        Solids  Chloramines     Sulfate  \\\n",
       "0     7.080795  204.890455  20791.318981     7.300212  368.516441   \n",
       "1     3.716080  129.422921  18630.057858     6.635246  333.775777   \n",
       "2     8.099124  224.236259  19909.541732     9.275884  333.775777   \n",
       "3     8.316766  214.373394  22018.417441     8.059332  356.886136   \n",
       "4     9.092223  181.101509  17978.986339     6.546600  310.135738   \n",
       "...        ...         ...           ...          ...         ...   \n",
       "3271  4.668102  193.681735  47580.991603     7.166639  359.948574   \n",
       "3272  7.808856  193.553212  17329.802160     8.061362  333.775777   \n",
       "3273  9.419510  175.762646  33155.578218     7.350233  333.775777   \n",
       "3274  5.126763  230.603758  11983.869376     6.303357  333.775777   \n",
       "3275  7.874671  195.102299  17404.177061     7.509306  333.775777   \n",
       "\n",
       "      Conductivity  Organic_carbon  Trihalomethanes  Turbidity  Potability  \n",
       "0       564.308654       10.379783        86.990970   2.963135           0  \n",
       "1       592.885359       15.180013        56.329076   4.500656           0  \n",
       "2       418.606213       16.868637        66.420093   3.055934           0  \n",
       "3       363.266516       18.436524       100.341674   4.628771           0  \n",
       "4       398.410813       11.558279        31.997993   4.075075           0  \n",
       "...            ...             ...              ...        ...         ...  \n",
       "3271    526.424171       13.894419        66.687695   4.435821           1  \n",
       "3272    392.449580       19.903225        66.396293   2.798243           1  \n",
       "3273    432.044783       11.039070        69.845400   3.298875           1  \n",
       "3274    402.883113       11.168946        77.488213   4.708658           1  \n",
       "3275    327.459760       16.140368        78.698446   2.309149           1  \n",
       "\n",
       "[3276 rows x 10 columns]"
      ]
     },
     "execution_count": 4,
     "metadata": {},
     "output_type": "execute_result"
    }
   ],
   "source": [
    "df_cat = pd.read_csv(\"../data/water_potability_preprocessed.csv\")\n",
    "df_cat = df_cat.iloc[:, 1:]\n",
    "df_cat"
   ]
  },
  {
   "cell_type": "code",
   "execution_count": 5,
   "id": "61618947",
   "metadata": {},
   "outputs": [],
   "source": [
    "X_cat = df_cat.iloc[:, :-1].values # все признаки, кроме целевого\n",
    "y_cat = df_cat['Potability'].values # целевой признак"
   ]
  },
  {
   "cell_type": "code",
   "execution_count": 6,
   "id": "2b878bf9",
   "metadata": {},
   "outputs": [],
   "source": [
    "X_cat_train, X_cat_test, y_cat_train, y_cat_test = train_test_split(X_cat, y_cat, test_size=0.20, random_state=42)"
   ]
  },
  {
   "cell_type": "code",
   "execution_count": 7,
   "id": "85a076bd",
   "metadata": {},
   "outputs": [],
   "source": [
    "scaler = StandardScaler()\n",
    "\n",
    "X_cat_train = scaler.fit_transform(X_cat_train)\n",
    "X_cat_test = scaler.transform(X_cat_test)"
   ]
  },
  {
   "cell_type": "markdown",
   "id": "36125d70",
   "metadata": {},
   "source": [
    "Датасет автомобили"
   ]
  },
  {
   "cell_type": "code",
   "execution_count": 8,
   "id": "1863c59d",
   "metadata": {},
   "outputs": [
    {
     "data": {
      "text/html": [
       "<div>\n",
       "<style scoped>\n",
       "    .dataframe tbody tr th:only-of-type {\n",
       "        vertical-align: middle;\n",
       "    }\n",
       "\n",
       "    .dataframe tbody tr th {\n",
       "        vertical-align: top;\n",
       "    }\n",
       "\n",
       "    .dataframe thead th {\n",
       "        text-align: right;\n",
       "    }\n",
       "</style>\n",
       "<table border=\"1\" class=\"dataframe\">\n",
       "  <thead>\n",
       "    <tr style=\"text-align: right;\">\n",
       "      <th></th>\n",
       "      <th>symboling</th>\n",
       "      <th>normalized-losses</th>\n",
       "      <th>make</th>\n",
       "      <th>fuel-type</th>\n",
       "      <th>aspiration</th>\n",
       "      <th>num-of-doors</th>\n",
       "      <th>drive-wheels</th>\n",
       "      <th>engine-location</th>\n",
       "      <th>wheel-base</th>\n",
       "      <th>length</th>\n",
       "      <th>...</th>\n",
       "      <th>num-of-cylinders_six</th>\n",
       "      <th>num-of-cylinders_three</th>\n",
       "      <th>num-of-cylinders_twelve</th>\n",
       "      <th>fuel-system_1bbl</th>\n",
       "      <th>fuel-system_2bbl</th>\n",
       "      <th>fuel-system_idi</th>\n",
       "      <th>fuel-system_mfi</th>\n",
       "      <th>fuel-system_mpfi</th>\n",
       "      <th>fuel-system_spdi</th>\n",
       "      <th>fuel-system_spfi</th>\n",
       "    </tr>\n",
       "  </thead>\n",
       "  <tbody>\n",
       "    <tr>\n",
       "      <th>0</th>\n",
       "      <td>3</td>\n",
       "      <td>122</td>\n",
       "      <td>0.0</td>\n",
       "      <td>0</td>\n",
       "      <td>0</td>\n",
       "      <td>1</td>\n",
       "      <td>2</td>\n",
       "      <td>0</td>\n",
       "      <td>88.6</td>\n",
       "      <td>168.8</td>\n",
       "      <td>...</td>\n",
       "      <td>0</td>\n",
       "      <td>0</td>\n",
       "      <td>0</td>\n",
       "      <td>0</td>\n",
       "      <td>0</td>\n",
       "      <td>0</td>\n",
       "      <td>0</td>\n",
       "      <td>1</td>\n",
       "      <td>0</td>\n",
       "      <td>0</td>\n",
       "    </tr>\n",
       "    <tr>\n",
       "      <th>1</th>\n",
       "      <td>3</td>\n",
       "      <td>122</td>\n",
       "      <td>0.0</td>\n",
       "      <td>0</td>\n",
       "      <td>0</td>\n",
       "      <td>1</td>\n",
       "      <td>2</td>\n",
       "      <td>0</td>\n",
       "      <td>88.6</td>\n",
       "      <td>168.8</td>\n",
       "      <td>...</td>\n",
       "      <td>0</td>\n",
       "      <td>0</td>\n",
       "      <td>0</td>\n",
       "      <td>0</td>\n",
       "      <td>0</td>\n",
       "      <td>0</td>\n",
       "      <td>0</td>\n",
       "      <td>1</td>\n",
       "      <td>0</td>\n",
       "      <td>0</td>\n",
       "    </tr>\n",
       "    <tr>\n",
       "      <th>2</th>\n",
       "      <td>1</td>\n",
       "      <td>122</td>\n",
       "      <td>0.0</td>\n",
       "      <td>0</td>\n",
       "      <td>0</td>\n",
       "      <td>1</td>\n",
       "      <td>2</td>\n",
       "      <td>0</td>\n",
       "      <td>94.5</td>\n",
       "      <td>171.2</td>\n",
       "      <td>...</td>\n",
       "      <td>1</td>\n",
       "      <td>0</td>\n",
       "      <td>0</td>\n",
       "      <td>0</td>\n",
       "      <td>0</td>\n",
       "      <td>0</td>\n",
       "      <td>0</td>\n",
       "      <td>1</td>\n",
       "      <td>0</td>\n",
       "      <td>0</td>\n",
       "    </tr>\n",
       "    <tr>\n",
       "      <th>3</th>\n",
       "      <td>2</td>\n",
       "      <td>164</td>\n",
       "      <td>1.0</td>\n",
       "      <td>0</td>\n",
       "      <td>0</td>\n",
       "      <td>0</td>\n",
       "      <td>1</td>\n",
       "      <td>0</td>\n",
       "      <td>99.8</td>\n",
       "      <td>176.6</td>\n",
       "      <td>...</td>\n",
       "      <td>0</td>\n",
       "      <td>0</td>\n",
       "      <td>0</td>\n",
       "      <td>0</td>\n",
       "      <td>0</td>\n",
       "      <td>0</td>\n",
       "      <td>0</td>\n",
       "      <td>1</td>\n",
       "      <td>0</td>\n",
       "      <td>0</td>\n",
       "    </tr>\n",
       "    <tr>\n",
       "      <th>4</th>\n",
       "      <td>2</td>\n",
       "      <td>164</td>\n",
       "      <td>1.0</td>\n",
       "      <td>0</td>\n",
       "      <td>0</td>\n",
       "      <td>0</td>\n",
       "      <td>0</td>\n",
       "      <td>0</td>\n",
       "      <td>99.4</td>\n",
       "      <td>176.6</td>\n",
       "      <td>...</td>\n",
       "      <td>0</td>\n",
       "      <td>0</td>\n",
       "      <td>0</td>\n",
       "      <td>0</td>\n",
       "      <td>0</td>\n",
       "      <td>0</td>\n",
       "      <td>0</td>\n",
       "      <td>1</td>\n",
       "      <td>0</td>\n",
       "      <td>0</td>\n",
       "    </tr>\n",
       "    <tr>\n",
       "      <th>...</th>\n",
       "      <td>...</td>\n",
       "      <td>...</td>\n",
       "      <td>...</td>\n",
       "      <td>...</td>\n",
       "      <td>...</td>\n",
       "      <td>...</td>\n",
       "      <td>...</td>\n",
       "      <td>...</td>\n",
       "      <td>...</td>\n",
       "      <td>...</td>\n",
       "      <td>...</td>\n",
       "      <td>...</td>\n",
       "      <td>...</td>\n",
       "      <td>...</td>\n",
       "      <td>...</td>\n",
       "      <td>...</td>\n",
       "      <td>...</td>\n",
       "      <td>...</td>\n",
       "      <td>...</td>\n",
       "      <td>...</td>\n",
       "      <td>...</td>\n",
       "    </tr>\n",
       "    <tr>\n",
       "      <th>188</th>\n",
       "      <td>-1</td>\n",
       "      <td>95</td>\n",
       "      <td>20.0</td>\n",
       "      <td>0</td>\n",
       "      <td>0</td>\n",
       "      <td>0</td>\n",
       "      <td>2</td>\n",
       "      <td>0</td>\n",
       "      <td>109.1</td>\n",
       "      <td>188.8</td>\n",
       "      <td>...</td>\n",
       "      <td>0</td>\n",
       "      <td>0</td>\n",
       "      <td>0</td>\n",
       "      <td>0</td>\n",
       "      <td>0</td>\n",
       "      <td>0</td>\n",
       "      <td>0</td>\n",
       "      <td>1</td>\n",
       "      <td>0</td>\n",
       "      <td>0</td>\n",
       "    </tr>\n",
       "    <tr>\n",
       "      <th>189</th>\n",
       "      <td>-1</td>\n",
       "      <td>95</td>\n",
       "      <td>20.0</td>\n",
       "      <td>0</td>\n",
       "      <td>1</td>\n",
       "      <td>0</td>\n",
       "      <td>2</td>\n",
       "      <td>0</td>\n",
       "      <td>109.1</td>\n",
       "      <td>188.8</td>\n",
       "      <td>...</td>\n",
       "      <td>0</td>\n",
       "      <td>0</td>\n",
       "      <td>0</td>\n",
       "      <td>0</td>\n",
       "      <td>0</td>\n",
       "      <td>0</td>\n",
       "      <td>0</td>\n",
       "      <td>1</td>\n",
       "      <td>0</td>\n",
       "      <td>0</td>\n",
       "    </tr>\n",
       "    <tr>\n",
       "      <th>190</th>\n",
       "      <td>-1</td>\n",
       "      <td>95</td>\n",
       "      <td>20.0</td>\n",
       "      <td>0</td>\n",
       "      <td>0</td>\n",
       "      <td>0</td>\n",
       "      <td>2</td>\n",
       "      <td>0</td>\n",
       "      <td>109.1</td>\n",
       "      <td>188.8</td>\n",
       "      <td>...</td>\n",
       "      <td>1</td>\n",
       "      <td>0</td>\n",
       "      <td>0</td>\n",
       "      <td>0</td>\n",
       "      <td>0</td>\n",
       "      <td>0</td>\n",
       "      <td>0</td>\n",
       "      <td>1</td>\n",
       "      <td>0</td>\n",
       "      <td>0</td>\n",
       "    </tr>\n",
       "    <tr>\n",
       "      <th>191</th>\n",
       "      <td>-1</td>\n",
       "      <td>95</td>\n",
       "      <td>20.0</td>\n",
       "      <td>1</td>\n",
       "      <td>1</td>\n",
       "      <td>0</td>\n",
       "      <td>2</td>\n",
       "      <td>0</td>\n",
       "      <td>109.1</td>\n",
       "      <td>188.8</td>\n",
       "      <td>...</td>\n",
       "      <td>1</td>\n",
       "      <td>0</td>\n",
       "      <td>0</td>\n",
       "      <td>0</td>\n",
       "      <td>0</td>\n",
       "      <td>1</td>\n",
       "      <td>0</td>\n",
       "      <td>0</td>\n",
       "      <td>0</td>\n",
       "      <td>0</td>\n",
       "    </tr>\n",
       "    <tr>\n",
       "      <th>192</th>\n",
       "      <td>-1</td>\n",
       "      <td>95</td>\n",
       "      <td>20.0</td>\n",
       "      <td>0</td>\n",
       "      <td>1</td>\n",
       "      <td>0</td>\n",
       "      <td>2</td>\n",
       "      <td>0</td>\n",
       "      <td>109.1</td>\n",
       "      <td>188.8</td>\n",
       "      <td>...</td>\n",
       "      <td>0</td>\n",
       "      <td>0</td>\n",
       "      <td>0</td>\n",
       "      <td>0</td>\n",
       "      <td>0</td>\n",
       "      <td>0</td>\n",
       "      <td>0</td>\n",
       "      <td>1</td>\n",
       "      <td>0</td>\n",
       "      <td>0</td>\n",
       "    </tr>\n",
       "  </tbody>\n",
       "</table>\n",
       "<p>193 rows × 45 columns</p>\n",
       "</div>"
      ],
      "text/plain": [
       "     symboling  normalized-losses  make  fuel-type  aspiration  num-of-doors  \\\n",
       "0            3                122   0.0          0           0             1   \n",
       "1            3                122   0.0          0           0             1   \n",
       "2            1                122   0.0          0           0             1   \n",
       "3            2                164   1.0          0           0             0   \n",
       "4            2                164   1.0          0           0             0   \n",
       "..         ...                ...   ...        ...         ...           ...   \n",
       "188         -1                 95  20.0          0           0             0   \n",
       "189         -1                 95  20.0          0           1             0   \n",
       "190         -1                 95  20.0          0           0             0   \n",
       "191         -1                 95  20.0          1           1             0   \n",
       "192         -1                 95  20.0          0           1             0   \n",
       "\n",
       "     drive-wheels  engine-location  wheel-base  length  ...  \\\n",
       "0               2                0        88.6   168.8  ...   \n",
       "1               2                0        88.6   168.8  ...   \n",
       "2               2                0        94.5   171.2  ...   \n",
       "3               1                0        99.8   176.6  ...   \n",
       "4               0                0        99.4   176.6  ...   \n",
       "..            ...              ...         ...     ...  ...   \n",
       "188             2                0       109.1   188.8  ...   \n",
       "189             2                0       109.1   188.8  ...   \n",
       "190             2                0       109.1   188.8  ...   \n",
       "191             2                0       109.1   188.8  ...   \n",
       "192             2                0       109.1   188.8  ...   \n",
       "\n",
       "     num-of-cylinders_six  num-of-cylinders_three  num-of-cylinders_twelve  \\\n",
       "0                       0                       0                        0   \n",
       "1                       0                       0                        0   \n",
       "2                       1                       0                        0   \n",
       "3                       0                       0                        0   \n",
       "4                       0                       0                        0   \n",
       "..                    ...                     ...                      ...   \n",
       "188                     0                       0                        0   \n",
       "189                     0                       0                        0   \n",
       "190                     1                       0                        0   \n",
       "191                     1                       0                        0   \n",
       "192                     0                       0                        0   \n",
       "\n",
       "     fuel-system_1bbl  fuel-system_2bbl  fuel-system_idi  fuel-system_mfi  \\\n",
       "0                   0                 0                0                0   \n",
       "1                   0                 0                0                0   \n",
       "2                   0                 0                0                0   \n",
       "3                   0                 0                0                0   \n",
       "4                   0                 0                0                0   \n",
       "..                ...               ...              ...              ...   \n",
       "188                 0                 0                0                0   \n",
       "189                 0                 0                0                0   \n",
       "190                 0                 0                0                0   \n",
       "191                 0                 0                1                0   \n",
       "192                 0                 0                0                0   \n",
       "\n",
       "     fuel-system_mpfi  fuel-system_spdi  fuel-system_spfi  \n",
       "0                   1                 0                 0  \n",
       "1                   1                 0                 0  \n",
       "2                   1                 0                 0  \n",
       "3                   1                 0                 0  \n",
       "4                   1                 0                 0  \n",
       "..                ...               ...               ...  \n",
       "188                 1                 0                 0  \n",
       "189                 1                 0                 0  \n",
       "190                 1                 0                 0  \n",
       "191                 0                 0                 0  \n",
       "192                 1                 0                 0  \n",
       "\n",
       "[193 rows x 45 columns]"
      ]
     },
     "execution_count": 8,
     "metadata": {},
     "output_type": "execute_result"
    }
   ],
   "source": [
    "df_reg = pd.read_csv('../data/automobile_preprocessed.csv')\n",
    "df_reg = df_reg.iloc[:, 1:]\n",
    "df_reg['make'] = OrdinalEncoder().fit_transform(df_reg[[\"make\"]])\n",
    "df_reg"
   ]
  },
  {
   "cell_type": "code",
   "execution_count": 9,
   "id": "f3fb4cd1",
   "metadata": {},
   "outputs": [],
   "source": [
    "X_reg = df_reg.drop(columns=['price']).values # все признаки, кроме целевого\n",
    "y_reg = df_reg['price'].values # целевой признак"
   ]
  },
  {
   "cell_type": "code",
   "execution_count": 10,
   "id": "98d81ac2",
   "metadata": {},
   "outputs": [],
   "source": [
    "X_reg_train, X_reg_test, y_reg_train, y_reg_test = train_test_split(X_reg, y_reg, test_size=0.20, random_state=42)"
   ]
  },
  {
   "cell_type": "code",
   "execution_count": 11,
   "id": "dd8368fe",
   "metadata": {},
   "outputs": [],
   "source": [
    "scaler = StandardScaler()\n",
    "\n",
    "X_reg_train = scaler.fit_transform(X_reg_train)\n",
    "X_reg_test = scaler.transform(X_reg_test)"
   ]
  },
  {
   "cell_type": "markdown",
   "id": "f032193d",
   "metadata": {},
   "source": [
    "# Task 1"
   ]
  },
  {
   "cell_type": "code",
   "execution_count": 12,
   "id": "1a89d038",
   "metadata": {},
   "outputs": [],
   "source": [
    "from sklearn import ensemble, svm, linear_model\n",
    "from sklearn.tree import DecisionTreeClassifier, DecisionTreeRegressor\n",
    "from sklearn.neighbors import KNeighborsClassifier\n",
    "from sklearn.naive_bayes import GaussianNB, BernoulliNB"
   ]
  },
  {
   "cell_type": "markdown",
   "id": "27705910",
   "metadata": {},
   "source": [
    "Бэггинг"
   ]
  },
  {
   "cell_type": "code",
   "execution_count": 13,
   "id": "d863964d",
   "metadata": {},
   "outputs": [
    {
     "data": {
      "text/plain": [
       "BaggingClassifier()"
      ]
     },
     "execution_count": 13,
     "metadata": {},
     "output_type": "execute_result"
    }
   ],
   "source": [
    "clf = ensemble.BaggingClassifier()\n",
    "clf.fit(X_cat_train, y_cat_train)"
   ]
  },
  {
   "cell_type": "code",
   "execution_count": 14,
   "id": "ac31e451",
   "metadata": {},
   "outputs": [
    {
     "name": "stdout",
     "output_type": "stream",
     "text": [
      "[[345  67]\n",
      " [160  84]]\n",
      "              precision    recall  f1-score   support\n",
      "\n",
      "           0       0.68      0.84      0.75       412\n",
      "           1       0.56      0.34      0.43       244\n",
      "\n",
      "    accuracy                           0.65       656\n",
      "   macro avg       0.62      0.59      0.59       656\n",
      "weighted avg       0.64      0.65      0.63       656\n",
      "\n",
      "0.6539634146341463\n"
     ]
    }
   ],
   "source": [
    "y_pred = clf.predict(X_cat_test)\n",
    "print(confusion_matrix(y_cat_test, y_pred))\n",
    "print(classification_report(y_cat_test, y_pred))\n",
    "print(clf.score(X_cat_test, y_cat_test))"
   ]
  },
  {
   "cell_type": "code",
   "execution_count": 15,
   "id": "60748ec1",
   "metadata": {},
   "outputs": [
    {
     "data": {
      "text/plain": [
       "BaggingRegressor()"
      ]
     },
     "execution_count": 15,
     "metadata": {},
     "output_type": "execute_result"
    }
   ],
   "source": [
    "clf = ensemble.BaggingRegressor()\n",
    "clf.fit(X_reg_train, y_reg_train)"
   ]
  },
  {
   "cell_type": "code",
   "execution_count": 16,
   "id": "3915a155",
   "metadata": {},
   "outputs": [
    {
     "name": "stdout",
     "output_type": "stream",
     "text": [
      "R2: 0.9506217348818251\n",
      "MSE: 5548878.132763533\n",
      "RMSE: 2355.6056827838424\n",
      "MAE: 1376.6905982905982\n"
     ]
    }
   ],
   "source": [
    "y_pred = clf.predict(X_reg_test)\n",
    "print(\"R2:\", r2_score(y_reg_test, y_pred))\n",
    "print(\"MSE:\", mean_squared_error(y_reg_test, y_pred))\n",
    "print(\"RMSE:\", mean_squared_error(y_reg_test, y_pred, squared=False))\n",
    "print(\"MAE:\", mean_absolute_error(y_reg_test, y_pred))"
   ]
  },
  {
   "cell_type": "markdown",
   "id": "8981755b",
   "metadata": {},
   "source": [
    "Бустинг"
   ]
  },
  {
   "cell_type": "code",
   "execution_count": 17,
   "id": "5d831312",
   "metadata": {},
   "outputs": [
    {
     "data": {
      "text/plain": [
       "GradientBoostingClassifier()"
      ]
     },
     "execution_count": 17,
     "metadata": {},
     "output_type": "execute_result"
    }
   ],
   "source": [
    "clf = ensemble.GradientBoostingClassifier()\n",
    "clf.fit(X_cat_train, y_cat_train)"
   ]
  },
  {
   "cell_type": "code",
   "execution_count": 18,
   "id": "6a0f4b97",
   "metadata": {},
   "outputs": [
    {
     "name": "stdout",
     "output_type": "stream",
     "text": [
      "[[370  42]\n",
      " [182  62]]\n",
      "              precision    recall  f1-score   support\n",
      "\n",
      "           0       0.67      0.90      0.77       412\n",
      "           1       0.60      0.25      0.36       244\n",
      "\n",
      "    accuracy                           0.66       656\n",
      "   macro avg       0.63      0.58      0.56       656\n",
      "weighted avg       0.64      0.66      0.61       656\n",
      "\n",
      "0.6585365853658537\n"
     ]
    }
   ],
   "source": [
    "y_pred = clf.predict(X_cat_test)\n",
    "print(confusion_matrix(y_cat_test, y_pred))\n",
    "print(classification_report(y_cat_test, y_pred))\n",
    "print(clf.score(X_cat_test, y_cat_test))"
   ]
  },
  {
   "cell_type": "code",
   "execution_count": 19,
   "id": "43181cdd",
   "metadata": {},
   "outputs": [
    {
     "data": {
      "text/plain": [
       "GradientBoostingRegressor()"
      ]
     },
     "execution_count": 19,
     "metadata": {},
     "output_type": "execute_result"
    }
   ],
   "source": [
    "clf = ensemble.GradientBoostingRegressor()\n",
    "clf.fit(X_reg_train, y_reg_train)"
   ]
  },
  {
   "cell_type": "code",
   "execution_count": 20,
   "id": "d65cb392",
   "metadata": {},
   "outputs": [
    {
     "name": "stdout",
     "output_type": "stream",
     "text": [
      "R2: 0.9414179041133914\n",
      "MSE: 6583157.793387322\n",
      "RMSE: 2565.766511860992\n",
      "MAE: 1464.5528725096135\n"
     ]
    }
   ],
   "source": [
    "y_pred = clf.predict(X_reg_test)\n",
    "print(\"R2:\", r2_score(y_reg_test, y_pred))\n",
    "print(\"MSE:\", mean_squared_error(y_reg_test, y_pred))\n",
    "print(\"RMSE:\", mean_squared_error(y_reg_test, y_pred, squared=False))\n",
    "print(\"MAE:\", mean_absolute_error(y_reg_test, y_pred))"
   ]
  },
  {
   "cell_type": "markdown",
   "id": "bf76bc33",
   "metadata": {},
   "source": [
    "Стекинг"
   ]
  },
  {
   "cell_type": "code",
   "execution_count": 21,
   "id": "2bcb54fe",
   "metadata": {},
   "outputs": [],
   "source": [
    "estimators = [\n",
    "    ('kNN', GridSearchCV(KNeighborsClassifier(), {'n_neighbors': np.arange(1,6,1)})),\n",
    "    ('DTC', GridSearchCV(DecisionTreeClassifier(random_state=42), {'max_depth': np.arange(1,15,1), \n",
    "                                                                   'max_features': np.arange(5,X_cat.shape[1]-1,1)})),\n",
    "    ('NB', GaussianNB()),\n",
    "    ('SVM', GridSearchCV(svm.SVC(random_state=42), {'C': np.arange(0.1,1.1,0.1), 'degree': np.arange(2,5,1)})),\n",
    "    ('LogReg', GridSearchCV(linear_model.LogisticRegression(random_state=42), {'C': np.arange(0.1,1.1,0.1)}))\n",
    "]"
   ]
  },
  {
   "cell_type": "code",
   "execution_count": 22,
   "id": "76581364",
   "metadata": {},
   "outputs": [
    {
     "name": "stdout",
     "output_type": "stream",
     "text": [
      "Wall time: 2min 50s\n"
     ]
    },
    {
     "data": {
      "text/plain": [
       "StackingClassifier(estimators=[('kNN',\n",
       "                                GridSearchCV(estimator=KNeighborsClassifier(),\n",
       "                                             param_grid={'n_neighbors': array([1, 2, 3, 4, 5])})),\n",
       "                               ('DTC',\n",
       "                                GridSearchCV(estimator=DecisionTreeClassifier(random_state=42),\n",
       "                                             param_grid={'max_depth': array([ 1,  2,  3,  4,  5,  6,  7,  8,  9, 10, 11, 12, 13, 14]),\n",
       "                                                         'max_features': array([5, 6, 7])})),\n",
       "                               ('NB', GaussianNB()),\n",
       "                               ('SVM',\n",
       "                                GridSearchCV(estimator=SVC(random_state=42),\n",
       "                                             param_grid={'C': array([0.1, 0.2, 0.3, 0.4, 0.5, 0.6, 0.7, 0.8, 0.9, 1. ]),\n",
       "                                                         'degree': array([2, 3, 4])})),\n",
       "                               ('LogReg',\n",
       "                                GridSearchCV(estimator=LogisticRegression(random_state=42),\n",
       "                                             param_grid={'C': array([0.1, 0.2, 0.3, 0.4, 0.5, 0.6, 0.7, 0.8, 0.9, 1. ])}))])"
      ]
     },
     "execution_count": 22,
     "metadata": {},
     "output_type": "execute_result"
    }
   ],
   "source": [
    "%%time\n",
    "clf = ensemble.StackingClassifier(estimators)\n",
    "clf.fit(X_cat_train, y_cat_train)"
   ]
  },
  {
   "cell_type": "code",
   "execution_count": 23,
   "id": "7e132d5c",
   "metadata": {},
   "outputs": [
    {
     "name": "stdout",
     "output_type": "stream",
     "text": [
      "[[367  45]\n",
      " [153  91]]\n",
      "              precision    recall  f1-score   support\n",
      "\n",
      "           0       0.71      0.89      0.79       412\n",
      "           1       0.67      0.37      0.48       244\n",
      "\n",
      "    accuracy                           0.70       656\n",
      "   macro avg       0.69      0.63      0.63       656\n",
      "weighted avg       0.69      0.70      0.67       656\n",
      "\n",
      "0.698170731707317\n"
     ]
    }
   ],
   "source": [
    "y_pred = clf.predict(X_cat_test)\n",
    "print(confusion_matrix(y_cat_test, y_pred))\n",
    "print(classification_report(y_cat_test, y_pred))\n",
    "print(clf.score(X_cat_test, y_cat_test))"
   ]
  },
  {
   "cell_type": "code",
   "execution_count": 24,
   "id": "d60efd4d",
   "metadata": {},
   "outputs": [],
   "source": [
    "estimators = [\n",
    "    ('LinReg', linear_model.LinearRegression()),\n",
    "    ('DTR', GridSearchCV(DecisionTreeRegressor(random_state=42), {'max_depth': np.arange(1,15,1), \n",
    "                                                                  'max_features': np.arange(5,X_reg.shape[1]-1,1)})),\n",
    "    ('Lasso', GridSearchCV(linear_model.Lasso(random_state=42), {'alpha': np.arange(0.1,2.05,0.05)})),\n",
    "    ('Ridge', GridSearchCV(linear_model.Ridge(random_state=42), {'alpha': np.arange(0.1,2.05,0.05)})),\n",
    "    ('ElasticNet', GridSearchCV(linear_model.ElasticNet(random_state=42), {'alpha': np.arange(0.1,2.05,0.05), \n",
    "                                                                           'l1_ratio': np.arange(0.1,1.1,0.1)}))\n",
    "]"
   ]
  },
  {
   "cell_type": "code",
   "execution_count": 25,
   "id": "53145d18",
   "metadata": {},
   "outputs": [
    {
     "name": "stdout",
     "output_type": "stream",
     "text": [
      "Wall time: 50.4 s\n"
     ]
    },
    {
     "data": {
      "text/plain": [
       "StackingRegressor(estimators=[('LinReg', LinearRegression()),\n",
       "                              ('DTR',\n",
       "                               GridSearchCV(estimator=DecisionTreeRegressor(random_state=42),\n",
       "                                            param_grid={'max_depth': array([ 1,  2,  3,  4,  5,  6,  7,  8,  9, 10, 11, 12, 13, 14]),\n",
       "                                                        'max_features': array([ 5,  6,  7,  8,  9, 10, 11, 12, 13, 14, 15, 16, 17, 18, 19, 20, 21,\n",
       "       22, 23, 24, 25, 26, 27, 28, 29, 30, 31, 32, 33, 34, 35, 36, 37, 38,\n",
       "       39, 40, 41, 42])})),\n",
       "                              ('Lasso',\n",
       "                               GridSearch...\n",
       "       1.75, 1.8 , 1.85, 1.9 , 1.95, 2.  ])})),\n",
       "                              ('ElasticNet',\n",
       "                               GridSearchCV(estimator=ElasticNet(random_state=42),\n",
       "                                            param_grid={'alpha': array([0.1 , 0.15, 0.2 , 0.25, 0.3 , 0.35, 0.4 , 0.45, 0.5 , 0.55, 0.6 ,\n",
       "       0.65, 0.7 , 0.75, 0.8 , 0.85, 0.9 , 0.95, 1.  , 1.05, 1.1 , 1.15,\n",
       "       1.2 , 1.25, 1.3 , 1.35, 1.4 , 1.45, 1.5 , 1.55, 1.6 , 1.65, 1.7 ,\n",
       "       1.75, 1.8 , 1.85, 1.9 , 1.95, 2.  ]),\n",
       "                                                        'l1_ratio': array([0.1, 0.2, 0.3, 0.4, 0.5, 0.6, 0.7, 0.8, 0.9, 1. ])}))])"
      ]
     },
     "execution_count": 25,
     "metadata": {},
     "output_type": "execute_result"
    }
   ],
   "source": [
    "%%time\n",
    "clf = ensemble.StackingRegressor(estimators)\n",
    "clf.fit(X_reg_train, y_reg_train)"
   ]
  },
  {
   "cell_type": "code",
   "execution_count": 26,
   "id": "385bf2ce",
   "metadata": {},
   "outputs": [
    {
     "name": "stdout",
     "output_type": "stream",
     "text": [
      "R2: 0.9230692669362758\n",
      "MSE: 8645084.257479193\n",
      "RMSE: 2940.2524139058523\n",
      "MAE: 2014.0972452537073\n"
     ]
    }
   ],
   "source": [
    "y_pred = clf.predict(X_reg_test)\n",
    "print(\"R2:\", r2_score(y_reg_test, y_pred))\n",
    "print(\"MSE:\", mean_squared_error(y_reg_test, y_pred))\n",
    "print(\"RMSE:\", mean_squared_error(y_reg_test, y_pred, squared=False))\n",
    "print(\"MAE:\", mean_absolute_error(y_reg_test, y_pred))"
   ]
  }
 ],
 "metadata": {
  "kernelspec": {
   "display_name": "Python 3",
   "language": "python",
   "name": "python3"
  },
  "language_info": {
   "codemirror_mode": {
    "name": "ipython",
    "version": 3
   },
   "file_extension": ".py",
   "mimetype": "text/x-python",
   "name": "python",
   "nbconvert_exporter": "python",
   "pygments_lexer": "ipython3",
   "version": "3.8.8"
  }
 },
 "nbformat": 4,
 "nbformat_minor": 5
}
