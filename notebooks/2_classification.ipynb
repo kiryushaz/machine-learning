{
 "cells": [
  {
   "cell_type": "code",
   "execution_count": 30,
   "id": "a5127417",
   "metadata": {},
   "outputs": [],
   "source": [
    "import pandas as pd\n",
    "import numpy as np\n",
    "\n",
    "from sklearn.model_selection import train_test_split, GridSearchCV\n",
    "from sklearn.preprocessing import StandardScaler"
   ]
  },
  {
   "cell_type": "code",
   "execution_count": 31,
   "id": "3da38b84",
   "metadata": {},
   "outputs": [],
   "source": [
    "data = pd.read_csv(\"../data/water_potability_preprocessed.csv\")"
   ]
  },
  {
   "cell_type": "code",
   "execution_count": 32,
   "id": "24b971ae",
   "metadata": {},
   "outputs": [
    {
     "data": {
      "text/html": [
       "<div>\n",
       "<style scoped>\n",
       "    .dataframe tbody tr th:only-of-type {\n",
       "        vertical-align: middle;\n",
       "    }\n",
       "\n",
       "    .dataframe tbody tr th {\n",
       "        vertical-align: top;\n",
       "    }\n",
       "\n",
       "    .dataframe thead th {\n",
       "        text-align: right;\n",
       "    }\n",
       "</style>\n",
       "<table border=\"1\" class=\"dataframe\">\n",
       "  <thead>\n",
       "    <tr style=\"text-align: right;\">\n",
       "      <th></th>\n",
       "      <th>Unnamed: 0</th>\n",
       "      <th>ph</th>\n",
       "      <th>Hardness</th>\n",
       "      <th>Solids</th>\n",
       "      <th>Chloramines</th>\n",
       "      <th>Sulfate</th>\n",
       "      <th>Conductivity</th>\n",
       "      <th>Organic_carbon</th>\n",
       "      <th>Trihalomethanes</th>\n",
       "      <th>Turbidity</th>\n",
       "      <th>Potability</th>\n",
       "    </tr>\n",
       "  </thead>\n",
       "  <tbody>\n",
       "    <tr>\n",
       "      <th>0</th>\n",
       "      <td>0</td>\n",
       "      <td>7.080795</td>\n",
       "      <td>204.890455</td>\n",
       "      <td>20791.318981</td>\n",
       "      <td>7.300212</td>\n",
       "      <td>368.516441</td>\n",
       "      <td>564.308654</td>\n",
       "      <td>10.379783</td>\n",
       "      <td>86.990970</td>\n",
       "      <td>2.963135</td>\n",
       "      <td>0</td>\n",
       "    </tr>\n",
       "    <tr>\n",
       "      <th>1</th>\n",
       "      <td>1</td>\n",
       "      <td>3.716080</td>\n",
       "      <td>129.422921</td>\n",
       "      <td>18630.057858</td>\n",
       "      <td>6.635246</td>\n",
       "      <td>333.775777</td>\n",
       "      <td>592.885359</td>\n",
       "      <td>15.180013</td>\n",
       "      <td>56.329076</td>\n",
       "      <td>4.500656</td>\n",
       "      <td>0</td>\n",
       "    </tr>\n",
       "    <tr>\n",
       "      <th>2</th>\n",
       "      <td>2</td>\n",
       "      <td>8.099124</td>\n",
       "      <td>224.236259</td>\n",
       "      <td>19909.541732</td>\n",
       "      <td>9.275884</td>\n",
       "      <td>333.775777</td>\n",
       "      <td>418.606213</td>\n",
       "      <td>16.868637</td>\n",
       "      <td>66.420093</td>\n",
       "      <td>3.055934</td>\n",
       "      <td>0</td>\n",
       "    </tr>\n",
       "    <tr>\n",
       "      <th>3</th>\n",
       "      <td>3</td>\n",
       "      <td>8.316766</td>\n",
       "      <td>214.373394</td>\n",
       "      <td>22018.417441</td>\n",
       "      <td>8.059332</td>\n",
       "      <td>356.886136</td>\n",
       "      <td>363.266516</td>\n",
       "      <td>18.436524</td>\n",
       "      <td>100.341674</td>\n",
       "      <td>4.628771</td>\n",
       "      <td>0</td>\n",
       "    </tr>\n",
       "    <tr>\n",
       "      <th>4</th>\n",
       "      <td>4</td>\n",
       "      <td>9.092223</td>\n",
       "      <td>181.101509</td>\n",
       "      <td>17978.986339</td>\n",
       "      <td>6.546600</td>\n",
       "      <td>310.135738</td>\n",
       "      <td>398.410813</td>\n",
       "      <td>11.558279</td>\n",
       "      <td>31.997993</td>\n",
       "      <td>4.075075</td>\n",
       "      <td>0</td>\n",
       "    </tr>\n",
       "    <tr>\n",
       "      <th>...</th>\n",
       "      <td>...</td>\n",
       "      <td>...</td>\n",
       "      <td>...</td>\n",
       "      <td>...</td>\n",
       "      <td>...</td>\n",
       "      <td>...</td>\n",
       "      <td>...</td>\n",
       "      <td>...</td>\n",
       "      <td>...</td>\n",
       "      <td>...</td>\n",
       "      <td>...</td>\n",
       "    </tr>\n",
       "    <tr>\n",
       "      <th>3271</th>\n",
       "      <td>3271</td>\n",
       "      <td>4.668102</td>\n",
       "      <td>193.681735</td>\n",
       "      <td>47580.991603</td>\n",
       "      <td>7.166639</td>\n",
       "      <td>359.948574</td>\n",
       "      <td>526.424171</td>\n",
       "      <td>13.894419</td>\n",
       "      <td>66.687695</td>\n",
       "      <td>4.435821</td>\n",
       "      <td>1</td>\n",
       "    </tr>\n",
       "    <tr>\n",
       "      <th>3272</th>\n",
       "      <td>3272</td>\n",
       "      <td>7.808856</td>\n",
       "      <td>193.553212</td>\n",
       "      <td>17329.802160</td>\n",
       "      <td>8.061362</td>\n",
       "      <td>333.775777</td>\n",
       "      <td>392.449580</td>\n",
       "      <td>19.903225</td>\n",
       "      <td>66.396293</td>\n",
       "      <td>2.798243</td>\n",
       "      <td>1</td>\n",
       "    </tr>\n",
       "    <tr>\n",
       "      <th>3273</th>\n",
       "      <td>3273</td>\n",
       "      <td>9.419510</td>\n",
       "      <td>175.762646</td>\n",
       "      <td>33155.578218</td>\n",
       "      <td>7.350233</td>\n",
       "      <td>333.775777</td>\n",
       "      <td>432.044783</td>\n",
       "      <td>11.039070</td>\n",
       "      <td>69.845400</td>\n",
       "      <td>3.298875</td>\n",
       "      <td>1</td>\n",
       "    </tr>\n",
       "    <tr>\n",
       "      <th>3274</th>\n",
       "      <td>3274</td>\n",
       "      <td>5.126763</td>\n",
       "      <td>230.603758</td>\n",
       "      <td>11983.869376</td>\n",
       "      <td>6.303357</td>\n",
       "      <td>333.775777</td>\n",
       "      <td>402.883113</td>\n",
       "      <td>11.168946</td>\n",
       "      <td>77.488213</td>\n",
       "      <td>4.708658</td>\n",
       "      <td>1</td>\n",
       "    </tr>\n",
       "    <tr>\n",
       "      <th>3275</th>\n",
       "      <td>3275</td>\n",
       "      <td>7.874671</td>\n",
       "      <td>195.102299</td>\n",
       "      <td>17404.177061</td>\n",
       "      <td>7.509306</td>\n",
       "      <td>333.775777</td>\n",
       "      <td>327.459760</td>\n",
       "      <td>16.140368</td>\n",
       "      <td>78.698446</td>\n",
       "      <td>2.309149</td>\n",
       "      <td>1</td>\n",
       "    </tr>\n",
       "  </tbody>\n",
       "</table>\n",
       "<p>3276 rows × 11 columns</p>\n",
       "</div>"
      ],
      "text/plain": [
       "      Unnamed: 0        ph    Hardness        Solids  Chloramines     Sulfate  \\\n",
       "0              0  7.080795  204.890455  20791.318981     7.300212  368.516441   \n",
       "1              1  3.716080  129.422921  18630.057858     6.635246  333.775777   \n",
       "2              2  8.099124  224.236259  19909.541732     9.275884  333.775777   \n",
       "3              3  8.316766  214.373394  22018.417441     8.059332  356.886136   \n",
       "4              4  9.092223  181.101509  17978.986339     6.546600  310.135738   \n",
       "...          ...       ...         ...           ...          ...         ...   \n",
       "3271        3271  4.668102  193.681735  47580.991603     7.166639  359.948574   \n",
       "3272        3272  7.808856  193.553212  17329.802160     8.061362  333.775777   \n",
       "3273        3273  9.419510  175.762646  33155.578218     7.350233  333.775777   \n",
       "3274        3274  5.126763  230.603758  11983.869376     6.303357  333.775777   \n",
       "3275        3275  7.874671  195.102299  17404.177061     7.509306  333.775777   \n",
       "\n",
       "      Conductivity  Organic_carbon  Trihalomethanes  Turbidity  Potability  \n",
       "0       564.308654       10.379783        86.990970   2.963135           0  \n",
       "1       592.885359       15.180013        56.329076   4.500656           0  \n",
       "2       418.606213       16.868637        66.420093   3.055934           0  \n",
       "3       363.266516       18.436524       100.341674   4.628771           0  \n",
       "4       398.410813       11.558279        31.997993   4.075075           0  \n",
       "...            ...             ...              ...        ...         ...  \n",
       "3271    526.424171       13.894419        66.687695   4.435821           1  \n",
       "3272    392.449580       19.903225        66.396293   2.798243           1  \n",
       "3273    432.044783       11.039070        69.845400   3.298875           1  \n",
       "3274    402.883113       11.168946        77.488213   4.708658           1  \n",
       "3275    327.459760       16.140368        78.698446   2.309149           1  \n",
       "\n",
       "[3276 rows x 11 columns]"
      ]
     },
     "execution_count": 32,
     "metadata": {},
     "output_type": "execute_result"
    }
   ],
   "source": [
    "data"
   ]
  },
  {
   "cell_type": "code",
   "execution_count": 33,
   "id": "538e3c5f",
   "metadata": {},
   "outputs": [],
   "source": [
    "data = data.iloc[:, 1:]"
   ]
  },
  {
   "cell_type": "code",
   "execution_count": 34,
   "id": "02afe771",
   "metadata": {},
   "outputs": [],
   "source": [
    "X = data.iloc[:, :-1].values # все признаки, кроме целевого\n",
    "y = data['Potability'].values # целевой признак"
   ]
  },
  {
   "cell_type": "markdown",
   "id": "3c6548db",
   "metadata": {},
   "source": [
    "разделяем выборки на обучающие и тестовые"
   ]
  },
  {
   "cell_type": "code",
   "execution_count": 35,
   "id": "54090dbe",
   "metadata": {},
   "outputs": [],
   "source": [
    "X_train, X_test, y_train, y_test = train_test_split(X, y, test_size=0.20)"
   ]
  },
  {
   "cell_type": "code",
   "execution_count": 36,
   "id": "f8a56475",
   "metadata": {},
   "outputs": [],
   "source": [
    "scaler = StandardScaler()\n",
    "\n",
    "X_train = scaler.fit_transform(X_train)\n",
    "X_test = scaler.transform(X_test)"
   ]
  },
  {
   "cell_type": "code",
   "execution_count": 37,
   "id": "cccbbe15",
   "metadata": {},
   "outputs": [
    {
     "data": {
      "text/plain": [
       "array([[ 1.0729948 ,  0.16742632,  0.50384474, ...,  1.01209176,\n",
       "         0.14624917,  1.68345311],\n",
       "       [ 0.90453363, -0.25695512, -1.29207712, ..., -0.27787928,\n",
       "        -0.46851873, -1.45553843],\n",
       "       [-0.41057844, -0.58935292,  0.97012894, ...,  0.69613181,\n",
       "         1.13563031, -1.07887797],\n",
       "       ...,\n",
       "       [-0.33476357,  0.65411399,  0.27831179, ..., -0.86136649,\n",
       "        -1.12651818, -0.58011974],\n",
       "       [-0.33219616,  0.00179971, -0.61234337, ..., -0.54045194,\n",
       "         1.2231124 , -0.0521499 ],\n",
       "       [ 0.81835842, -0.83463487, -1.00028502, ..., -0.58108188,\n",
       "         0.81332674,  0.5751491 ]])"
      ]
     },
     "execution_count": 37,
     "metadata": {},
     "output_type": "execute_result"
    }
   ],
   "source": [
    "X_train"
   ]
  },
  {
   "cell_type": "markdown",
   "id": "ff53fa2a",
   "metadata": {},
   "source": [
    "**Метод k-ближайших соседей (K-Nearest Neighbors)**"
   ]
  },
  {
   "cell_type": "code",
   "execution_count": 38,
   "id": "90f9f838",
   "metadata": {},
   "outputs": [
    {
     "data": {
      "text/plain": [
       "{'n_neighbors': 4}"
      ]
     },
     "execution_count": 38,
     "metadata": {},
     "output_type": "execute_result"
    }
   ],
   "source": [
    "from sklearn.neighbors import KNeighborsClassifier\n",
    "\n",
    "knn = KNeighborsClassifier()\n",
    "params = {'n_neighbors': np.arange(1,6,1)}\n",
    "clf = GridSearchCV(knn, params)\n",
    "clf.fit(X_train, y_train)\n",
    "clf.best_params_"
   ]
  },
  {
   "cell_type": "code",
   "execution_count": 39,
   "id": "94d925d6",
   "metadata": {
    "scrolled": true
   },
   "outputs": [
    {
     "name": "stdout",
     "output_type": "stream",
     "text": [
      "[[351  62]\n",
      " [180  63]]\n",
      "              precision    recall  f1-score   support\n",
      "\n",
      "           0       0.66      0.85      0.74       413\n",
      "           1       0.50      0.26      0.34       243\n",
      "\n",
      "    accuracy                           0.63       656\n",
      "   macro avg       0.58      0.55      0.54       656\n",
      "weighted avg       0.60      0.63      0.60       656\n",
      "\n",
      "0.6310975609756098\n"
     ]
    }
   ],
   "source": [
    "from sklearn.metrics import classification_report, confusion_matrix\n",
    "\n",
    "y_pred = clf.predict(X_test)\n",
    "print(confusion_matrix(y_test, y_pred))\n",
    "print(classification_report(y_test, y_pred))\n",
    "print(clf.score(X_test, y_test))"
   ]
  },
  {
   "cell_type": "markdown",
   "id": "e9e5f818",
   "metadata": {},
   "source": [
    "своя реализация kNN"
   ]
  },
  {
   "cell_type": "code",
   "execution_count": 40,
   "id": "72e2ef02",
   "metadata": {
    "scrolled": true
   },
   "outputs": [],
   "source": [
    "def euclidian_metric(a, b):  # реализуем Евклидову метрику через норму\n",
    "    return np.sqrt(np.sum((a - b) ** 2, axis=1))"
   ]
  },
  {
   "cell_type": "code",
   "execution_count": 41,
   "id": "4495fb49",
   "metadata": {},
   "outputs": [],
   "source": [
    "def find_neighbours(k, y, distances):\n",
    "    neighbours = y[np.argsort(distances)][:k]\n",
    "    neighbours_distances = distances[neighbours][:k]\n",
    "\n",
    "    return neighbours, neighbours_distances"
   ]
  },
  {
   "cell_type": "code",
   "execution_count": 42,
   "id": "1143e933",
   "metadata": {},
   "outputs": [],
   "source": [
    "def get_closest_classes(neighbours):\n",
    "    arr = np.unique(neighbours, return_counts=True)\n",
    "    best_classes = arr[0][arr[1] == np.amax(arr[1])]\n",
    "\n",
    "    return best_classes"
   ]
  },
  {
   "cell_type": "code",
   "execution_count": 43,
   "id": "aa8255c7",
   "metadata": {},
   "outputs": [],
   "source": [
    "def choose_best_class(best_classes, neighbours, neighbouring_distances):\n",
    "    min_mean_dist = np.inf\n",
    "    best_class = None\n",
    "\n",
    "    for elem in np.unique(neighbours):\n",
    "        mean_dist = np.mean(neighbouring_distances[neighbours == elem])\n",
    "        if mean_dist < min_mean_dist:\n",
    "            best_class = elem\n",
    "            min_mean_dist = mean_dist\n",
    "\n",
    "    return best_class"
   ]
  },
  {
   "cell_type": "code",
   "execution_count": 44,
   "id": "bb09eb03",
   "metadata": {},
   "outputs": [],
   "source": [
    "def nearest_neighbours_classify(x, y, k, x_pred):\n",
    "    res = np.zeros(x_pred.shape[0], dtype=y.dtype)\n",
    "\n",
    "    for i in range(x_pred.shape[0]):\n",
    "        distances = euclidian_metric(x, x_pred[i])  # считаем расстояния до классов\n",
    "\n",
    "        neighbours, neighbouring_distances = find_neighbours(k, y, distances)  # находим ровно k соседей этой точки\n",
    "            \n",
    "        best_classes = get_closest_classes(neighbours)  # обнаруживаем классы, которые имеются среди соседей\n",
    "\n",
    "        res[i] = choose_best_class(best_classes, neighbours, neighbouring_distances)  # выбираем наиболее релевантный класс по среднему расстоянию до него среди соседей\n",
    "    return res"
   ]
  },
  {
   "cell_type": "code",
   "execution_count": 45,
   "id": "fd8a204b",
   "metadata": {
    "scrolled": true
   },
   "outputs": [
    {
     "name": "stdout",
     "output_type": "stream",
     "text": [
      "[[236 177]\n",
      " [106 137]]\n",
      "              precision    recall  f1-score   support\n",
      "\n",
      "           0       0.69      0.57      0.63       413\n",
      "           1       0.44      0.56      0.49       243\n",
      "\n",
      "    accuracy                           0.57       656\n",
      "   macro avg       0.56      0.57      0.56       656\n",
      "weighted avg       0.60      0.57      0.58       656\n",
      "\n",
      "0.6310975609756098\n"
     ]
    }
   ],
   "source": [
    "y_pred = nearest_neighbours_classify(X_train, y_train, clf.best_params_['n_neighbors'], X_test)\n",
    "print(confusion_matrix(y_test, y_pred))\n",
    "print(classification_report(y_test, y_pred))\n",
    "print(clf.score(X_test, y_test))"
   ]
  },
  {
   "cell_type": "markdown",
   "id": "07f9e7e7",
   "metadata": {},
   "source": [
    "результат получился одинаковым"
   ]
  },
  {
   "cell_type": "markdown",
   "id": "2e1ba2d5",
   "metadata": {},
   "source": [
    "**Классификатор дерева решений (Decision Tree Classifier)**"
   ]
  },
  {
   "cell_type": "code",
   "execution_count": 46,
   "id": "78c280c8",
   "metadata": {},
   "outputs": [
    {
     "data": {
      "text/plain": [
       "{'max_depth': 10, 'max_features': 6}"
      ]
     },
     "execution_count": 46,
     "metadata": {},
     "output_type": "execute_result"
    }
   ],
   "source": [
    "from sklearn import tree\n",
    "\n",
    "dtc = tree.DecisionTreeClassifier()\n",
    "params = {'max_depth': np.arange(1,15,1),\n",
    "          'max_features': np.arange(5,X.shape[1]-1,1)}\n",
    "clf = GridSearchCV(dtc, params)\n",
    "clf = clf.fit(X_train, y_train)\n",
    "clf.best_params_"
   ]
  },
  {
   "cell_type": "code",
   "execution_count": 47,
   "id": "bb07f9d3",
   "metadata": {},
   "outputs": [
    {
     "name": "stdout",
     "output_type": "stream",
     "text": [
      "[[325  88]\n",
      " [151  92]]\n",
      "              precision    recall  f1-score   support\n",
      "\n",
      "           0       0.68      0.79      0.73       413\n",
      "           1       0.51      0.38      0.43       243\n",
      "\n",
      "    accuracy                           0.64       656\n",
      "   macro avg       0.60      0.58      0.58       656\n",
      "weighted avg       0.62      0.64      0.62       656\n",
      "\n",
      "0.635670731707317\n"
     ]
    }
   ],
   "source": [
    "y_pred = clf.predict(X_test)\n",
    "print(confusion_matrix(y_test, y_pred))\n",
    "print(classification_report(y_test, y_pred))\n",
    "print(clf.score(X_test, y_test))"
   ]
  },
  {
   "cell_type": "markdown",
   "id": "6e834b24",
   "metadata": {},
   "source": [
    "**Наивный байесовский классификатор (Naive Bayes)**"
   ]
  },
  {
   "cell_type": "code",
   "execution_count": 48,
   "id": "8f65a8ad",
   "metadata": {},
   "outputs": [],
   "source": [
    "from sklearn.naive_bayes import GaussianNB, BernoulliNB\n",
    "\n",
    "g_nb = GaussianNB()\n",
    "b_nb = BernoulliNB()"
   ]
  },
  {
   "cell_type": "code",
   "execution_count": 49,
   "id": "3eb255e5",
   "metadata": {},
   "outputs": [
    {
     "data": {
      "text/plain": [
       "GaussianNB()"
      ]
     },
     "execution_count": 49,
     "metadata": {},
     "output_type": "execute_result"
    }
   ],
   "source": [
    "g_nb.fit(X_train, y_train)"
   ]
  },
  {
   "cell_type": "code",
   "execution_count": 50,
   "id": "90dae7e7",
   "metadata": {},
   "outputs": [
    {
     "name": "stdout",
     "output_type": "stream",
     "text": [
      "[[367  46]\n",
      " [189  54]]\n",
      "              precision    recall  f1-score   support\n",
      "\n",
      "           0       0.66      0.89      0.76       413\n",
      "           1       0.54      0.22      0.31       243\n",
      "\n",
      "    accuracy                           0.64       656\n",
      "   macro avg       0.60      0.56      0.54       656\n",
      "weighted avg       0.62      0.64      0.59       656\n",
      "\n",
      "0.6417682926829268\n"
     ]
    }
   ],
   "source": [
    "y_pred = g_nb.predict(X_test)\n",
    "print(confusion_matrix(y_test, y_pred))\n",
    "print(classification_report(y_test, y_pred))\n",
    "print(g_nb.score(X_test, y_test))"
   ]
  },
  {
   "cell_type": "code",
   "execution_count": 51,
   "id": "943ea693",
   "metadata": {
    "scrolled": true
   },
   "outputs": [
    {
     "data": {
      "text/plain": [
       "BernoulliNB()"
      ]
     },
     "execution_count": 51,
     "metadata": {},
     "output_type": "execute_result"
    }
   ],
   "source": [
    "b_nb.fit(X_train, y_train)"
   ]
  },
  {
   "cell_type": "code",
   "execution_count": 52,
   "id": "c32d6f2d",
   "metadata": {
    "scrolled": false
   },
   "outputs": [
    {
     "name": "stdout",
     "output_type": "stream",
     "text": [
      "[[413   0]\n",
      " [243   0]]\n",
      "              precision    recall  f1-score   support\n",
      "\n",
      "           0       0.63      1.00      0.77       413\n",
      "           1       0.00      0.00      0.00       243\n",
      "\n",
      "    accuracy                           0.63       656\n",
      "   macro avg       0.31      0.50      0.39       656\n",
      "weighted avg       0.40      0.63      0.49       656\n",
      "\n",
      "0.6295731707317073\n"
     ]
    },
    {
     "name": "stderr",
     "output_type": "stream",
     "text": [
      "C:\\Users\\kirill\\anaconda3\\lib\\site-packages\\sklearn\\metrics\\_classification.py:1245: UndefinedMetricWarning: Precision and F-score are ill-defined and being set to 0.0 in labels with no predicted samples. Use `zero_division` parameter to control this behavior.\n",
      "  _warn_prf(average, modifier, msg_start, len(result))\n",
      "C:\\Users\\kirill\\anaconda3\\lib\\site-packages\\sklearn\\metrics\\_classification.py:1245: UndefinedMetricWarning: Precision and F-score are ill-defined and being set to 0.0 in labels with no predicted samples. Use `zero_division` parameter to control this behavior.\n",
      "  _warn_prf(average, modifier, msg_start, len(result))\n",
      "C:\\Users\\kirill\\anaconda3\\lib\\site-packages\\sklearn\\metrics\\_classification.py:1245: UndefinedMetricWarning: Precision and F-score are ill-defined and being set to 0.0 in labels with no predicted samples. Use `zero_division` parameter to control this behavior.\n",
      "  _warn_prf(average, modifier, msg_start, len(result))\n"
     ]
    }
   ],
   "source": [
    "y_pred = b_nb.predict(X_test)\n",
    "print(confusion_matrix(y_test, y_pred))\n",
    "print(classification_report(y_test, y_pred))\n",
    "print(b_nb.score(X_test, y_test))"
   ]
  },
  {
   "cell_type": "markdown",
   "id": "22692958",
   "metadata": {},
   "source": [
    "Наивный байесовский классификатор с распределением Бернулли показал лучший результат по сравнению с нормальным распределением"
   ]
  },
  {
   "cell_type": "markdown",
   "id": "56d9905c",
   "metadata": {},
   "source": [
    "**Метод опорных векторов (Support Vector Machines)**"
   ]
  },
  {
   "cell_type": "code",
   "execution_count": 53,
   "id": "3fe7bf6d",
   "metadata": {},
   "outputs": [
    {
     "data": {
      "text/plain": [
       "{'C': 0.9, 'degree': 2}"
      ]
     },
     "execution_count": 53,
     "metadata": {},
     "output_type": "execute_result"
    }
   ],
   "source": [
    "from sklearn import svm\n",
    "\n",
    "svc = svm.SVC()\n",
    "params = {'C': np.arange(0.1,1.1,0.1),\n",
    "          'degree': np.arange(2,5,1)}\n",
    "clf = GridSearchCV(svc, params)\n",
    "clf.fit(X_train, y_train)\n",
    "clf.best_params_"
   ]
  },
  {
   "cell_type": "code",
   "execution_count": 54,
   "id": "59d43c4d",
   "metadata": {},
   "outputs": [
    {
     "name": "stdout",
     "output_type": "stream",
     "text": [
      "[[378  35]\n",
      " [176  67]]\n",
      "              precision    recall  f1-score   support\n",
      "\n",
      "           0       0.68      0.92      0.78       413\n",
      "           1       0.66      0.28      0.39       243\n",
      "\n",
      "    accuracy                           0.68       656\n",
      "   macro avg       0.67      0.60      0.59       656\n",
      "weighted avg       0.67      0.68      0.64       656\n",
      "\n",
      "0.6783536585365854\n"
     ]
    }
   ],
   "source": [
    "y_pred = clf.predict(X_test)\n",
    "print(confusion_matrix(y_test, y_pred))\n",
    "print(classification_report(y_test, y_pred))\n",
    "print(clf.score(X_test, y_test))"
   ]
  },
  {
   "cell_type": "markdown",
   "id": "339ddcd7",
   "metadata": {},
   "source": [
    "**Логистическая регрессия (Logistic Regression)**"
   ]
  },
  {
   "cell_type": "code",
   "execution_count": 55,
   "id": "1219ef60",
   "metadata": {},
   "outputs": [
    {
     "data": {
      "text/plain": [
       "{'C': 0.2}"
      ]
     },
     "execution_count": 55,
     "metadata": {},
     "output_type": "execute_result"
    }
   ],
   "source": [
    "from sklearn.linear_model import LogisticRegression\n",
    "\n",
    "logReg = LogisticRegression()\n",
    "params = {'C': np.arange(0.1,1.1,0.1)}\n",
    "clf = GridSearchCV(logReg, params)\n",
    "clf.fit(X_train, y_train)\n",
    "clf.best_params_"
   ]
  },
  {
   "cell_type": "code",
   "execution_count": 56,
   "id": "db3169cc",
   "metadata": {},
   "outputs": [
    {
     "name": "stdout",
     "output_type": "stream",
     "text": [
      "[[413   0]\n",
      " [241   2]]\n",
      "              precision    recall  f1-score   support\n",
      "\n",
      "           0       0.63      1.00      0.77       413\n",
      "           1       1.00      0.01      0.02       243\n",
      "\n",
      "    accuracy                           0.63       656\n",
      "   macro avg       0.82      0.50      0.40       656\n",
      "weighted avg       0.77      0.63      0.49       656\n",
      "\n",
      "0.6326219512195121\n"
     ]
    }
   ],
   "source": [
    "y_pred = clf.predict(X_test)\n",
    "print(confusion_matrix(y_test, y_pred))\n",
    "print(classification_report(y_test, y_pred))\n",
    "print(clf.score(X_test, y_test))"
   ]
  },
  {
   "cell_type": "markdown",
   "id": "f613fbd1",
   "metadata": {},
   "source": [
    "**Perceptron**"
   ]
  },
  {
   "cell_type": "code",
   "execution_count": 57,
   "id": "19656e59",
   "metadata": {},
   "outputs": [
    {
     "data": {
      "text/plain": [
       "{'alpha': 0.0001, 'l1_ratio': 0.0}"
      ]
     },
     "execution_count": 57,
     "metadata": {},
     "output_type": "execute_result"
    }
   ],
   "source": [
    "from sklearn.linear_model import Perceptron\n",
    "\n",
    "perc = Perceptron()\n",
    "params = {'alpha': np.array([0.0001, 0.0005, 0.001, 0.005, 0.01, 0.05, 0.1, 0.5]),\n",
    "          'l1_ratio': np.arange(0,1.05,0.05)}\n",
    "clf = GridSearchCV(perc, params)\n",
    "clf.fit(X_train, y_train)\n",
    "clf.best_params_"
   ]
  },
  {
   "cell_type": "code",
   "execution_count": 58,
   "id": "eb316fdc",
   "metadata": {},
   "outputs": [
    {
     "name": "stdout",
     "output_type": "stream",
     "text": [
      "[[284 129]\n",
      " [145  98]]\n",
      "              precision    recall  f1-score   support\n",
      "\n",
      "           0       0.66      0.69      0.67       413\n",
      "           1       0.43      0.40      0.42       243\n",
      "\n",
      "    accuracy                           0.58       656\n",
      "   macro avg       0.55      0.55      0.55       656\n",
      "weighted avg       0.58      0.58      0.58       656\n",
      "\n",
      "0.5823170731707317\n"
     ]
    }
   ],
   "source": [
    "y_pred = clf.predict(X_test)\n",
    "print(confusion_matrix(y_test, y_pred))\n",
    "print(classification_report(y_test, y_pred))\n",
    "print(clf.score(X_test, y_test))"
   ]
  },
  {
   "cell_type": "markdown",
   "id": "7b07f372",
   "metadata": {},
   "source": [
    "**Вывод:** самый лучший классификатор по точности - SVM"
   ]
  }
 ],
 "metadata": {
  "kernelspec": {
   "display_name": "Python 3",
   "language": "python",
   "name": "python3"
  },
  "language_info": {
   "codemirror_mode": {
    "name": "ipython",
    "version": 3
   },
   "file_extension": ".py",
   "mimetype": "text/x-python",
   "name": "python",
   "nbconvert_exporter": "python",
   "pygments_lexer": "ipython3",
   "version": "3.8.8"
  }
 },
 "nbformat": 4,
 "nbformat_minor": 5
}
