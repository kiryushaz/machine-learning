{
 "cells": [
  {
   "cell_type": "code",
   "execution_count": 195,
   "id": "968cbaa8",
   "metadata": {},
   "outputs": [],
   "source": [
    "import pandas as pd\n",
    "import numpy as np\n",
    "import matplotlib.pyplot as plt"
   ]
  },
  {
   "cell_type": "code",
   "execution_count": 196,
   "id": "1c88ee3c",
   "metadata": {},
   "outputs": [],
   "source": [
    "from sklearn.model_selection import train_test_split\n",
    "from sklearn.preprocessing import StandardScaler"
   ]
  },
  {
   "cell_type": "markdown",
   "id": "fa977a1c",
   "metadata": {},
   "source": [
    "# Task 1"
   ]
  },
  {
   "cell_type": "code",
   "execution_count": 238,
   "id": "1380c117",
   "metadata": {},
   "outputs": [],
   "source": [
    "class MLP:\n",
    "    def __init__(self, activation='relu', hidden_layer_shape=(4,), learning_rate=0.1, max_iter=10000):\n",
    "        self.X = None\n",
    "        self.y = None\n",
    "        self.parameters = None\n",
    "        \n",
    "        self.n_h = hidden_layer_shape\n",
    "        self.activation = activation #sigmoid, relu\n",
    "        self.learning_rate = learning_rate\n",
    "        self.max_iter = max_iter\n",
    "    \n",
    "    def __sigmoid(self, Z):\n",
    "        A = 1 / (1 + np.exp(-Z))\n",
    "        cache = Z\n",
    "\n",
    "        return A, cache\n",
    "\n",
    "    def __relu(self, Z):\n",
    "        A = np.maximum(0, Z)\n",
    "        cache = Z \n",
    "        \n",
    "        return A, cache\n",
    "    \n",
    "    def __sigmoid_backward(self, dA, cache):\n",
    "        Z = cache\n",
    "        A = 1 / (1 + np.exp(-Z))\n",
    "        dZ = dA * A * (1 - A)\n",
    "\n",
    "        return dZ\n",
    "\n",
    "    def __relu_backward(self, dA, cache):\n",
    "        Z = cache\n",
    "        dZ = np.array(dA, copy=True)\n",
    "        dZ[Z <= 0] = 0\n",
    "\n",
    "        return dZ\n",
    "    \n",
    "    def __initialize_parameters(self, layer_dims):\n",
    "        parameters = {}\n",
    "        L = len(layer_dims)\n",
    "\n",
    "        for l in range(1, L):\n",
    "            parameters[\"W\" + str(l)] = np.random.randn(layer_dims[l], layer_dims[l-1]) * 0.01\n",
    "            parameters[\"b\" + str(l)] = np.zeros((layer_dims[l], 1))\n",
    "\n",
    "        return parameters\n",
    "    \n",
    "    def __forward_propagation(self, X, parameters):\n",
    "        \n",
    "        def linear_forward(A, W, b):\n",
    "            Z = np.dot(W, A) + b\n",
    "            cache = (A, W, b)\n",
    "\n",
    "            return Z, cache\n",
    "    \n",
    "        def linear_activation_forward(A_prev, W, b, activation):\n",
    "            if activation == \"sigmoid\":\n",
    "                Z, linear_cache = linear_forward(A_prev, W, b)\n",
    "                A, activation_cache = self.__sigmoid(Z)\n",
    "\n",
    "            if activation == \"relu\":\n",
    "                Z, linear_cache = linear_forward(A_prev, W, b)\n",
    "                A, activation_cache = self.__relu(Z)\n",
    "\n",
    "            cache = (linear_cache, activation_cache)\n",
    "\n",
    "            return A, cache\n",
    "    \n",
    "        caches = []\n",
    "        A = X.T\n",
    "        L = len(parameters) // 2\n",
    "\n",
    "        for l in range(1, L):\n",
    "            A_prev = A \n",
    "\n",
    "            A, cache = linear_activation_forward(A_prev, parameters['W' + str(l)], parameters['b' + str(l)], 'relu')\n",
    "            caches.append(cache)\n",
    "\n",
    "        AL, cache = linear_activation_forward(A, parameters['W' + str(L)], parameters['b' + str(L)], 'sigmoid')\n",
    "        caches.append(cache)\n",
    "\n",
    "        return AL, caches\n",
    "    \n",
    "    def __compute_cost(self, AL, Y):\n",
    "        m = Y.shape[0]\n",
    "        \n",
    "        cost = -np.sum(Y * np.log(AL) + (1 - Y) * np.log(1 - AL)) / m\n",
    "        cost = np.squeeze(cost)\n",
    "        \n",
    "        return cost\n",
    "    \n",
    "    def __backward_propagation(self, AL, Y, caches):\n",
    "\n",
    "        def linear_backward(dZ, cache):\n",
    "            A_prev, W, b = cache\n",
    "            m = A_prev.shape[0]\n",
    "\n",
    "            dW = np.dot(dZ, A_prev.T) / m\n",
    "            db = np.sum(dZ, axis=1, keepdims=True) / m\n",
    "            dA_prev = np.dot(W.T, dZ)\n",
    "\n",
    "            return dA_prev, dW, db\n",
    "    \n",
    "        def linear_activation_backward(dA, cache, activation):\n",
    "            linear_cache, activation_cache = cache\n",
    "\n",
    "            if activation == \"relu\":\n",
    "                dZ = self.__relu_backward(dA, activation_cache)\n",
    "                dA_prev, dW, db = linear_backward(dZ, linear_cache)\n",
    "\n",
    "            elif activation == \"sigmoid\":\n",
    "                dZ = self.__sigmoid_backward(dA, activation_cache)\n",
    "                dA_prev, dW, db = linear_backward(dZ, linear_cache)\n",
    "\n",
    "            return dA_prev, dW, db\n",
    "        \n",
    "        grads = {}\n",
    "        L = len(caches)\n",
    "        m = AL.shape[0]\n",
    "        Y = Y.reshape(AL.shape)        \n",
    "\n",
    "        dAL = -(np.divide(Y, AL) - np.divide(1 - Y, 1 - AL))\n",
    "\n",
    "        current_cache = caches[L-1]\n",
    "        dA_prev_temp, dW_temp, db_temp = linear_activation_backward(dAL, current_cache, 'sigmoid')\n",
    "        grads[\"dA\" + str(L-1)] = dA_prev_temp\n",
    "        grads[\"dW\" + str(L)] = dW_temp\n",
    "        grads[\"db\" + str(L)] = db_temp\n",
    "\n",
    "        for l in reversed(range(L-1)):\n",
    "            current_cache = caches[l]\n",
    "            dA_prev_temp, dW_temp, db_temp = linear_activation_backward(grads[\"dA\" + str(l + 1)], current_cache, 'relu')\n",
    "            grads[\"dA\" + str(l)] = dA_prev_temp\n",
    "            grads[\"dW\" + str(l + 1)] = dW_temp\n",
    "            grads[\"db\" + str(l + 1)] = db_temp\n",
    "\n",
    "        return grads\n",
    "    \n",
    "    def __update_parameters(self, params, grads):\n",
    "        parameters = params.copy()\n",
    "        L = len(parameters) // 2 # number of layers in the neural network\n",
    "\n",
    "        for l in range(L):\n",
    "            parameters[\"W\" + str(l+1)] = parameters['W' + str(l+1)] - self.learning_rate * grads['dW' + str(l+1)]\n",
    "            parameters[\"b\" + str(l+1)] = parameters['b' + str(l+1)] - self.learning_rate * grads['db' + str(l+1)]\n",
    "\n",
    "        return parameters\n",
    "    \n",
    "    def fit(self, X, y, verbose=False):\n",
    "        self.X = X\n",
    "        self.y = y\n",
    "        \n",
    "        self.n_x = X.shape[1]\n",
    "        self.n_y = y.shape[1]\n",
    "        \n",
    "        parameters = self.__initialize_parameters([self.n_x, *self.n_h, self.n_y])\n",
    "        \n",
    "        for i in range(self.max_iter):\n",
    "            AL, caches = self.__forward_propagation(X, parameters)\n",
    "            cost = self.__compute_cost(AL, y)\n",
    "            grads = self.__backward_propagation(AL, y, caches)\n",
    "            parameters = self.__update_parameters(parameters, grads)\n",
    "            \n",
    "            if verbose: print (\"Cost after iteration %i: %f\" %(i, cost))\n",
    "            \n",
    "        self.parameters = parameters\n",
    "    \n",
    "    def predict(self, X):\n",
    "        AL, cache = self.__forward_propagation(X, self.parameters)\n",
    "        predictions = (AL > 0.5)\n",
    "\n",
    "        return predictions\n",
    "\n",
    "    def get_parameters(self):\n",
    "        return self.parameters"
   ]
  },
  {
   "cell_type": "code",
   "execution_count": 231,
   "id": "c9e4f126",
   "metadata": {},
   "outputs": [],
   "source": [
    "titanic_df_train = pd.read_csv(\"../data/train.csv\")\n",
    "titanic_df_test = pd.read_csv(\"../data/test.csv\")\n",
    "\n",
    "iris_names = ['sepal length in cm', 'sepal width in cm', 'petal length in cm', 'petal width in cm', 'class']\n",
    "iris_df = pd.read_csv(\"../data/iris.csv\", names=iris_names)"
   ]
  },
  {
   "cell_type": "code",
   "execution_count": 199,
   "id": "0347a0d6",
   "metadata": {},
   "outputs": [
    {
     "name": "stdout",
     "output_type": "stream",
     "text": [
      "<class 'pandas.core.frame.DataFrame'>\n",
      "RangeIndex: 891 entries, 0 to 890\n",
      "Data columns (total 12 columns):\n",
      " #   Column       Non-Null Count  Dtype  \n",
      "---  ------       --------------  -----  \n",
      " 0   PassengerId  891 non-null    int64  \n",
      " 1   Survived     891 non-null    int64  \n",
      " 2   Pclass       891 non-null    int64  \n",
      " 3   Name         891 non-null    object \n",
      " 4   Sex          891 non-null    object \n",
      " 5   Age          714 non-null    float64\n",
      " 6   SibSp        891 non-null    int64  \n",
      " 7   Parch        891 non-null    int64  \n",
      " 8   Ticket       891 non-null    object \n",
      " 9   Fare         891 non-null    float64\n",
      " 10  Cabin        204 non-null    object \n",
      " 11  Embarked     889 non-null    object \n",
      "dtypes: float64(2), int64(5), object(5)\n",
      "memory usage: 83.7+ KB\n"
     ]
    }
   ],
   "source": [
    "titanic_df_train.info()"
   ]
  },
  {
   "cell_type": "code",
   "execution_count": 200,
   "id": "dcdb3445",
   "metadata": {
    "scrolled": true
   },
   "outputs": [
    {
     "data": {
      "text/plain": [
       "PassengerId      0\n",
       "Survived         0\n",
       "Pclass           0\n",
       "Name             0\n",
       "Sex              0\n",
       "Age            177\n",
       "SibSp            0\n",
       "Parch            0\n",
       "Ticket           0\n",
       "Fare             0\n",
       "Cabin          687\n",
       "Embarked         2\n",
       "dtype: int64"
      ]
     },
     "execution_count": 200,
     "metadata": {},
     "output_type": "execute_result"
    }
   ],
   "source": [
    "titanic_df_train.isnull().sum()"
   ]
  },
  {
   "cell_type": "code",
   "execution_count": 201,
   "id": "bc0906ad",
   "metadata": {
    "scrolled": true
   },
   "outputs": [
    {
     "name": "stderr",
     "output_type": "stream",
     "text": [
      "C:\\Users\\kirill\\AppData\\Local\\Temp\\ipykernel_6592\\1365806677.py:1: FutureWarning: Dropping of nuisance columns in DataFrame reductions (with 'numeric_only=None') is deprecated; in a future version this will raise TypeError.  Select only valid columns before calling the reduction.\n",
      "  titanic_df = titanic_df_train.fillna(titanic_df_train.mean()).dropna()\n"
     ]
    }
   ],
   "source": [
    "titanic_df = titanic_df_train.fillna(titanic_df_train.mean()).dropna()"
   ]
  },
  {
   "cell_type": "code",
   "execution_count": 202,
   "id": "4bb3415c",
   "metadata": {},
   "outputs": [],
   "source": [
    "titanic_df = titanic_df.drop(columns=[\"Name\", \"Ticket\", \"Cabin\"])"
   ]
  },
  {
   "cell_type": "code",
   "execution_count": 203,
   "id": "1cdedd51",
   "metadata": {},
   "outputs": [],
   "source": [
    "titanic_df['Sex'] = pd.Categorical(titanic_df.Sex).codes\n",
    "titanic_df['Embarked'] = pd.Categorical(titanic_df.Embarked).codes"
   ]
  },
  {
   "cell_type": "code",
   "execution_count": 204,
   "id": "248bda67",
   "metadata": {
    "scrolled": false
   },
   "outputs": [
    {
     "data": {
      "text/html": [
       "<div>\n",
       "<style scoped>\n",
       "    .dataframe tbody tr th:only-of-type {\n",
       "        vertical-align: middle;\n",
       "    }\n",
       "\n",
       "    .dataframe tbody tr th {\n",
       "        vertical-align: top;\n",
       "    }\n",
       "\n",
       "    .dataframe thead th {\n",
       "        text-align: right;\n",
       "    }\n",
       "</style>\n",
       "<table border=\"1\" class=\"dataframe\">\n",
       "  <thead>\n",
       "    <tr style=\"text-align: right;\">\n",
       "      <th></th>\n",
       "      <th>PassengerId</th>\n",
       "      <th>Survived</th>\n",
       "      <th>Pclass</th>\n",
       "      <th>Sex</th>\n",
       "      <th>Age</th>\n",
       "      <th>SibSp</th>\n",
       "      <th>Parch</th>\n",
       "      <th>Fare</th>\n",
       "      <th>Embarked</th>\n",
       "    </tr>\n",
       "  </thead>\n",
       "  <tbody>\n",
       "    <tr>\n",
       "      <th>1</th>\n",
       "      <td>2</td>\n",
       "      <td>1</td>\n",
       "      <td>1</td>\n",
       "      <td>0</td>\n",
       "      <td>38.0</td>\n",
       "      <td>1</td>\n",
       "      <td>0</td>\n",
       "      <td>71.2833</td>\n",
       "      <td>0</td>\n",
       "    </tr>\n",
       "    <tr>\n",
       "      <th>3</th>\n",
       "      <td>4</td>\n",
       "      <td>1</td>\n",
       "      <td>1</td>\n",
       "      <td>0</td>\n",
       "      <td>35.0</td>\n",
       "      <td>1</td>\n",
       "      <td>0</td>\n",
       "      <td>53.1000</td>\n",
       "      <td>2</td>\n",
       "    </tr>\n",
       "    <tr>\n",
       "      <th>6</th>\n",
       "      <td>7</td>\n",
       "      <td>0</td>\n",
       "      <td>1</td>\n",
       "      <td>1</td>\n",
       "      <td>54.0</td>\n",
       "      <td>0</td>\n",
       "      <td>0</td>\n",
       "      <td>51.8625</td>\n",
       "      <td>2</td>\n",
       "    </tr>\n",
       "    <tr>\n",
       "      <th>10</th>\n",
       "      <td>11</td>\n",
       "      <td>1</td>\n",
       "      <td>3</td>\n",
       "      <td>0</td>\n",
       "      <td>4.0</td>\n",
       "      <td>1</td>\n",
       "      <td>1</td>\n",
       "      <td>16.7000</td>\n",
       "      <td>2</td>\n",
       "    </tr>\n",
       "    <tr>\n",
       "      <th>11</th>\n",
       "      <td>12</td>\n",
       "      <td>1</td>\n",
       "      <td>1</td>\n",
       "      <td>0</td>\n",
       "      <td>58.0</td>\n",
       "      <td>0</td>\n",
       "      <td>0</td>\n",
       "      <td>26.5500</td>\n",
       "      <td>2</td>\n",
       "    </tr>\n",
       "    <tr>\n",
       "      <th>...</th>\n",
       "      <td>...</td>\n",
       "      <td>...</td>\n",
       "      <td>...</td>\n",
       "      <td>...</td>\n",
       "      <td>...</td>\n",
       "      <td>...</td>\n",
       "      <td>...</td>\n",
       "      <td>...</td>\n",
       "      <td>...</td>\n",
       "    </tr>\n",
       "    <tr>\n",
       "      <th>871</th>\n",
       "      <td>872</td>\n",
       "      <td>1</td>\n",
       "      <td>1</td>\n",
       "      <td>0</td>\n",
       "      <td>47.0</td>\n",
       "      <td>1</td>\n",
       "      <td>1</td>\n",
       "      <td>52.5542</td>\n",
       "      <td>2</td>\n",
       "    </tr>\n",
       "    <tr>\n",
       "      <th>872</th>\n",
       "      <td>873</td>\n",
       "      <td>0</td>\n",
       "      <td>1</td>\n",
       "      <td>1</td>\n",
       "      <td>33.0</td>\n",
       "      <td>0</td>\n",
       "      <td>0</td>\n",
       "      <td>5.0000</td>\n",
       "      <td>2</td>\n",
       "    </tr>\n",
       "    <tr>\n",
       "      <th>879</th>\n",
       "      <td>880</td>\n",
       "      <td>1</td>\n",
       "      <td>1</td>\n",
       "      <td>0</td>\n",
       "      <td>56.0</td>\n",
       "      <td>0</td>\n",
       "      <td>1</td>\n",
       "      <td>83.1583</td>\n",
       "      <td>0</td>\n",
       "    </tr>\n",
       "    <tr>\n",
       "      <th>887</th>\n",
       "      <td>888</td>\n",
       "      <td>1</td>\n",
       "      <td>1</td>\n",
       "      <td>0</td>\n",
       "      <td>19.0</td>\n",
       "      <td>0</td>\n",
       "      <td>0</td>\n",
       "      <td>30.0000</td>\n",
       "      <td>2</td>\n",
       "    </tr>\n",
       "    <tr>\n",
       "      <th>889</th>\n",
       "      <td>890</td>\n",
       "      <td>1</td>\n",
       "      <td>1</td>\n",
       "      <td>1</td>\n",
       "      <td>26.0</td>\n",
       "      <td>0</td>\n",
       "      <td>0</td>\n",
       "      <td>30.0000</td>\n",
       "      <td>0</td>\n",
       "    </tr>\n",
       "  </tbody>\n",
       "</table>\n",
       "<p>202 rows × 9 columns</p>\n",
       "</div>"
      ],
      "text/plain": [
       "     PassengerId  Survived  Pclass  Sex   Age  SibSp  Parch     Fare  Embarked\n",
       "1              2         1       1    0  38.0      1      0  71.2833         0\n",
       "3              4         1       1    0  35.0      1      0  53.1000         2\n",
       "6              7         0       1    1  54.0      0      0  51.8625         2\n",
       "10            11         1       3    0   4.0      1      1  16.7000         2\n",
       "11            12         1       1    0  58.0      0      0  26.5500         2\n",
       "..           ...       ...     ...  ...   ...    ...    ...      ...       ...\n",
       "871          872         1       1    0  47.0      1      1  52.5542         2\n",
       "872          873         0       1    1  33.0      0      0   5.0000         2\n",
       "879          880         1       1    0  56.0      0      1  83.1583         0\n",
       "887          888         1       1    0  19.0      0      0  30.0000         2\n",
       "889          890         1       1    1  26.0      0      0  30.0000         0\n",
       "\n",
       "[202 rows x 9 columns]"
      ]
     },
     "execution_count": 204,
     "metadata": {},
     "output_type": "execute_result"
    }
   ],
   "source": [
    "titanic_df"
   ]
  },
  {
   "cell_type": "code",
   "execution_count": 245,
   "id": "7cb544e8",
   "metadata": {},
   "outputs": [],
   "source": [
    "X = titanic_df.drop(columns=[\"Survived\"]).values\n",
    "y = titanic_df[\"Survived\"].values.reshape(-1, 1)"
   ]
  },
  {
   "cell_type": "code",
   "execution_count": 246,
   "id": "485ca295",
   "metadata": {
    "scrolled": true
   },
   "outputs": [
    {
     "data": {
      "text/plain": [
       "(202, 8)"
      ]
     },
     "execution_count": 246,
     "metadata": {},
     "output_type": "execute_result"
    }
   ],
   "source": [
    "X.shape"
   ]
  },
  {
   "cell_type": "code",
   "execution_count": 247,
   "id": "8ffc332e",
   "metadata": {},
   "outputs": [
    {
     "data": {
      "text/plain": [
       "(202, 1)"
      ]
     },
     "execution_count": 247,
     "metadata": {},
     "output_type": "execute_result"
    }
   ],
   "source": [
    "y.reshape(y.shape[0], -1).shape"
   ]
  },
  {
   "cell_type": "code",
   "execution_count": 248,
   "id": "7cd6b619",
   "metadata": {},
   "outputs": [],
   "source": [
    "X_train, X_test, y_train, y_test = train_test_split(X, y, test_size=0.20)"
   ]
  },
  {
   "cell_type": "code",
   "execution_count": 249,
   "id": "bd2d6a1a",
   "metadata": {},
   "outputs": [],
   "source": [
    "scaler = StandardScaler()\n",
    "\n",
    "X_train = scaler.fit_transform(X_train)\n",
    "X_test = scaler.transform(X_test)"
   ]
  },
  {
   "cell_type": "code",
   "execution_count": 261,
   "id": "e94590c1",
   "metadata": {
    "scrolled": true
   },
   "outputs": [],
   "source": [
    "model = MLP(max_iter=150, learning_rate=0.1)\n",
    "model.fit(X_train, y_train)"
   ]
  },
  {
   "cell_type": "code",
   "execution_count": 262,
   "id": "7fb025c0",
   "metadata": {
    "scrolled": true
   },
   "outputs": [
    {
     "data": {
      "text/plain": [
       "{'W1': array([[ 0.18673325, -0.04535739, -0.43497418,  0.07825206,  0.21340303,\n",
       "         -0.41565209,  0.27722727, -0.12015795],\n",
       "        [ 0.42942834, -0.23572337, -1.42097177,  0.24339099,  0.01546947,\n",
       "         -0.56208501,  0.3015441 , -0.56991861],\n",
       "        [-0.17808746, -0.11924571,  0.21197937, -0.60312165, -0.10709167,\n",
       "          0.69004087, -1.27442768, -0.14075304],\n",
       "        [-0.12711274,  0.21382724,  0.51965707,  0.70452361, -0.73847232,\n",
       "          0.0552335 ,  0.03402168, -0.35768595]]),\n",
       " 'b1': array([[ 0.30254501],\n",
       "        [ 0.86184599],\n",
       "        [-0.13546544],\n",
       "        [ 0.30045981]]),\n",
       " 'W2': array([[ 0.65144395,  1.35956055,  1.20995567, -1.17584818]]),\n",
       " 'b2': array([[-0.63452546]])}"
      ]
     },
     "execution_count": 262,
     "metadata": {},
     "output_type": "execute_result"
    }
   ],
   "source": [
    "model.get_parameters()"
   ]
  },
  {
   "cell_type": "code",
   "execution_count": 263,
   "id": "f245bbdf",
   "metadata": {
    "scrolled": true
   },
   "outputs": [
    {
     "data": {
      "text/plain": [
       "array([[ True,  True, False, False, False,  True, False,  True,  True,\n",
       "         True, False,  True,  True,  True,  True, False,  True,  True,\n",
       "        False,  True,  True, False,  True,  True, False,  True, False,\n",
       "        False,  True, False, False,  True, False, False,  True,  True,\n",
       "         True,  True, False,  True,  True]])"
      ]
     },
     "execution_count": 263,
     "metadata": {},
     "output_type": "execute_result"
    }
   ],
   "source": [
    "model.predict(X_test)"
   ]
  },
  {
   "cell_type": "code",
   "execution_count": 268,
   "id": "133a0c6b",
   "metadata": {},
   "outputs": [],
   "source": [
    "iris_df[\"class\"] = pd.Categorical(iris_df[\"class\"]).codes"
   ]
  },
  {
   "cell_type": "code",
   "execution_count": 269,
   "id": "4ca138ca",
   "metadata": {},
   "outputs": [
    {
     "data": {
      "text/html": [
       "<div>\n",
       "<style scoped>\n",
       "    .dataframe tbody tr th:only-of-type {\n",
       "        vertical-align: middle;\n",
       "    }\n",
       "\n",
       "    .dataframe tbody tr th {\n",
       "        vertical-align: top;\n",
       "    }\n",
       "\n",
       "    .dataframe thead th {\n",
       "        text-align: right;\n",
       "    }\n",
       "</style>\n",
       "<table border=\"1\" class=\"dataframe\">\n",
       "  <thead>\n",
       "    <tr style=\"text-align: right;\">\n",
       "      <th></th>\n",
       "      <th>sepal length in cm</th>\n",
       "      <th>sepal width in cm</th>\n",
       "      <th>petal length in cm</th>\n",
       "      <th>petal width in cm</th>\n",
       "      <th>class</th>\n",
       "    </tr>\n",
       "  </thead>\n",
       "  <tbody>\n",
       "    <tr>\n",
       "      <th>0</th>\n",
       "      <td>5.1</td>\n",
       "      <td>3.5</td>\n",
       "      <td>1.4</td>\n",
       "      <td>0.2</td>\n",
       "      <td>0</td>\n",
       "    </tr>\n",
       "    <tr>\n",
       "      <th>1</th>\n",
       "      <td>4.9</td>\n",
       "      <td>3.0</td>\n",
       "      <td>1.4</td>\n",
       "      <td>0.2</td>\n",
       "      <td>0</td>\n",
       "    </tr>\n",
       "    <tr>\n",
       "      <th>2</th>\n",
       "      <td>4.7</td>\n",
       "      <td>3.2</td>\n",
       "      <td>1.3</td>\n",
       "      <td>0.2</td>\n",
       "      <td>0</td>\n",
       "    </tr>\n",
       "    <tr>\n",
       "      <th>3</th>\n",
       "      <td>4.6</td>\n",
       "      <td>3.1</td>\n",
       "      <td>1.5</td>\n",
       "      <td>0.2</td>\n",
       "      <td>0</td>\n",
       "    </tr>\n",
       "    <tr>\n",
       "      <th>4</th>\n",
       "      <td>5.0</td>\n",
       "      <td>3.6</td>\n",
       "      <td>1.4</td>\n",
       "      <td>0.2</td>\n",
       "      <td>0</td>\n",
       "    </tr>\n",
       "    <tr>\n",
       "      <th>...</th>\n",
       "      <td>...</td>\n",
       "      <td>...</td>\n",
       "      <td>...</td>\n",
       "      <td>...</td>\n",
       "      <td>...</td>\n",
       "    </tr>\n",
       "    <tr>\n",
       "      <th>145</th>\n",
       "      <td>6.7</td>\n",
       "      <td>3.0</td>\n",
       "      <td>5.2</td>\n",
       "      <td>2.3</td>\n",
       "      <td>2</td>\n",
       "    </tr>\n",
       "    <tr>\n",
       "      <th>146</th>\n",
       "      <td>6.3</td>\n",
       "      <td>2.5</td>\n",
       "      <td>5.0</td>\n",
       "      <td>1.9</td>\n",
       "      <td>2</td>\n",
       "    </tr>\n",
       "    <tr>\n",
       "      <th>147</th>\n",
       "      <td>6.5</td>\n",
       "      <td>3.0</td>\n",
       "      <td>5.2</td>\n",
       "      <td>2.0</td>\n",
       "      <td>2</td>\n",
       "    </tr>\n",
       "    <tr>\n",
       "      <th>148</th>\n",
       "      <td>6.2</td>\n",
       "      <td>3.4</td>\n",
       "      <td>5.4</td>\n",
       "      <td>2.3</td>\n",
       "      <td>2</td>\n",
       "    </tr>\n",
       "    <tr>\n",
       "      <th>149</th>\n",
       "      <td>5.9</td>\n",
       "      <td>3.0</td>\n",
       "      <td>5.1</td>\n",
       "      <td>1.8</td>\n",
       "      <td>2</td>\n",
       "    </tr>\n",
       "  </tbody>\n",
       "</table>\n",
       "<p>150 rows × 5 columns</p>\n",
       "</div>"
      ],
      "text/plain": [
       "     sepal length in cm  sepal width in cm  petal length in cm  \\\n",
       "0                   5.1                3.5                 1.4   \n",
       "1                   4.9                3.0                 1.4   \n",
       "2                   4.7                3.2                 1.3   \n",
       "3                   4.6                3.1                 1.5   \n",
       "4                   5.0                3.6                 1.4   \n",
       "..                  ...                ...                 ...   \n",
       "145                 6.7                3.0                 5.2   \n",
       "146                 6.3                2.5                 5.0   \n",
       "147                 6.5                3.0                 5.2   \n",
       "148                 6.2                3.4                 5.4   \n",
       "149                 5.9                3.0                 5.1   \n",
       "\n",
       "     petal width in cm  class  \n",
       "0                  0.2      0  \n",
       "1                  0.2      0  \n",
       "2                  0.2      0  \n",
       "3                  0.2      0  \n",
       "4                  0.2      0  \n",
       "..                 ...    ...  \n",
       "145                2.3      2  \n",
       "146                1.9      2  \n",
       "147                2.0      2  \n",
       "148                2.3      2  \n",
       "149                1.8      2  \n",
       "\n",
       "[150 rows x 5 columns]"
      ]
     },
     "execution_count": 269,
     "metadata": {},
     "output_type": "execute_result"
    }
   ],
   "source": [
    "iris_df"
   ]
  },
  {
   "cell_type": "code",
   "execution_count": 295,
   "id": "33358ed5",
   "metadata": {},
   "outputs": [],
   "source": [
    "X = iris_df.drop(columns=[\"class\"]).values\n",
    "y = iris_df[\"class\"].values.reshape(-1, 1)"
   ]
  },
  {
   "cell_type": "code",
   "execution_count": 296,
   "id": "fe5b25ce",
   "metadata": {},
   "outputs": [],
   "source": [
    "X_train, X_test, y_train, y_test = train_test_split(X, y, test_size=0.20)"
   ]
  },
  {
   "cell_type": "code",
   "execution_count": 299,
   "id": "1ebbcdea",
   "metadata": {},
   "outputs": [],
   "source": [
    "scaler = StandardScaler()\n",
    "\n",
    "X_train = scaler.fit_transform(X_train)\n",
    "X_test = scaler.transform(X_test)"
   ]
  },
  {
   "cell_type": "code",
   "execution_count": 300,
   "id": "94a8e04f",
   "metadata": {},
   "outputs": [
    {
     "name": "stderr",
     "output_type": "stream",
     "text": [
      "C:\\Users\\kirill\\AppData\\Local\\Temp\\ipykernel_6592\\3840776927.py:87: RuntimeWarning: divide by zero encountered in log\n",
      "  cost = -np.sum(Y * np.log(AL) + (1 - Y) * np.log(1 - AL)) / m\n",
      "C:\\Users\\kirill\\AppData\\Local\\Temp\\ipykernel_6592\\3840776927.py:87: RuntimeWarning: invalid value encountered in multiply\n",
      "  cost = -np.sum(Y * np.log(AL) + (1 - Y) * np.log(1 - AL)) / m\n",
      "C:\\Users\\kirill\\ml_labs\\venv\\lib\\site-packages\\numpy\\core\\fromnumeric.py:86: RuntimeWarning: invalid value encountered in reduce\n",
      "  return ufunc.reduce(obj, axis, dtype, out, **passkwargs)\n",
      "C:\\Users\\kirill\\AppData\\Local\\Temp\\ipykernel_6592\\3840776927.py:122: RuntimeWarning: divide by zero encountered in true_divide\n",
      "  dAL = -(np.divide(Y, AL) - np.divide(1 - Y, 1 - AL))\n",
      "C:\\Users\\kirill\\AppData\\Local\\Temp\\ipykernel_6592\\3840776927.py:122: RuntimeWarning: invalid value encountered in true_divide\n",
      "  dAL = -(np.divide(Y, AL) - np.divide(1 - Y, 1 - AL))\n",
      "C:\\Users\\kirill\\AppData\\Local\\Temp\\ipykernel_6592\\3840776927.py:27: RuntimeWarning: invalid value encountered in multiply\n",
      "  dZ = dA * A * (1 - A)\n"
     ]
    }
   ],
   "source": [
    "model = MLP()\n",
    "model.fit(X_train, y_train)"
   ]
  },
  {
   "cell_type": "code",
   "execution_count": 301,
   "id": "d1a42a8e",
   "metadata": {},
   "outputs": [
    {
     "data": {
      "text/plain": [
       "array([[False, False, False, False, False, False, False, False, False,\n",
       "        False, False, False, False, False, False, False, False, False,\n",
       "        False, False, False, False, False, False, False, False, False,\n",
       "        False, False, False]])"
      ]
     },
     "execution_count": 301,
     "metadata": {},
     "output_type": "execute_result"
    }
   ],
   "source": [
    "model.predict(X_test)"
   ]
  },
  {
   "cell_type": "code",
   "execution_count": 302,
   "id": "9d36cf3a",
   "metadata": {},
   "outputs": [
    {
     "name": "stdout",
     "output_type": "stream",
     "text": [
      "[[0]\n",
      " [2]\n",
      " [1]\n",
      " [0]\n",
      " [2]\n",
      " [2]\n",
      " [1]\n",
      " [2]\n",
      " [0]\n",
      " [0]\n",
      " [1]\n",
      " [1]\n",
      " [0]\n",
      " [1]\n",
      " [0]\n",
      " [1]\n",
      " [2]\n",
      " [2]\n",
      " [1]\n",
      " [2]\n",
      " [0]\n",
      " [0]\n",
      " [1]\n",
      " [1]\n",
      " [1]\n",
      " [0]\n",
      " [2]\n",
      " [1]\n",
      " [2]\n",
      " [2]]\n"
     ]
    }
   ],
   "source": [
    "print(y_test)"
   ]
  },
  {
   "cell_type": "markdown",
   "id": "4a04e48b",
   "metadata": {},
   "source": [
    "# Task 2"
   ]
  },
  {
   "cell_type": "code",
   "execution_count": 212,
   "id": "7d247e31",
   "metadata": {},
   "outputs": [],
   "source": [
    "water_df = pd.read_csv(\"../data/water_potability_preprocessed.csv\").iloc[:, 1:]\n",
    "auto_df = pd.read_csv('../data/automobile_preprocessed.csv').iloc[:, 1:]"
   ]
  }
 ],
 "metadata": {
  "kernelspec": {
   "display_name": "Python 3 (ipykernel)",
   "language": "python",
   "name": "python3"
  },
  "language_info": {
   "codemirror_mode": {
    "name": "ipython",
    "version": 3
   },
   "file_extension": ".py",
   "mimetype": "text/x-python",
   "name": "python",
   "nbconvert_exporter": "python",
   "pygments_lexer": "ipython3",
   "version": "3.10.4"
  }
 },
 "nbformat": 4,
 "nbformat_minor": 5
}
