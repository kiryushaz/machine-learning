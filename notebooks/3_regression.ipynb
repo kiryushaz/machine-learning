{
 "cells": [
  {
   "cell_type": "code",
   "execution_count": 31,
   "id": "99182623",
   "metadata": {},
   "outputs": [],
   "source": [
    "import pandas as pd\n",
    "import numpy as np\n",
    "\n",
    "from sklearn.model_selection import train_test_split, GridSearchCV\n",
    "from sklearn.preprocessing import StandardScaler, OrdinalEncoder"
   ]
  },
  {
   "cell_type": "code",
   "execution_count": 32,
   "id": "94d02c15",
   "metadata": {},
   "outputs": [],
   "source": [
    "from sklearn.metrics import r2_score, mean_squared_error, mean_absolute_error"
   ]
  },
  {
   "cell_type": "code",
   "execution_count": 33,
   "id": "190c7e1e",
   "metadata": {},
   "outputs": [],
   "source": [
    "import warnings\n",
    "warnings.filterwarnings(\"ignore\")"
   ]
  },
  {
   "cell_type": "code",
   "execution_count": 34,
   "id": "d4fd726c",
   "metadata": {},
   "outputs": [],
   "source": [
    "data = pd.read_csv('../data/automobile_preprocessed.csv')"
   ]
  },
  {
   "cell_type": "code",
   "execution_count": 35,
   "id": "5f323e84",
   "metadata": {},
   "outputs": [],
   "source": [
    "data = data.iloc[:, 1:]"
   ]
  },
  {
   "cell_type": "code",
   "execution_count": 36,
   "id": "725d87a3",
   "metadata": {},
   "outputs": [],
   "source": [
    "enc = OrdinalEncoder()\n",
    "data['make'] = enc.fit_transform(data[[\"make\"]])"
   ]
  },
  {
   "cell_type": "code",
   "execution_count": 37,
   "id": "e617e914",
   "metadata": {
    "scrolled": false
   },
   "outputs": [
    {
     "data": {
      "text/html": [
       "<div>\n",
       "<style scoped>\n",
       "    .dataframe tbody tr th:only-of-type {\n",
       "        vertical-align: middle;\n",
       "    }\n",
       "\n",
       "    .dataframe tbody tr th {\n",
       "        vertical-align: top;\n",
       "    }\n",
       "\n",
       "    .dataframe thead th {\n",
       "        text-align: right;\n",
       "    }\n",
       "</style>\n",
       "<table border=\"1\" class=\"dataframe\">\n",
       "  <thead>\n",
       "    <tr style=\"text-align: right;\">\n",
       "      <th></th>\n",
       "      <th>symboling</th>\n",
       "      <th>normalized-losses</th>\n",
       "      <th>make</th>\n",
       "      <th>fuel-type</th>\n",
       "      <th>aspiration</th>\n",
       "      <th>num-of-doors</th>\n",
       "      <th>drive-wheels</th>\n",
       "      <th>engine-location</th>\n",
       "      <th>wheel-base</th>\n",
       "      <th>length</th>\n",
       "      <th>...</th>\n",
       "      <th>num-of-cylinders_six</th>\n",
       "      <th>num-of-cylinders_three</th>\n",
       "      <th>num-of-cylinders_twelve</th>\n",
       "      <th>fuel-system_1bbl</th>\n",
       "      <th>fuel-system_2bbl</th>\n",
       "      <th>fuel-system_idi</th>\n",
       "      <th>fuel-system_mfi</th>\n",
       "      <th>fuel-system_mpfi</th>\n",
       "      <th>fuel-system_spdi</th>\n",
       "      <th>fuel-system_spfi</th>\n",
       "    </tr>\n",
       "  </thead>\n",
       "  <tbody>\n",
       "    <tr>\n",
       "      <th>0</th>\n",
       "      <td>3</td>\n",
       "      <td>122</td>\n",
       "      <td>0.0</td>\n",
       "      <td>0</td>\n",
       "      <td>0</td>\n",
       "      <td>1</td>\n",
       "      <td>2</td>\n",
       "      <td>0</td>\n",
       "      <td>88.6</td>\n",
       "      <td>168.8</td>\n",
       "      <td>...</td>\n",
       "      <td>0</td>\n",
       "      <td>0</td>\n",
       "      <td>0</td>\n",
       "      <td>0</td>\n",
       "      <td>0</td>\n",
       "      <td>0</td>\n",
       "      <td>0</td>\n",
       "      <td>1</td>\n",
       "      <td>0</td>\n",
       "      <td>0</td>\n",
       "    </tr>\n",
       "    <tr>\n",
       "      <th>1</th>\n",
       "      <td>3</td>\n",
       "      <td>122</td>\n",
       "      <td>0.0</td>\n",
       "      <td>0</td>\n",
       "      <td>0</td>\n",
       "      <td>1</td>\n",
       "      <td>2</td>\n",
       "      <td>0</td>\n",
       "      <td>88.6</td>\n",
       "      <td>168.8</td>\n",
       "      <td>...</td>\n",
       "      <td>0</td>\n",
       "      <td>0</td>\n",
       "      <td>0</td>\n",
       "      <td>0</td>\n",
       "      <td>0</td>\n",
       "      <td>0</td>\n",
       "      <td>0</td>\n",
       "      <td>1</td>\n",
       "      <td>0</td>\n",
       "      <td>0</td>\n",
       "    </tr>\n",
       "    <tr>\n",
       "      <th>2</th>\n",
       "      <td>1</td>\n",
       "      <td>122</td>\n",
       "      <td>0.0</td>\n",
       "      <td>0</td>\n",
       "      <td>0</td>\n",
       "      <td>1</td>\n",
       "      <td>2</td>\n",
       "      <td>0</td>\n",
       "      <td>94.5</td>\n",
       "      <td>171.2</td>\n",
       "      <td>...</td>\n",
       "      <td>1</td>\n",
       "      <td>0</td>\n",
       "      <td>0</td>\n",
       "      <td>0</td>\n",
       "      <td>0</td>\n",
       "      <td>0</td>\n",
       "      <td>0</td>\n",
       "      <td>1</td>\n",
       "      <td>0</td>\n",
       "      <td>0</td>\n",
       "    </tr>\n",
       "    <tr>\n",
       "      <th>3</th>\n",
       "      <td>2</td>\n",
       "      <td>164</td>\n",
       "      <td>1.0</td>\n",
       "      <td>0</td>\n",
       "      <td>0</td>\n",
       "      <td>0</td>\n",
       "      <td>1</td>\n",
       "      <td>0</td>\n",
       "      <td>99.8</td>\n",
       "      <td>176.6</td>\n",
       "      <td>...</td>\n",
       "      <td>0</td>\n",
       "      <td>0</td>\n",
       "      <td>0</td>\n",
       "      <td>0</td>\n",
       "      <td>0</td>\n",
       "      <td>0</td>\n",
       "      <td>0</td>\n",
       "      <td>1</td>\n",
       "      <td>0</td>\n",
       "      <td>0</td>\n",
       "    </tr>\n",
       "    <tr>\n",
       "      <th>4</th>\n",
       "      <td>2</td>\n",
       "      <td>164</td>\n",
       "      <td>1.0</td>\n",
       "      <td>0</td>\n",
       "      <td>0</td>\n",
       "      <td>0</td>\n",
       "      <td>0</td>\n",
       "      <td>0</td>\n",
       "      <td>99.4</td>\n",
       "      <td>176.6</td>\n",
       "      <td>...</td>\n",
       "      <td>0</td>\n",
       "      <td>0</td>\n",
       "      <td>0</td>\n",
       "      <td>0</td>\n",
       "      <td>0</td>\n",
       "      <td>0</td>\n",
       "      <td>0</td>\n",
       "      <td>1</td>\n",
       "      <td>0</td>\n",
       "      <td>0</td>\n",
       "    </tr>\n",
       "    <tr>\n",
       "      <th>...</th>\n",
       "      <td>...</td>\n",
       "      <td>...</td>\n",
       "      <td>...</td>\n",
       "      <td>...</td>\n",
       "      <td>...</td>\n",
       "      <td>...</td>\n",
       "      <td>...</td>\n",
       "      <td>...</td>\n",
       "      <td>...</td>\n",
       "      <td>...</td>\n",
       "      <td>...</td>\n",
       "      <td>...</td>\n",
       "      <td>...</td>\n",
       "      <td>...</td>\n",
       "      <td>...</td>\n",
       "      <td>...</td>\n",
       "      <td>...</td>\n",
       "      <td>...</td>\n",
       "      <td>...</td>\n",
       "      <td>...</td>\n",
       "      <td>...</td>\n",
       "    </tr>\n",
       "    <tr>\n",
       "      <th>188</th>\n",
       "      <td>-1</td>\n",
       "      <td>95</td>\n",
       "      <td>20.0</td>\n",
       "      <td>0</td>\n",
       "      <td>0</td>\n",
       "      <td>0</td>\n",
       "      <td>2</td>\n",
       "      <td>0</td>\n",
       "      <td>109.1</td>\n",
       "      <td>188.8</td>\n",
       "      <td>...</td>\n",
       "      <td>0</td>\n",
       "      <td>0</td>\n",
       "      <td>0</td>\n",
       "      <td>0</td>\n",
       "      <td>0</td>\n",
       "      <td>0</td>\n",
       "      <td>0</td>\n",
       "      <td>1</td>\n",
       "      <td>0</td>\n",
       "      <td>0</td>\n",
       "    </tr>\n",
       "    <tr>\n",
       "      <th>189</th>\n",
       "      <td>-1</td>\n",
       "      <td>95</td>\n",
       "      <td>20.0</td>\n",
       "      <td>0</td>\n",
       "      <td>1</td>\n",
       "      <td>0</td>\n",
       "      <td>2</td>\n",
       "      <td>0</td>\n",
       "      <td>109.1</td>\n",
       "      <td>188.8</td>\n",
       "      <td>...</td>\n",
       "      <td>0</td>\n",
       "      <td>0</td>\n",
       "      <td>0</td>\n",
       "      <td>0</td>\n",
       "      <td>0</td>\n",
       "      <td>0</td>\n",
       "      <td>0</td>\n",
       "      <td>1</td>\n",
       "      <td>0</td>\n",
       "      <td>0</td>\n",
       "    </tr>\n",
       "    <tr>\n",
       "      <th>190</th>\n",
       "      <td>-1</td>\n",
       "      <td>95</td>\n",
       "      <td>20.0</td>\n",
       "      <td>0</td>\n",
       "      <td>0</td>\n",
       "      <td>0</td>\n",
       "      <td>2</td>\n",
       "      <td>0</td>\n",
       "      <td>109.1</td>\n",
       "      <td>188.8</td>\n",
       "      <td>...</td>\n",
       "      <td>1</td>\n",
       "      <td>0</td>\n",
       "      <td>0</td>\n",
       "      <td>0</td>\n",
       "      <td>0</td>\n",
       "      <td>0</td>\n",
       "      <td>0</td>\n",
       "      <td>1</td>\n",
       "      <td>0</td>\n",
       "      <td>0</td>\n",
       "    </tr>\n",
       "    <tr>\n",
       "      <th>191</th>\n",
       "      <td>-1</td>\n",
       "      <td>95</td>\n",
       "      <td>20.0</td>\n",
       "      <td>1</td>\n",
       "      <td>1</td>\n",
       "      <td>0</td>\n",
       "      <td>2</td>\n",
       "      <td>0</td>\n",
       "      <td>109.1</td>\n",
       "      <td>188.8</td>\n",
       "      <td>...</td>\n",
       "      <td>1</td>\n",
       "      <td>0</td>\n",
       "      <td>0</td>\n",
       "      <td>0</td>\n",
       "      <td>0</td>\n",
       "      <td>1</td>\n",
       "      <td>0</td>\n",
       "      <td>0</td>\n",
       "      <td>0</td>\n",
       "      <td>0</td>\n",
       "    </tr>\n",
       "    <tr>\n",
       "      <th>192</th>\n",
       "      <td>-1</td>\n",
       "      <td>95</td>\n",
       "      <td>20.0</td>\n",
       "      <td>0</td>\n",
       "      <td>1</td>\n",
       "      <td>0</td>\n",
       "      <td>2</td>\n",
       "      <td>0</td>\n",
       "      <td>109.1</td>\n",
       "      <td>188.8</td>\n",
       "      <td>...</td>\n",
       "      <td>0</td>\n",
       "      <td>0</td>\n",
       "      <td>0</td>\n",
       "      <td>0</td>\n",
       "      <td>0</td>\n",
       "      <td>0</td>\n",
       "      <td>0</td>\n",
       "      <td>1</td>\n",
       "      <td>0</td>\n",
       "      <td>0</td>\n",
       "    </tr>\n",
       "  </tbody>\n",
       "</table>\n",
       "<p>193 rows × 45 columns</p>\n",
       "</div>"
      ],
      "text/plain": [
       "     symboling  normalized-losses  make  fuel-type  aspiration  num-of-doors  \\\n",
       "0            3                122   0.0          0           0             1   \n",
       "1            3                122   0.0          0           0             1   \n",
       "2            1                122   0.0          0           0             1   \n",
       "3            2                164   1.0          0           0             0   \n",
       "4            2                164   1.0          0           0             0   \n",
       "..         ...                ...   ...        ...         ...           ...   \n",
       "188         -1                 95  20.0          0           0             0   \n",
       "189         -1                 95  20.0          0           1             0   \n",
       "190         -1                 95  20.0          0           0             0   \n",
       "191         -1                 95  20.0          1           1             0   \n",
       "192         -1                 95  20.0          0           1             0   \n",
       "\n",
       "     drive-wheels  engine-location  wheel-base  length  ...  \\\n",
       "0               2                0        88.6   168.8  ...   \n",
       "1               2                0        88.6   168.8  ...   \n",
       "2               2                0        94.5   171.2  ...   \n",
       "3               1                0        99.8   176.6  ...   \n",
       "4               0                0        99.4   176.6  ...   \n",
       "..            ...              ...         ...     ...  ...   \n",
       "188             2                0       109.1   188.8  ...   \n",
       "189             2                0       109.1   188.8  ...   \n",
       "190             2                0       109.1   188.8  ...   \n",
       "191             2                0       109.1   188.8  ...   \n",
       "192             2                0       109.1   188.8  ...   \n",
       "\n",
       "     num-of-cylinders_six  num-of-cylinders_three  num-of-cylinders_twelve  \\\n",
       "0                       0                       0                        0   \n",
       "1                       0                       0                        0   \n",
       "2                       1                       0                        0   \n",
       "3                       0                       0                        0   \n",
       "4                       0                       0                        0   \n",
       "..                    ...                     ...                      ...   \n",
       "188                     0                       0                        0   \n",
       "189                     0                       0                        0   \n",
       "190                     1                       0                        0   \n",
       "191                     1                       0                        0   \n",
       "192                     0                       0                        0   \n",
       "\n",
       "     fuel-system_1bbl  fuel-system_2bbl  fuel-system_idi  fuel-system_mfi  \\\n",
       "0                   0                 0                0                0   \n",
       "1                   0                 0                0                0   \n",
       "2                   0                 0                0                0   \n",
       "3                   0                 0                0                0   \n",
       "4                   0                 0                0                0   \n",
       "..                ...               ...              ...              ...   \n",
       "188                 0                 0                0                0   \n",
       "189                 0                 0                0                0   \n",
       "190                 0                 0                0                0   \n",
       "191                 0                 0                1                0   \n",
       "192                 0                 0                0                0   \n",
       "\n",
       "     fuel-system_mpfi  fuel-system_spdi  fuel-system_spfi  \n",
       "0                   1                 0                 0  \n",
       "1                   1                 0                 0  \n",
       "2                   1                 0                 0  \n",
       "3                   1                 0                 0  \n",
       "4                   1                 0                 0  \n",
       "..                ...               ...               ...  \n",
       "188                 1                 0                 0  \n",
       "189                 1                 0                 0  \n",
       "190                 1                 0                 0  \n",
       "191                 0                 0                 0  \n",
       "192                 1                 0                 0  \n",
       "\n",
       "[193 rows x 45 columns]"
      ]
     },
     "execution_count": 37,
     "metadata": {},
     "output_type": "execute_result"
    }
   ],
   "source": [
    "data"
   ]
  },
  {
   "cell_type": "code",
   "execution_count": 38,
   "id": "ebecacad",
   "metadata": {},
   "outputs": [
    {
     "name": "stdout",
     "output_type": "stream",
     "text": [
      "<class 'pandas.core.frame.DataFrame'>\n",
      "RangeIndex: 193 entries, 0 to 192\n",
      "Data columns (total 45 columns):\n",
      " #   Column                   Non-Null Count  Dtype  \n",
      "---  ------                   --------------  -----  \n",
      " 0   symboling                193 non-null    int64  \n",
      " 1   normalized-losses        193 non-null    int64  \n",
      " 2   make                     193 non-null    float64\n",
      " 3   fuel-type                193 non-null    int64  \n",
      " 4   aspiration               193 non-null    int64  \n",
      " 5   num-of-doors             193 non-null    int64  \n",
      " 6   drive-wheels             193 non-null    int64  \n",
      " 7   engine-location          193 non-null    int64  \n",
      " 8   wheel-base               193 non-null    float64\n",
      " 9   length                   193 non-null    float64\n",
      " 10  width                    193 non-null    float64\n",
      " 11  height                   193 non-null    float64\n",
      " 12  curb-weight              193 non-null    int64  \n",
      " 13  engine-size              193 non-null    int64  \n",
      " 14  bore                     193 non-null    float64\n",
      " 15  stroke                   193 non-null    float64\n",
      " 16  compression-ratio        193 non-null    float64\n",
      " 17  horsepower               193 non-null    int64  \n",
      " 18  peak-rpm                 193 non-null    int64  \n",
      " 19  city-mpg                 193 non-null    int64  \n",
      " 20  highway-mpg              193 non-null    int64  \n",
      " 21  price                    193 non-null    int64  \n",
      " 22  body-style_convertible   193 non-null    int64  \n",
      " 23  body-style_hardtop       193 non-null    int64  \n",
      " 24  body-style_hatchback     193 non-null    int64  \n",
      " 25  body-style_sedan         193 non-null    int64  \n",
      " 26  body-style_wagon         193 non-null    int64  \n",
      " 27  engine-type_dohc         193 non-null    int64  \n",
      " 28  engine-type_l            193 non-null    int64  \n",
      " 29  engine-type_ohc          193 non-null    int64  \n",
      " 30  engine-type_ohcf         193 non-null    int64  \n",
      " 31  engine-type_ohcv         193 non-null    int64  \n",
      " 32  num-of-cylinders_eight   193 non-null    int64  \n",
      " 33  num-of-cylinders_five    193 non-null    int64  \n",
      " 34  num-of-cylinders_four    193 non-null    int64  \n",
      " 35  num-of-cylinders_six     193 non-null    int64  \n",
      " 36  num-of-cylinders_three   193 non-null    int64  \n",
      " 37  num-of-cylinders_twelve  193 non-null    int64  \n",
      " 38  fuel-system_1bbl         193 non-null    int64  \n",
      " 39  fuel-system_2bbl         193 non-null    int64  \n",
      " 40  fuel-system_idi          193 non-null    int64  \n",
      " 41  fuel-system_mfi          193 non-null    int64  \n",
      " 42  fuel-system_mpfi         193 non-null    int64  \n",
      " 43  fuel-system_spdi         193 non-null    int64  \n",
      " 44  fuel-system_spfi         193 non-null    int64  \n",
      "dtypes: float64(8), int64(37)\n",
      "memory usage: 68.0 KB\n"
     ]
    }
   ],
   "source": [
    "data.info()"
   ]
  },
  {
   "cell_type": "code",
   "execution_count": 39,
   "id": "f9509df9",
   "metadata": {
    "scrolled": false
   },
   "outputs": [],
   "source": [
    "X = data.drop(columns=['price']).values # все признаки, кроме целевого\n",
    "y = data['price'].values # целевой признак"
   ]
  },
  {
   "cell_type": "code",
   "execution_count": 40,
   "id": "6ab61b38",
   "metadata": {},
   "outputs": [],
   "source": [
    "X_train, X_test, y_train, y_test = train_test_split(X, y, test_size=0.20, random_state=42)"
   ]
  },
  {
   "cell_type": "code",
   "execution_count": 41,
   "id": "f67579b3",
   "metadata": {},
   "outputs": [],
   "source": [
    "scaler = StandardScaler()\n",
    "\n",
    "X_train = scaler.fit_transform(X_train)\n",
    "X_test = scaler.transform(X_test)"
   ]
  },
  {
   "cell_type": "code",
   "execution_count": 42,
   "id": "26aaceed",
   "metadata": {
    "scrolled": true
   },
   "outputs": [
    {
     "data": {
      "text/plain": [
       "array([[ 0.20976052,  0.26731676, -0.00218913, ..., -0.91287093,\n",
       "        -0.21821789, -0.08084521],\n",
       "       [ 0.20976052, -0.01529272,  0.33493649, ..., -0.91287093,\n",
       "        -0.21821789, -0.08084521],\n",
       "       [-1.36600145, -1.71094958,  1.00918772, ...,  1.09544512,\n",
       "        -0.21821789, -0.08084521],\n",
       "       ...,\n",
       "       [-0.57812046,  0.26731676, -0.00218913, ...,  1.09544512,\n",
       "        -0.21821789, -0.08084521],\n",
       "       [-0.57812046,  0.07891044,  1.17775053, ...,  1.09544512,\n",
       "        -0.21821789, -0.08084521],\n",
       "       [-0.57812046,  1.3035515 ,  0.16637368, ...,  1.09544512,\n",
       "        -0.21821789, -0.08084521]])"
      ]
     },
     "execution_count": 42,
     "metadata": {},
     "output_type": "execute_result"
    }
   ],
   "source": [
    "X_train"
   ]
  },
  {
   "cell_type": "code",
   "execution_count": 43,
   "id": "39ac6e13",
   "metadata": {},
   "outputs": [],
   "source": [
    "def print_metrics(y_test, y_pred):\n",
    "    print(\"R2:\", r2_score(y_test, y_pred))\n",
    "    print(\"MSE:\", mean_squared_error(y_test, y_pred))\n",
    "    print(\"RMSE:\", mean_squared_error(y_test, y_pred, squared=False))\n",
    "    print(\"MAE:\", mean_absolute_error(y_test, y_pred))"
   ]
  },
  {
   "cell_type": "markdown",
   "id": "1f7b3fa2",
   "metadata": {},
   "source": [
    "**Linreg**"
   ]
  },
  {
   "cell_type": "markdown",
   "id": "963a3f17",
   "metadata": {},
   "source": [
    "https://scikit-learn.org/stable/modules/generated/sklearn.linear_model.LinearRegression.html#sklearn.linear_model.LinearRegression"
   ]
  },
  {
   "cell_type": "code",
   "execution_count": 44,
   "id": "2bae287a",
   "metadata": {},
   "outputs": [
    {
     "data": {
      "text/plain": [
       "LinearRegression()"
      ]
     },
     "execution_count": 44,
     "metadata": {},
     "output_type": "execute_result"
    }
   ],
   "source": [
    "from sklearn.linear_model import LinearRegression\n",
    "\n",
    "lr = LinearRegression()\n",
    "lr.fit(X_train, y_train)"
   ]
  },
  {
   "cell_type": "code",
   "execution_count": 45,
   "id": "c242eaa5",
   "metadata": {
    "scrolled": true
   },
   "outputs": [
    {
     "name": "stdout",
     "output_type": "stream",
     "text": [
      "R2: 0.8767400539281057\n",
      "MSE: 13851325.431686739\n",
      "RMSE: 3721.7368837260296\n",
      "MAE: 2477.250853793811\n"
     ]
    }
   ],
   "source": [
    "print_metrics(y_test, lr.predict(X_test))"
   ]
  },
  {
   "cell_type": "markdown",
   "id": "e22bead9",
   "metadata": {},
   "source": [
    "своя реализация LinReg"
   ]
  },
  {
   "cell_type": "code",
   "execution_count": 46,
   "id": "1954b10f",
   "metadata": {},
   "outputs": [],
   "source": [
    "class linReg:\n",
    "    def __init__(self, lr = 0.0001, iters = 5000):\n",
    "        self.lr = lr\n",
    "        self.iters = iters\n",
    "\n",
    "    def fit(self, x, y):\n",
    "        x = np.c_[np.ones(x.shape[0]), x]\n",
    "        self.w = np.random.rand((x.shape[1]))\n",
    "\n",
    "        for i in range(self.iters):\n",
    "            self.w = self.w - self.lr * np.dot(x.T, (np.dot(x, self.w) - y)) * 2 / x.shape[0]\n",
    "\n",
    "    def predict(self, x):\n",
    "        x = np.c_[np.ones(x.shape[0]), x]\n",
    "        return np.dot(x, self.w)"
   ]
  },
  {
   "cell_type": "code",
   "execution_count": 47,
   "id": "72284c9c",
   "metadata": {},
   "outputs": [
    {
     "name": "stdout",
     "output_type": "stream",
     "text": [
      "R2: 0.5936454608801681\n",
      "MSE: 45664055.04273778\n",
      "RMSE: 6757.518408612572\n",
      "MAE: 5427.250776924238\n"
     ]
    }
   ],
   "source": [
    "lr_ = linReg()\n",
    "lr_.fit(X_train, y_train)\n",
    "print_metrics(y_test, lr_.predict(X_test))"
   ]
  },
  {
   "cell_type": "markdown",
   "id": "989cb31d",
   "metadata": {},
   "source": [
    "Увеличим количество итераций"
   ]
  },
  {
   "cell_type": "code",
   "execution_count": 48,
   "id": "c1a46ecb",
   "metadata": {},
   "outputs": [],
   "source": [
    "lr_ = linReg(iters=50000)\n",
    "lr_.fit(X_train, y_train)"
   ]
  },
  {
   "cell_type": "code",
   "execution_count": 49,
   "id": "012fb629",
   "metadata": {
    "scrolled": true
   },
   "outputs": [
    {
     "name": "stdout",
     "output_type": "stream",
     "text": [
      "R2: 0.8799098501086123\n",
      "MSE: 13495119.868991578\n",
      "RMSE: 3673.5704524333787\n",
      "MAE: 2343.5393152329852\n"
     ]
    }
   ],
   "source": [
    "print_metrics(y_test, lr_.predict(X_test))"
   ]
  },
  {
   "cell_type": "markdown",
   "id": "a783f11d",
   "metadata": {},
   "source": [
    "Качество готовой модели и собственной могут отличаться. В собственной модели от величины шага и кол-ва итераций зависят правильность построения модели"
   ]
  },
  {
   "cell_type": "markdown",
   "id": "3f5001d5",
   "metadata": {},
   "source": [
    "**DecisionTreeRegressor**"
   ]
  },
  {
   "cell_type": "markdown",
   "id": "d286deae",
   "metadata": {},
   "source": [
    "https://scikit-learn.org/stable/modules/generated/sklearn.tree.DecisionTreeRegressor.html#sklearn.tree.DecisionTreeRegressor"
   ]
  },
  {
   "cell_type": "code",
   "execution_count": 50,
   "id": "0dfd49dd",
   "metadata": {},
   "outputs": [
    {
     "data": {
      "text/plain": [
       "{'max_depth': 6, 'max_features': 33}"
      ]
     },
     "execution_count": 50,
     "metadata": {},
     "output_type": "execute_result"
    }
   ],
   "source": [
    "from sklearn.tree import DecisionTreeRegressor\n",
    "\n",
    "dtr = DecisionTreeRegressor(random_state=42)\n",
    "params = {'max_depth': np.arange(1,15,1),\n",
    "          'max_features': np.arange(5,X.shape[1]-1,1)}\n",
    "clf = GridSearchCV(dtr, params)\n",
    "clf.fit(X_train, y_train)\n",
    "clf.best_params_"
   ]
  },
  {
   "cell_type": "code",
   "execution_count": 51,
   "id": "0676c8dc",
   "metadata": {},
   "outputs": [
    {
     "name": "stdout",
     "output_type": "stream",
     "text": [
      "R2: 0.9349425786398476\n",
      "MSE: 7310821.915176182\n",
      "RMSE: 2703.853160801485\n",
      "MAE: 1779.9327707151238\n"
     ]
    }
   ],
   "source": [
    "print_metrics(y_test, clf.predict(X_test))"
   ]
  },
  {
   "cell_type": "markdown",
   "id": "1b2e6acd",
   "metadata": {},
   "source": [
    "Качество данной модели немного хуже, чем в предыдущей"
   ]
  },
  {
   "cell_type": "markdown",
   "id": "05de82df",
   "metadata": {},
   "source": [
    "**Lasso**"
   ]
  },
  {
   "cell_type": "markdown",
   "id": "dcbbffef",
   "metadata": {},
   "source": [
    "https://scikit-learn.org/stable/modules/generated/sklearn.linear_model.Lasso.html#sklearn.linear_model.Lasso\n",
    "\n",
    "https://scikit-learn.org/stable/modules/generated/sklearn.linear_model.LassoCV.html#sklearn.linear_model.LassoCV"
   ]
  },
  {
   "cell_type": "code",
   "execution_count": 52,
   "id": "454ee578",
   "metadata": {},
   "outputs": [],
   "source": [
    "from sklearn.linear_model import Lasso, LassoCV"
   ]
  },
  {
   "cell_type": "code",
   "execution_count": 53,
   "id": "fcd65d8f",
   "metadata": {},
   "outputs": [
    {
     "data": {
      "text/plain": [
       "{'alpha': 0.1}"
      ]
     },
     "execution_count": 53,
     "metadata": {},
     "output_type": "execute_result"
    }
   ],
   "source": [
    "lasso = Lasso(random_state=42)\n",
    "params = {'alpha': np.arange(0.1,2.05,0.05)}\n",
    "clf = GridSearchCV(lasso, params)\n",
    "clf.fit(X_train, y_train)\n",
    "clf.best_params_"
   ]
  },
  {
   "cell_type": "code",
   "execution_count": 54,
   "id": "a8d5920a",
   "metadata": {
    "scrolled": true
   },
   "outputs": [
    {
     "name": "stdout",
     "output_type": "stream",
     "text": [
      "R2: 0.8772532107057729\n",
      "MSE: 13793659.484625574\n",
      "RMSE: 3713.9816214711636\n",
      "MAE: 2470.865533170151\n"
     ]
    }
   ],
   "source": [
    "print_metrics(y_test, clf.predict(X_test))"
   ]
  },
  {
   "cell_type": "markdown",
   "id": "91d0ef3e",
   "metadata": {},
   "source": [
    "Lasso с кросс-валидацией"
   ]
  },
  {
   "cell_type": "code",
   "execution_count": 55,
   "id": "76758104",
   "metadata": {},
   "outputs": [
    {
     "data": {
      "text/plain": [
       "LassoCV(random_state=42)"
      ]
     },
     "execution_count": 55,
     "metadata": {},
     "output_type": "execute_result"
    }
   ],
   "source": [
    "lasso_cv = LassoCV(random_state=42)\n",
    "lasso_cv.fit(X_train, y_train)"
   ]
  },
  {
   "cell_type": "code",
   "execution_count": 56,
   "id": "324409a6",
   "metadata": {
    "scrolled": true
   },
   "outputs": [
    {
     "name": "stdout",
     "output_type": "stream",
     "text": [
      "R2: 0.8749743675876691\n",
      "MSE: 14049744.276502766\n",
      "RMSE: 3748.298851012652\n",
      "MAE: 2467.3398167136693\n"
     ]
    }
   ],
   "source": [
    "print_metrics(y_test, lasso_cv.predict(X_test))"
   ]
  },
  {
   "cell_type": "markdown",
   "id": "2531c02a",
   "metadata": {},
   "source": [
    "Lasso и LassoCV показывают примерно одинаковое качество."
   ]
  },
  {
   "cell_type": "markdown",
   "id": "7b72734e",
   "metadata": {},
   "source": [
    "**Ridge**"
   ]
  },
  {
   "cell_type": "markdown",
   "id": "a4614d7f",
   "metadata": {},
   "source": [
    "https://scikit-learn.org/stable/modules/generated/sklearn.linear_model.Ridge.html#sklearn.linear_model.Ridge\n",
    "\n",
    "https://scikit-learn.org/stable/modules/generated/sklearn.linear_model.RidgeCV.html#sklearn.linear_model.RidgeCV"
   ]
  },
  {
   "cell_type": "code",
   "execution_count": 57,
   "id": "3aa3d393",
   "metadata": {},
   "outputs": [],
   "source": [
    "from sklearn.linear_model import Ridge, RidgeCV"
   ]
  },
  {
   "cell_type": "code",
   "execution_count": 58,
   "id": "e8266f4f",
   "metadata": {},
   "outputs": [
    {
     "data": {
      "text/plain": [
       "{'alpha': 2.0000000000000004}"
      ]
     },
     "execution_count": 58,
     "metadata": {},
     "output_type": "execute_result"
    }
   ],
   "source": [
    "ridge = Ridge(random_state=42)\n",
    "params = {'alpha': np.arange(0.1,2.05,0.05)}\n",
    "clf = GridSearchCV(ridge, params)\n",
    "clf.fit(X_train, y_train)\n",
    "clf.best_params_"
   ]
  },
  {
   "cell_type": "code",
   "execution_count": 59,
   "id": "f5eeec43",
   "metadata": {
    "scrolled": true
   },
   "outputs": [
    {
     "name": "stdout",
     "output_type": "stream",
     "text": [
      "R2: 0.8831635449678119\n",
      "MSE: 13129486.199771138\n",
      "RMSE: 3623.4632880396534\n",
      "MAE: 2324.4374370099813\n"
     ]
    }
   ],
   "source": [
    "print_metrics(y_test, clf.predict(X_test))"
   ]
  },
  {
   "cell_type": "markdown",
   "id": "cec27fa6",
   "metadata": {},
   "source": [
    "Ridge с кросс-валидацией"
   ]
  },
  {
   "cell_type": "code",
   "execution_count": 61,
   "id": "d8d582df",
   "metadata": {
    "scrolled": true
   },
   "outputs": [
    {
     "data": {
      "text/plain": [
       "RidgeCV(alphas=array([ 0.1,  1. , 10. ]), cv=5)"
      ]
     },
     "execution_count": 61,
     "metadata": {},
     "output_type": "execute_result"
    }
   ],
   "source": [
    "ridge_cv = RidgeCV(cv=5)\n",
    "ridge_cv.fit(X_train, y_train)"
   ]
  },
  {
   "cell_type": "code",
   "execution_count": 62,
   "id": "a14fe73c",
   "metadata": {
    "scrolled": true
   },
   "outputs": [
    {
     "name": "stdout",
     "output_type": "stream",
     "text": [
      "R2: 0.8818619985825361\n",
      "MSE: 13275747.358577553\n",
      "RMSE: 3643.5898998896064\n",
      "MAE: 2378.1821708838784\n"
     ]
    }
   ],
   "source": [
    "print_metrics(y_test, ridge_cv.predict(X_test))"
   ]
  },
  {
   "cell_type": "markdown",
   "id": "2e359b37",
   "metadata": {},
   "source": [
    "Тоже самое и с Ridge и RidgeCV"
   ]
  },
  {
   "cell_type": "markdown",
   "id": "b0ba7ffe",
   "metadata": {},
   "source": [
    "**Elastic Net**"
   ]
  },
  {
   "cell_type": "markdown",
   "id": "fd89f30c",
   "metadata": {},
   "source": [
    "https://scikit-learn.org/stable/modules/generated/sklearn.linear_model.ElasticNet.html#sklearn.linear_model.ElasticNet\n",
    "\n",
    "https://scikit-learn.org/stable/modules/generated/sklearn.linear_model.ElasticNetCV.html#sklearn.linear_model.ElasticNetCV"
   ]
  },
  {
   "cell_type": "code",
   "execution_count": 63,
   "id": "4d8e5537",
   "metadata": {},
   "outputs": [],
   "source": [
    "from sklearn.linear_model import ElasticNet, ElasticNetCV"
   ]
  },
  {
   "cell_type": "code",
   "execution_count": 64,
   "id": "c5ebb888",
   "metadata": {},
   "outputs": [
    {
     "data": {
      "text/plain": [
       "{'alpha': 0.1, 'l1_ratio': 0.8}"
      ]
     },
     "execution_count": 64,
     "metadata": {},
     "output_type": "execute_result"
    }
   ],
   "source": [
    "params = {'alpha': np.arange(0.1,2.05,0.05),\n",
    "          'l1_ratio': np.arange(0.1,1.1,0.1)}\n",
    "\n",
    "clf = GridSearchCV(ElasticNet(random_state=42), params)\n",
    "clf.fit(X_train, y_train)\n",
    "clf.best_params_"
   ]
  },
  {
   "cell_type": "code",
   "execution_count": 65,
   "id": "4112a854",
   "metadata": {
    "scrolled": true
   },
   "outputs": [
    {
     "name": "stdout",
     "output_type": "stream",
     "text": [
      "R2: 0.8831604824735886\n",
      "MSE: 13129830.347285984\n",
      "RMSE: 3623.510776482662\n",
      "MAE: 2313.878317380594\n"
     ]
    }
   ],
   "source": [
    "print_metrics(y_test, clf.predict(X_test))"
   ]
  },
  {
   "cell_type": "markdown",
   "id": "f9230eb2",
   "metadata": {},
   "source": [
    "ElasticNet без гиперпараметров"
   ]
  },
  {
   "cell_type": "code",
   "execution_count": 66,
   "id": "43a2c3f7",
   "metadata": {},
   "outputs": [
    {
     "name": "stdout",
     "output_type": "stream",
     "text": [
      "R2: 0.8367761828478278\n",
      "MSE: 18342261.875225585\n",
      "RMSE: 4282.786695041627\n",
      "MAE: 2711.483915633681\n"
     ]
    }
   ],
   "source": [
    "print_metrics(y_test, ElasticNet(random_state=42).fit(X_train, y_train).predict(X_test))"
   ]
  },
  {
   "cell_type": "markdown",
   "id": "b1a794a9",
   "metadata": {},
   "source": [
    "ElasticNet с кросс-валидацией"
   ]
  },
  {
   "cell_type": "code",
   "execution_count": 67,
   "id": "69067b86",
   "metadata": {},
   "outputs": [
    {
     "data": {
      "text/plain": [
       "ElasticNetCV(cv=5, random_state=42)"
      ]
     },
     "execution_count": 67,
     "metadata": {},
     "output_type": "execute_result"
    }
   ],
   "source": [
    "en_cv = ElasticNetCV(cv=5, random_state=42)\n",
    "en_cv.fit(X_train, y_train)"
   ]
  },
  {
   "cell_type": "code",
   "execution_count": 68,
   "id": "fe4b2341",
   "metadata": {},
   "outputs": [
    {
     "name": "stdout",
     "output_type": "stream",
     "text": [
      "R2: 0.5896081689738716\n",
      "MSE: 46117745.36014398\n",
      "RMSE: 6791.004738633598\n",
      "MAE: 4339.627064694045\n"
     ]
    }
   ],
   "source": [
    "print_metrics(y_test, en_cv.predict(X_test))"
   ]
  }
 ],
 "metadata": {
  "kernelspec": {
   "display_name": "Python 3",
   "language": "python",
   "name": "python3"
  },
  "language_info": {
   "codemirror_mode": {
    "name": "ipython",
    "version": 3
   },
   "file_extension": ".py",
   "mimetype": "text/x-python",
   "name": "python",
   "nbconvert_exporter": "python",
   "pygments_lexer": "ipython3",
   "version": "3.8.8"
  }
 },
 "nbformat": 4,
 "nbformat_minor": 5
}
